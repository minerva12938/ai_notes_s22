{
  "nbformat": 4,
  "nbformat_minor": 0,
  "metadata": {
    "colab": {
      "name": "w3_d1_intro_to_pandas.ipynb",
      "provenance": [],
      "authorship_tag": "ABX9TyObJMEYOMXpxHMEzxT8CLV2",
      "include_colab_link": true
    },
    "kernelspec": {
      "name": "python3",
      "display_name": "Python 3"
    },
    "language_info": {
      "name": "python"
    }
  },
  "cells": [
    {
      "cell_type": "markdown",
      "metadata": {
        "id": "view-in-github",
        "colab_type": "text"
      },
      "source": [
        "<a href=\"https://colab.research.google.com/github/minerva12938/ai_notes_s22/blob/main/w3_d1_intro_to_pandas.ipynb\" target=\"_parent\"><img src=\"https://colab.research.google.com/assets/colab-badge.svg\" alt=\"Open In Colab\"/></a>"
      ]
    },
    {
      "cell_type": "markdown",
      "source": [
        "types of programming languages\n",
        "1. compiled: \n",
        "  source code -> dll -> exe run exe\n",
        "  needs to compile & create executable to run\n",
        "  ex: java, c++, c\n",
        "\n",
        "2. interpreted: \n",
        "  interpreter goes line by line through the code\n",
        "  doesn't need to be compiled first\n",
        "  ex: python, pearl, javascript, r\n",
        "\n",
        "catching errors:\n",
        "*   compiled lang: errors caught @ build time\n",
        "*   interpreted lang: errors caught @ run time\n",
        "\n",
        "compiled lang: \n",
        "- better memory management\n",
        "- allocation/deallocation of memory\n",
        "- can have free garbage collection\n",
        "\n",
        "interpreted lang:\n",
        "- easier to learn bc line by line\n",
        "\n",
        "running code: info gets loaded into memory\n",
        "\n",
        "---\n",
        "\n",
        "2nd classification:\n",
        "based on type safety\n",
        "1. type safe (strongly types)\n",
        "ex: Java, C,\n",
        "2. dynamically typed/weakly typed\n",
        "ex: python\n",
        "\n",
        "---\n",
        "\n",
        "python: \n",
        "1. interpreted & weakly typed\n",
        "2. base version ex: scalar, list, syntax\n",
        "3. add-on libraries: numerical processing: numpy (arrays, 2D, matrices); data files: csv, tab sep (pandas); plotting: matplotlist, seaborn; text processing; deep learning: tensorflow, pytorch, jax; gaming; reinforcement learning; text mining\n",
        "\n",
        "---\n",
        "\n",
        "upcoming languages: \n",
        "rust, go, julia\n",
        "\n",
        "ios:\n",
        "- objective c\n",
        "- swift\n",
        "\n",
        "android: \n",
        "- java\n",
        "\n",
        "cross-platform developer tools\n",
        "\n",
        "---\n",
        "\n",
        "artificial intelligence:\n",
        "- giving intelligence to machines\n",
        "- having machines learn to reason & learn like humans\n",
        "- giving human-like intelligenec to non-humans\n",
        "\n",
        "sub-fields:\n",
        "- reasoning\n",
        "- perception\n",
        "- machine learning: getting machines to \"learn\"\n",
        "\n",
        "maching learning: to learn automatically FROM DATA without EXPLICIT programming ex: spam classifier\n",
        "\n",
        "choices:\n",
        "- explicitly program\n",
        "- give machine data & ask it to train itself\n",
        "  - ex: give it 1000 spam emails & 1000 non-spam ones\n",
        "  - it'll learn to separate these two classes\n",
        "- once trained: can work for ANY data in the world\n",
        "\n",
        "machine learning (ml) vs explicit programming (ep)\n",
        "- ep: \n",
        "  - programming\n",
        "  - have to specify important attributes\n",
        "- ml: \n",
        "  - supply training data to machine; less programmer work\n",
        "  - system chooses important attributes itself\n",
        "  - can ask system to re-train until it meets some criteria/accuracy\n",
        "\n",
        "---\n",
        "types of learning:\n",
        "\n",
        "1. supervised learning (70% of effort)\n",
        "- always has an answer, no idk or not sure; only spam or not spam for ex\n",
        "  - can only do a specific task\n",
        "- learning to predict smth based on labeled training data \n",
        "  - label ex: spam vs not spam, price ($), temperature (C/F)\n",
        "- models (what type of brain does the machine have?):\n",
        "    - linear regression\n",
        "    - dicision tree\n",
        "    - neural network\n",
        "    - SVM\n",
        "2. unsupervised learning/data mining (20% of the time)\n",
        "- machine has more freedom\n",
        "- \"tell me smth i don't know\" or \"find the needle in the haystack\"\n",
        "- could find:\n",
        "  - patterns, outliers\n",
        "  - association rules\n",
        "  - co-occurance\n",
        "  - recommender systems\n",
        "- type of data given: (data) <- NO LABELS\n",
        "3. re-enforcement learning (10% of time)\n",
        "- no data given\n",
        "- given: agent in an environment & interaction rules instead\n",
        "- it generates it's own data\n",
        "- ex: \n",
        "  - interaction rules: reward & punishment\n",
        "  - agent interacts with environment and keeps track (makes it's own data)\n",
        "  - tries to max total reward\n",
        "- can the agent become smarter than the trainer?\n",
        "  - deep blue chess player\n",
        "    - IBM super computer that beat some of the world's best players\n",
        "  - no if explicitly played bc programmer controls how well it does\n",
        "  - yes if re-enforcement learning"
      ],
      "metadata": {
        "id": "ew1r6NVusrKs"
      }
    },
    {
      "cell_type": "markdown",
      "source": [
        "pandas\n",
        "- series: ordered sequence of elements\n",
        "- data frame: multiple series/rows & columns and combinations\n",
        "\n",
        "operations: create, name, index slicing, math, ..."
      ],
      "metadata": {
        "id": "fYnVHVopUaO0"
      }
    },
    {
      "cell_type": "code",
      "execution_count": 524,
      "metadata": {
        "colab": {
          "base_uri": "https://localhost:8080/"
        },
        "id": "IaciOK2gq3wF",
        "outputId": "e6f782f8-09f3-4c36-cf30-798992c314a6"
      },
      "outputs": [
        {
          "output_type": "execute_result",
          "data": {
            "text/plain": [
              "pandas.core.series.Series"
            ]
          },
          "metadata": {},
          "execution_count": 524
        }
      ],
      "source": [
        "import pandas as pd\n",
        "import numpy as np\n",
        "\n",
        "scores = pd.Series([43, 54, 12, 86, 98, 24, 78, 97, 54])\n",
        "type(scores) # = pandas.core.series.Series"
      ]
    },
    {
      "cell_type": "code",
      "source": [
        "lt = [43, 54, 12, 86, 98, 24, 78, 97, 54]\n",
        "\n",
        "print(lt)\n",
        "print(scores)"
      ],
      "metadata": {
        "colab": {
          "base_uri": "https://localhost:8080/"
        },
        "id": "Gc1k2hKDUyOl",
        "outputId": "ba50459b-ee54-4ca6-bebd-1bdb40a64320"
      },
      "execution_count": 525,
      "outputs": [
        {
          "output_type": "stream",
          "name": "stdout",
          "text": [
            "[43, 54, 12, 86, 98, 24, 78, 97, 54]\n",
            "0    43\n",
            "1    54\n",
            "2    12\n",
            "3    86\n",
            "4    98\n",
            "5    24\n",
            "6    78\n",
            "7    97\n",
            "8    54\n",
            "dtype: int64\n"
          ]
        }
      ]
    },
    {
      "cell_type": "code",
      "source": [
        "scores.name = \"scores of student\"\n",
        "print(scores)"
      ],
      "metadata": {
        "colab": {
          "base_uri": "https://localhost:8080/"
        },
        "id": "o6QqFB0MVS9g",
        "outputId": "2ca8f3ea-63ba-4cd8-bf8e-86083ec70e8a"
      },
      "execution_count": 526,
      "outputs": [
        {
          "output_type": "stream",
          "name": "stdout",
          "text": [
            "0    43\n",
            "1    54\n",
            "2    12\n",
            "3    86\n",
            "4    98\n",
            "5    24\n",
            "6    78\n",
            "7    97\n",
            "8    54\n",
            "Name: scores of student, dtype: int64\n"
          ]
        }
      ]
    },
    {
      "cell_type": "code",
      "source": [
        "scores[1]\n",
        "\n",
        "print(scores[1:5])\n",
        "\n",
        "scores.values\n",
        "\n",
        "#pandas uses numpy as a base data structure so many things are similar\n",
        "\n",
        "#changes indexing values from int to letters\n",
        "scores.index = ['a', 'b', 'c', 'd', 'e', 'f', 'g', 'h', 'i']\n",
        "\n",
        "print(scores)\n",
        "print(scores['f'])\n",
        "#inclusive now\n",
        "print(scores['a': 'e'])"
      ],
      "metadata": {
        "colab": {
          "base_uri": "https://localhost:8080/"
        },
        "id": "NhnosXaTVhiF",
        "outputId": "2b8bea22-c5df-4742-b96d-7daaf270f4fd"
      },
      "execution_count": 527,
      "outputs": [
        {
          "output_type": "stream",
          "name": "stdout",
          "text": [
            "1    54\n",
            "2    12\n",
            "3    86\n",
            "4    98\n",
            "Name: scores of student, dtype: int64\n",
            "a    43\n",
            "b    54\n",
            "c    12\n",
            "d    86\n",
            "e    98\n",
            "f    24\n",
            "g    78\n",
            "h    97\n",
            "i    54\n",
            "Name: scores of student, dtype: int64\n",
            "24\n",
            "a    43\n",
            "b    54\n",
            "c    12\n",
            "d    86\n",
            "e    98\n",
            "Name: scores of student, dtype: int64\n"
          ]
        }
      ]
    },
    {
      "cell_type": "code",
      "source": [
        "dummy_scores = pd.Series([1, 2, 3, 4, 5], index = ['qw', 'we', 'er', 'rt', 'ty'])\n",
        "\n",
        "print(dummy_scores)\n",
        "print(dummy_scores['ty'])"
      ],
      "metadata": {
        "colab": {
          "base_uri": "https://localhost:8080/"
        },
        "id": "1M-YT0BkW9Ir",
        "outputId": "df87514e-4ded-47dc-c4f6-6becd14234aa"
      },
      "execution_count": 528,
      "outputs": [
        {
          "output_type": "stream",
          "name": "stdout",
          "text": [
            "qw    1\n",
            "we    2\n",
            "er    3\n",
            "rt    4\n",
            "ty    5\n",
            "dtype: int64\n",
            "5\n"
          ]
        }
      ]
    },
    {
      "cell_type": "code",
      "source": [
        "print(scores)\n",
        "\n",
        "#index using an int value\n",
        "print()\n",
        "print(scores.iloc[0])\n",
        "print(scores.iloc[-1])\n",
        "print()\n",
        "print(scores.iloc[:])\n",
        "\n",
        "print()\n",
        "print(scores[['a', 'b']])"
      ],
      "metadata": {
        "colab": {
          "base_uri": "https://localhost:8080/"
        },
        "id": "5VFNtmEJXpsW",
        "outputId": "17ebcc5a-d30d-40f2-f49c-c2be07f73f8e"
      },
      "execution_count": 529,
      "outputs": [
        {
          "output_type": "stream",
          "name": "stdout",
          "text": [
            "a    43\n",
            "b    54\n",
            "c    12\n",
            "d    86\n",
            "e    98\n",
            "f    24\n",
            "g    78\n",
            "h    97\n",
            "i    54\n",
            "Name: scores of student, dtype: int64\n",
            "\n",
            "43\n",
            "54\n",
            "\n",
            "a    43\n",
            "b    54\n",
            "c    12\n",
            "d    86\n",
            "e    98\n",
            "f    24\n",
            "g    78\n",
            "h    97\n",
            "i    54\n",
            "Name: scores of student, dtype: int64\n",
            "\n",
            "a    43\n",
            "b    54\n",
            "Name: scores of student, dtype: int64\n"
          ]
        }
      ]
    },
    {
      "cell_type": "code",
      "source": [
        "print(scores > 50)\n",
        "\n",
        "print()\n",
        "print(scores[scores>50])\n",
        "\n",
        "print()\n",
        "print(scores[scores > scores.mean()])"
      ],
      "metadata": {
        "colab": {
          "base_uri": "https://localhost:8080/"
        },
        "id": "zECC9vmZYWtz",
        "outputId": "9c049c5f-6b4f-4356-984f-9c2e1687a807"
      },
      "execution_count": 530,
      "outputs": [
        {
          "output_type": "stream",
          "name": "stdout",
          "text": [
            "a    False\n",
            "b     True\n",
            "c    False\n",
            "d     True\n",
            "e     True\n",
            "f    False\n",
            "g     True\n",
            "h     True\n",
            "i     True\n",
            "Name: scores of student, dtype: bool\n",
            "\n",
            "b    54\n",
            "d    86\n",
            "e    98\n",
            "g    78\n",
            "h    97\n",
            "i    54\n",
            "Name: scores of student, dtype: int64\n",
            "\n",
            "d    86\n",
            "e    98\n",
            "g    78\n",
            "h    97\n",
            "Name: scores of student, dtype: int64\n"
          ]
        }
      ]
    },
    {
      "cell_type": "code",
      "source": [
        "print(scores + 10)\n",
        "\n",
        "print(scores - 10)"
      ],
      "metadata": {
        "colab": {
          "base_uri": "https://localhost:8080/"
        },
        "id": "DLOcc3pDZGRD",
        "outputId": "04e66c19-c133-483e-f0d8-4da92aee98b0"
      },
      "execution_count": 531,
      "outputs": [
        {
          "output_type": "stream",
          "name": "stdout",
          "text": [
            "a     53\n",
            "b     64\n",
            "c     22\n",
            "d     96\n",
            "e    108\n",
            "f     34\n",
            "g     88\n",
            "h    107\n",
            "i     64\n",
            "Name: scores of student, dtype: int64\n",
            "a    33\n",
            "b    44\n",
            "c     2\n",
            "d    76\n",
            "e    88\n",
            "f    14\n",
            "g    68\n",
            "h    87\n",
            "i    44\n",
            "Name: scores of student, dtype: int64\n"
          ]
        }
      ]
    },
    {
      "cell_type": "code",
      "source": [
        "scores['a'] = 60\n",
        "print(scores)"
      ],
      "metadata": {
        "colab": {
          "base_uri": "https://localhost:8080/"
        },
        "id": "zcORdkL9Zmv-",
        "outputId": "406d127d-6d01-4c83-eb1a-0a2555e3327f"
      },
      "execution_count": 532,
      "outputs": [
        {
          "output_type": "stream",
          "name": "stdout",
          "text": [
            "a    60\n",
            "b    54\n",
            "c    12\n",
            "d    86\n",
            "e    98\n",
            "f    24\n",
            "g    78\n",
            "h    97\n",
            "i    54\n",
            "Name: scores of student, dtype: int64\n"
          ]
        }
      ]
    },
    {
      "cell_type": "code",
      "source": [
        "from numpy.random import randn\n",
        "X = pd.DataFrame (randn(4, 4))\n",
        "\n",
        "print(X)\n",
        "print()\n",
        "\n",
        "#prints first column, NOT row\n",
        "print(X[0])\n",
        "print()\n",
        "\n",
        "#prints first row, NOT column\n",
        "print(X.iloc[0])\n",
        "print()\n",
        "\n",
        "#prints first column, NOT row\n",
        "print(X.iloc[:, 0])"
      ],
      "metadata": {
        "colab": {
          "base_uri": "https://localhost:8080/"
        },
        "id": "hfmwRK9klw1u",
        "outputId": "e4f42822-3982-4520-8523-7e052fb6e7df"
      },
      "execution_count": 533,
      "outputs": [
        {
          "output_type": "stream",
          "name": "stdout",
          "text": [
            "          0         1         2         3\n",
            "0 -0.092806  0.446866 -0.357258  1.531169\n",
            "1 -0.433613 -1.557362 -1.359538 -0.406941\n",
            "2  1.413215  1.071095 -0.112571  0.680413\n",
            "3  0.390080  0.801314 -1.081638  1.364172\n",
            "\n",
            "0   -0.092806\n",
            "1   -0.433613\n",
            "2    1.413215\n",
            "3    0.390080\n",
            "Name: 0, dtype: float64\n",
            "\n",
            "0   -0.092806\n",
            "1    0.446866\n",
            "2   -0.357258\n",
            "3    1.531169\n",
            "Name: 0, dtype: float64\n",
            "\n",
            "0   -0.092806\n",
            "1   -0.433613\n",
            "2    1.413215\n",
            "3    0.390080\n",
            "Name: 0, dtype: float64\n"
          ]
        }
      ]
    },
    {
      "cell_type": "code",
      "source": [
        "X.index = ['a', 'b', 'c', 'd']\n",
        "X.columns = [1, 2, 3, 4]\n",
        "print(X)"
      ],
      "metadata": {
        "colab": {
          "base_uri": "https://localhost:8080/"
        },
        "id": "8L0VEEIVnSQq",
        "outputId": "d6bf65c9-446a-4af1-e814-77fcecc189ea"
      },
      "execution_count": 534,
      "outputs": [
        {
          "output_type": "stream",
          "name": "stdout",
          "text": [
            "          1         2         3         4\n",
            "a -0.092806  0.446866 -0.357258  1.531169\n",
            "b -0.433613 -1.557362 -1.359538 -0.406941\n",
            "c  1.413215  1.071095 -0.112571  0.680413\n",
            "d  0.390080  0.801314 -1.081638  1.364172\n"
          ]
        }
      ]
    },
    {
      "cell_type": "code",
      "source": [
        "print(X[1])\n",
        "print()\n",
        "print(X[4])\n",
        "print()\n",
        "\n",
        "#prints row 2/'b'\n",
        "print(X.iloc[1])\n",
        "print()\n",
        "\n",
        "#prints row 'b'\n",
        "print(X.loc['b'])"
      ],
      "metadata": {
        "colab": {
          "base_uri": "https://localhost:8080/"
        },
        "id": "5pmRnqrynvh7",
        "outputId": "9d64f5b9-35de-40aa-e079-7f23225341cf"
      },
      "execution_count": 535,
      "outputs": [
        {
          "output_type": "stream",
          "name": "stdout",
          "text": [
            "a   -0.092806\n",
            "b   -0.433613\n",
            "c    1.413215\n",
            "d    0.390080\n",
            "Name: 1, dtype: float64\n",
            "\n",
            "a    1.531169\n",
            "b   -0.406941\n",
            "c    0.680413\n",
            "d    1.364172\n",
            "Name: 4, dtype: float64\n",
            "\n",
            "1   -0.433613\n",
            "2   -1.557362\n",
            "3   -1.359538\n",
            "4   -0.406941\n",
            "Name: b, dtype: float64\n",
            "\n",
            "1   -0.433613\n",
            "2   -1.557362\n",
            "3   -1.359538\n",
            "4   -0.406941\n",
            "Name: b, dtype: float64\n"
          ]
        }
      ]
    },
    {
      "cell_type": "code",
      "source": [
        "print(X[[1, 2]])\n",
        "print()\n",
        "\n",
        "print(X.loc[['a', 'c']])\n",
        "print()\n",
        "\n",
        "#note: iloc == use an integer to index it\n",
        "#loc == us the letter/name to index it\n",
        "\n",
        "#iloc is NOT inclusive of last #\n",
        "print(X.iloc[1:3])\n",
        "print()\n",
        "\n",
        "#loc IS inclusive of last name\n",
        "print(X.loc['a':'c'])"
      ],
      "metadata": {
        "colab": {
          "base_uri": "https://localhost:8080/"
        },
        "id": "Sd3ydbGFoz0S",
        "outputId": "56b1b452-c0b5-47a6-a0f7-f04eaa8937f5"
      },
      "execution_count": 536,
      "outputs": [
        {
          "output_type": "stream",
          "name": "stdout",
          "text": [
            "          1         2\n",
            "a -0.092806  0.446866\n",
            "b -0.433613 -1.557362\n",
            "c  1.413215  1.071095\n",
            "d  0.390080  0.801314\n",
            "\n",
            "          1         2         3         4\n",
            "a -0.092806  0.446866 -0.357258  1.531169\n",
            "c  1.413215  1.071095 -0.112571  0.680413\n",
            "\n",
            "          1         2         3         4\n",
            "b -0.433613 -1.557362 -1.359538 -0.406941\n",
            "c  1.413215  1.071095 -0.112571  0.680413\n",
            "\n",
            "          1         2         3         4\n",
            "a -0.092806  0.446866 -0.357258  1.531169\n",
            "b -0.433613 -1.557362 -1.359538 -0.406941\n",
            "c  1.413215  1.071095 -0.112571  0.680413\n"
          ]
        }
      ]
    },
    {
      "cell_type": "code",
      "source": [
        "print(X.index)\n",
        "print()\n",
        "\n",
        "print(X.columns)\n",
        "print()\n",
        "\n",
        "print(X.info)\n",
        "print()\n",
        "\n",
        "print(X.size)\n",
        "print()\n",
        "\n",
        "#prints ([rows], [columns])\n",
        "print(X.shape)\n",
        "print()"
      ],
      "metadata": {
        "colab": {
          "base_uri": "https://localhost:8080/"
        },
        "id": "GHEemtvMpmMZ",
        "outputId": "e5783b30-03aa-4c6f-d7d6-348fb70a6f9a"
      },
      "execution_count": 537,
      "outputs": [
        {
          "output_type": "stream",
          "name": "stdout",
          "text": [
            "Index(['a', 'b', 'c', 'd'], dtype='object')\n",
            "\n",
            "Int64Index([1, 2, 3, 4], dtype='int64')\n",
            "\n",
            "<bound method DataFrame.info of           1         2         3         4\n",
            "a -0.092806  0.446866 -0.357258  1.531169\n",
            "b -0.433613 -1.557362 -1.359538 -0.406941\n",
            "c  1.413215  1.071095 -0.112571  0.680413\n",
            "d  0.390080  0.801314 -1.081638  1.364172>\n",
            "\n",
            "16\n",
            "\n",
            "(4, 4)\n",
            "\n"
          ]
        }
      ]
    },
    {
      "cell_type": "code",
      "source": [
        "print(X.describe())\n",
        "print()\n",
        "\n",
        "#axis 0: sum for each column\n",
        "print(X.sum(axis = 0))\n",
        "print()\n",
        "\n",
        "#axis 1: sum for each row\n",
        "print(X.sum(axis = 1))"
      ],
      "metadata": {
        "colab": {
          "base_uri": "https://localhost:8080/"
        },
        "id": "CEnqF-uHqHt6",
        "outputId": "82081bcc-982c-4fba-caa6-d480d3c09910"
      },
      "execution_count": 538,
      "outputs": [
        {
          "output_type": "stream",
          "name": "stdout",
          "text": [
            "              1         2         3         4\n",
            "count  4.000000  4.000000  4.000000  4.000000\n",
            "mean   0.319219  0.190478 -0.727751  0.792203\n",
            "std    0.803818  1.192936  0.588813  0.880087\n",
            "min   -0.433613 -1.557362 -1.359538 -0.406941\n",
            "25%   -0.178008 -0.054191 -1.151113  0.408575\n",
            "50%    0.148637  0.624090 -0.719448  1.022293\n",
            "75%    0.645864  0.868760 -0.296087  1.405921\n",
            "max    1.413215  1.071095 -0.112571  1.531169\n",
            "\n",
            "1    1.276877\n",
            "2    0.761913\n",
            "3   -2.911005\n",
            "4    3.168813\n",
            "dtype: float64\n",
            "\n",
            "a    1.527971\n",
            "b   -3.757453\n",
            "c    3.052152\n",
            "d    1.473929\n",
            "dtype: float64\n"
          ]
        }
      ]
    },
    {
      "cell_type": "code",
      "source": [
        "#adding a new column to data frame x\n",
        "Y = pd.DataFrame(randn(5, 4))\n",
        "Y['new_column'] = [1, 2, 3, 4, 5]\n",
        "\n",
        "print(Y)"
      ],
      "metadata": {
        "colab": {
          "base_uri": "https://localhost:8080/"
        },
        "id": "6nbwmm3tqoxL",
        "outputId": "77b7209c-7275-46ea-8352-00d73ca20c24"
      },
      "execution_count": 539,
      "outputs": [
        {
          "output_type": "stream",
          "name": "stdout",
          "text": [
            "          0         1         2         3  new_column\n",
            "0  0.079115  1.036777  0.440887 -0.360984           1\n",
            "1 -0.369473 -0.653177 -1.166276  0.360112           2\n",
            "2  1.847587  0.444131  0.083178 -0.822637           3\n",
            "3  0.745347  0.871413  1.155288 -1.075046           4\n",
            "4  0.443034  1.314098 -0.996561  1.027849           5\n"
          ]
        }
      ]
    },
    {
      "cell_type": "code",
      "source": [
        "print(X)\n",
        "# print(X.loc['a':'b', 1:3])\n",
        "\n",
        "print(X.iloc[1:2, 1:3])"
      ],
      "metadata": {
        "colab": {
          "base_uri": "https://localhost:8080/"
        },
        "id": "fLaJXShYs0Mi",
        "outputId": "18b7793d-c97a-47cd-a5c4-b2e3287fd093"
      },
      "execution_count": 540,
      "outputs": [
        {
          "output_type": "stream",
          "name": "stdout",
          "text": [
            "          1         2         3         4\n",
            "a -0.092806  0.446866 -0.357258  1.531169\n",
            "b -0.433613 -1.557362 -1.359538 -0.406941\n",
            "c  1.413215  1.071095 -0.112571  0.680413\n",
            "d  0.390080  0.801314 -1.081638  1.364172\n",
            "          2         3\n",
            "b -1.557362 -1.359538\n"
          ]
        }
      ]
    },
    {
      "cell_type": "code",
      "source": [
        "print(X > X.mean())\n",
        "print()\n",
        "\n",
        "print(X[2] > X.mean(axis = 1))\n",
        "print()"
      ],
      "metadata": {
        "colab": {
          "base_uri": "https://localhost:8080/"
        },
        "id": "QudVUH62tnzh",
        "outputId": "39b5a7a8-1386-4473-e07b-dceaadad2390"
      },
      "execution_count": 541,
      "outputs": [
        {
          "output_type": "stream",
          "name": "stdout",
          "text": [
            "       1      2      3      4\n",
            "a  False   True   True   True\n",
            "b  False  False  False  False\n",
            "c   True   True   True  False\n",
            "d   True   True  False   True\n",
            "\n",
            "a     True\n",
            "b    False\n",
            "c     True\n",
            "d     True\n",
            "dtype: bool\n",
            "\n"
          ]
        }
      ]
    },
    {
      "cell_type": "code",
      "source": [
        "#row 3 or 'c'\n",
        "X.iloc[2] > X.mean(axis = 0)"
      ],
      "metadata": {
        "colab": {
          "base_uri": "https://localhost:8080/"
        },
        "id": "V9YyLWKIuQkU",
        "outputId": "29b61636-9cc4-4170-837a-f79546867942"
      },
      "execution_count": 542,
      "outputs": [
        {
          "output_type": "execute_result",
          "data": {
            "text/plain": [
              "1     True\n",
              "2     True\n",
              "3     True\n",
              "4    False\n",
              "dtype: bool"
            ]
          },
          "metadata": {},
          "execution_count": 542
        }
      ]
    },
    {
      "cell_type": "code",
      "source": [
        "#adding rows & columns\n",
        "\n",
        "#adding column\n",
        "#make sure length matches, cannot be too small or big\n",
        "X[5] = [1, 2, 3, 4]\n",
        "print(X)\n",
        "print()\n",
        "\n",
        "#adding multiple columns\n",
        "X = X.append([{0:1, 1:2, 2:3, 3:4, 4:5, 5:6}, {0:1, 1:2, 2:3, 3:4, 4:5, 5:6}], ignore_index = True)\n",
        "\n",
        "#adding row\n",
        "# X.loc[len(X.index)] = [0, 0, 0, 0, 0 ,0]\n",
        "print(X)\n",
        "print()\n",
        "\n",
        "#deleting a row\n",
        "X = X.drop(4)\n",
        "print(X)\n",
        "print()\n",
        "\n",
        "#deleting a column\n",
        "X.drop(5, inplace = True, axis = 1)\n",
        "print(X)"
      ],
      "metadata": {
        "colab": {
          "base_uri": "https://localhost:8080/"
        },
        "id": "gk3A24Xru0fH",
        "outputId": "5d53c19c-56a6-4335-f601-d99f878dcb6f"
      },
      "execution_count": 544,
      "outputs": [
        {
          "output_type": "stream",
          "name": "stdout",
          "text": [
            "          1         2         3         4  5\n",
            "a -0.092806  0.446866 -0.357258  1.531169  1\n",
            "b -0.433613 -1.557362 -1.359538 -0.406941  2\n",
            "c  1.413215  1.071095 -0.112571  0.680413  3\n",
            "d  0.390080  0.801314 -1.081638  1.364172  4\n",
            "\n",
            "     0         1         2         3         4  5\n",
            "0  NaN -0.092806  0.446866 -0.357258  1.531169  1\n",
            "1  NaN -0.433613 -1.557362 -1.359538 -0.406941  2\n",
            "2  NaN  1.413215  1.071095 -0.112571  0.680413  3\n",
            "3  NaN  0.390080  0.801314 -1.081638  1.364172  4\n",
            "4  1.0  2.000000  3.000000  4.000000  5.000000  6\n",
            "5  1.0  2.000000  3.000000  4.000000  5.000000  6\n",
            "\n",
            "     0         1         2         3         4  5\n",
            "0  NaN -0.092806  0.446866 -0.357258  1.531169  1\n",
            "1  NaN -0.433613 -1.557362 -1.359538 -0.406941  2\n",
            "2  NaN  1.413215  1.071095 -0.112571  0.680413  3\n",
            "3  NaN  0.390080  0.801314 -1.081638  1.364172  4\n",
            "5  1.0  2.000000  3.000000  4.000000  5.000000  6\n",
            "\n",
            "     0         1         2         3         4\n",
            "0  NaN -0.092806  0.446866 -0.357258  1.531169\n",
            "1  NaN -0.433613 -1.557362 -1.359538 -0.406941\n",
            "2  NaN  1.413215  1.071095 -0.112571  0.680413\n",
            "3  NaN  0.390080  0.801314 -1.081638  1.364172\n",
            "5  1.0  2.000000  3.000000  4.000000  5.000000\n"
          ]
        }
      ]
    },
    {
      "cell_type": "code",
      "source": [
        "#key value pair\n",
        "dt = {1: 'naga', 2: 'ram', 'Q': 123412}\n",
        "dt['Q'] = 'no'\n",
        "print"
      ],
      "metadata": {
        "id": "b4a9PvPhvyFT"
      },
      "execution_count": null,
      "outputs": []
    }
  ]
}