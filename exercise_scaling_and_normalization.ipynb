{
  "metadata": {
    "kernelspec": {
      "display_name": "Python 3",
      "language": "python",
      "name": "python3"
    },
    "language_info": {
      "codemirror_mode": {
        "name": "ipython",
        "version": 3
      },
      "file_extension": ".py",
      "mimetype": "text/x-python",
      "name": "python",
      "nbconvert_exporter": "python",
      "pygments_lexer": "ipython3",
      "version": "3.6.5"
    },
    "colab": {
      "name": "exercise_scaling_and_normalization.ipynb",
      "provenance": [],
      "collapsed_sections": [],
      "include_colab_link": true
    }
  },
  "nbformat_minor": 0,
  "nbformat": 4,
  "cells": [
    {
      "cell_type": "markdown",
      "metadata": {
        "id": "view-in-github",
        "colab_type": "text"
      },
      "source": [
        "<a href=\"https://colab.research.google.com/github/minerva12938/ai_notes_s22/blob/main/exercise_scaling_and_normalization.ipynb\" target=\"_parent\"><img src=\"https://colab.research.google.com/assets/colab-badge.svg\" alt=\"Open In Colab\"/></a>"
      ]
    },
    {
      "cell_type": "markdown",
      "source": [
        "In this exercise, you'll apply what you learned in the **Scaling and normalization** tutorial.\n",
        "\n",
        "\n"
      ],
      "metadata": {
        "id": "P9m4WNRF2mg5"
      }
    },
    {
      "cell_type": "markdown",
      "source": [
        "\n",
        "\n",
        "The next code cell loads in the libraries and dataset we'll be using. "
      ],
      "metadata": {
        "id": "xneK6mfD2mg6"
      }
    },
    {
      "cell_type": "code",
      "source": [
        "# modules we'll use\n",
        "import pandas as pd\n",
        "import numpy as np\n",
        "\n",
        "# for Box-Cox Transformation\n",
        "from scipy import stats\n",
        "\n",
        "# for min_max scaling\n",
        "from mlxtend.preprocessing import minmax_scaling\n",
        "\n",
        "# plotting modules\n",
        "import seaborn as sns\n",
        "import matplotlib.pyplot as plt\n",
        "\n",
        "# read in all our data\n",
        "kickstarters_2017 = pd.read_csv(\"ks-projects-201801.csv\")\n",
        "\n",
        "# set seed for reproducibility\n",
        "np.random.seed(0)"
      ],
      "metadata": {
        "collapsed": true,
        "jupyter": {
          "outputs_hidden": true
        },
        "id": "DZnyjrZy2mg7"
      },
      "execution_count": 12,
      "outputs": []
    },
    {
      "cell_type": "markdown",
      "source": [
        "Let's start by scaling the goals of each campaign, which is how much money they were asking for.  After scaling, all values lie between 0 and 1."
      ],
      "metadata": {
        "id": "9GYh4ncr2mg7"
      }
    },
    {
      "cell_type": "code",
      "source": [
        "# select the usd_goal_real column\n",
        "original_data = pd.DataFrame(kickstarters_2017.usd_goal_real)\n",
        "\n",
        "# scale the goals from 0 to 1\n",
        "scaled_data = minmax_scaling(original_data, columns=['usd_goal_real'])\n",
        "\n",
        "print('Original data\\nPreview:\\n', original_data.head())\n",
        "print('Minimum value:', float(original_data.min()),\n",
        "      '\\nMaximum value:', float(original_data.max()))\n",
        "print('_'*30)\n",
        "\n",
        "print('\\nScaled data\\nPreview:\\n', scaled_data.head())\n",
        "print('Minimum value:', float(scaled_data.min()),\n",
        "      '\\nMaximum value:', float(scaled_data.max()))"
      ],
      "metadata": {
        "collapsed": true,
        "jupyter": {
          "outputs_hidden": true
        },
        "id": "CD_z105N2mg8",
        "colab": {
          "base_uri": "https://localhost:8080/"
        },
        "outputId": "8f0f881e-afb5-4d05-9b71-7b174a24606c"
      },
      "execution_count": 13,
      "outputs": [
        {
          "output_type": "stream",
          "name": "stdout",
          "text": [
            "Original data\n",
            "Preview:\n",
            "    usd_goal_real\n",
            "0        1533.95\n",
            "1       30000.00\n",
            "2       45000.00\n",
            "3        5000.00\n",
            "4       19500.00\n",
            "Minimum value: 0.01 \n",
            "Maximum value: 166361390.71\n",
            "______________________________\n",
            "\n",
            "Scaled data\n",
            "Preview:\n",
            "    usd_goal_real\n",
            "0       0.000009\n",
            "1       0.000180\n",
            "2       0.000270\n",
            "3       0.000030\n",
            "4       0.000117\n",
            "Minimum value: 0.0 \n",
            "Maximum value: 1.0\n"
          ]
        }
      ]
    },
    {
      "cell_type": "markdown",
      "source": [
        "# 1) Practice scaling\n",
        "\n",
        "We just scaled the \"usd_goal_real\" column. What about the \"goal\" column?\n",
        "\n",
        "Begin by running the code cell below to create a DataFrame `original_goal_data` containing the \"goal\" column."
      ],
      "metadata": {
        "id": "H_PMrdhz2mg8"
      }
    },
    {
      "cell_type": "code",
      "source": [
        "# select the usd_goal_real column\n",
        "original_goal_data = pd.DataFrame(kickstarters_2017.goal)"
      ],
      "metadata": {
        "id": "wVQ_xuff2mg8"
      },
      "execution_count": 14,
      "outputs": []
    },
    {
      "cell_type": "markdown",
      "source": [
        "Use `original_goal_data` to create a new DataFrame `scaled_goal_data` with values scaled between 0 and 1. You must use the `minmax_scaling()` function."
      ],
      "metadata": {
        "id": "7-40Svm_2mg9"
      }
    },
    {
      "cell_type": "markdown",
      "source": [
        "# 2) Practice normalization\n",
        "\n",
        "Now you'll practice normalization. We begin by normalizing the amount of money pledged to each campaign."
      ],
      "metadata": {
        "id": "c4pbX2NR2mg-"
      }
    },
    {
      "cell_type": "code",
      "source": [
        "# get the index of all positive pledges (Box-Cox only takes positive values)\n",
        "index_of_positive_pledges = kickstarters_2017.usd_pledged_real > 0\n",
        "\n",
        "# get only positive pledges (using their indexes)\n",
        "positive_pledges = kickstarters_2017.usd_pledged_real.loc[index_of_positive_pledges]\n",
        "\n",
        "# normalize the pledges (w/ Box-Cox)\n",
        "normalized_pledges = pd.Series(stats.boxcox(positive_pledges)[0], \n",
        "                               name='usd_pledged_real', index=positive_pledges.index)\n",
        "\n",
        "print('Original data\\nPreview:\\n', positive_pledges.head())\n",
        "print('Minimum value:', float(positive_pledges.min()),\n",
        "      '\\nMaximum value:', float(positive_pledges.max()))\n",
        "print('_'*30)\n",
        "\n",
        "print('\\nNormalized data\\nPreview:\\n', normalized_pledges.head())\n",
        "print('Minimum value:', float(normalized_pledges.min()),\n",
        "      '\\nMaximum value:', float(normalized_pledges.max()))"
      ],
      "metadata": {
        "collapsed": true,
        "jupyter": {
          "outputs_hidden": true
        },
        "id": "4Uo5pqCH2mg-",
        "colab": {
          "base_uri": "https://localhost:8080/"
        },
        "outputId": "d83310e5-5eda-44b8-f35e-4505e3839d82"
      },
      "execution_count": 15,
      "outputs": [
        {
          "output_type": "stream",
          "name": "stdout",
          "text": [
            "Original data\n",
            "Preview:\n",
            " 1     2421.0\n",
            "2      220.0\n",
            "3        1.0\n",
            "4     1283.0\n",
            "5    52375.0\n",
            "Name: usd_pledged_real, dtype: float64\n",
            "Minimum value: 0.45 \n",
            "Maximum value: 20338986.27\n",
            "______________________________\n",
            "\n",
            "Normalized data\n",
            "Preview:\n",
            " 1    10.165142\n",
            "2     6.468598\n",
            "3     0.000000\n",
            "4     9.129277\n",
            "5    15.836853\n",
            "Name: usd_pledged_real, dtype: float64\n",
            "Minimum value: -0.7779954122762203 \n",
            "Maximum value: 30.69054020451361\n"
          ]
        }
      ]
    },
    {
      "cell_type": "markdown",
      "source": [
        "The values have changed significantly with normalization!\n",
        "\n",
        "In the next code cell, you'll take a look at the distribution of the normalized data, where it should now resemble a normal distribution."
      ],
      "metadata": {
        "id": "GzeurIJG2mg-"
      }
    },
    {
      "cell_type": "code",
      "source": [
        "# plot normalized data\n",
        "ax = sns.histplot(normalized_pledges, kde=True)\n",
        "ax.set_title(\"Normalized data\")\n",
        "plt.show()"
      ],
      "metadata": {
        "id": "RAv3JkNH2mg_",
        "colab": {
          "base_uri": "https://localhost:8080/",
          "height": 296
        },
        "outputId": "668322b0-1539-4a04-95c0-474f06311299"
      },
      "execution_count": 16,
      "outputs": [
        {
          "output_type": "display_data",
          "data": {
            "text/plain": [
              "<Figure size 432x288 with 1 Axes>"
            ],
            "image/png": "[encoded data removed]"
          },
          "metadata": {
            "needs_background": "light"
          }
        }
      ]
    },
    {
      "cell_type": "markdown",
      "source": [
        "We used the \"usd_pledged_real\" column. Follow the same process to normalize the \"pledged\" column. "
      ],
      "metadata": {
        "id": "qczxgsXy2mg_"
      }
    },
    {
      "cell_type": "code",
      "source": [
        "# get positive values' indecies\n",
        "pos_pledged_index = kickstarters_2017.pledged > 0\n",
        "\n",
        "# get positive values using indecies from ^^\n",
        "pos_pleadges = kickstarters_2017.pledged.loc[pos_pledged_index]\n",
        "\n",
        "# normalize pledges (w/ Box-Cox)\n",
        "normy_pledge = pd.Series(stats.boxcox(pos_pleadges)[0], \n",
        "                               name='pledged', index=pos_pleadges.index)\n",
        "\n",
        "# plot normalized data\n",
        "ax = sns.histplot(normy_pledge, kde=True)\n",
        "ax.set_title(\"normy data\")\n",
        "plt.show()"
      ],
      "metadata": {
        "id": "rGRK5oAv2mg_",
        "colab": {
          "base_uri": "https://localhost:8080/",
          "height": 573
        },
        "outputId": "922d9ff5-a0ba-4f25-cf86-0e6aea008144"
      },
      "execution_count": 17,
      "outputs": [
        {
          "output_type": "display_data",
          "data": {
            "text/plain": [
              "<Figure size 432x288 with 1 Axes>"
            ],
            "image/png": "[encoded data removed]"
          },
          "metadata": {
            "needs_background": "light"
          }
        },
        {
          "output_type": "display_data",
          "data": {
            "text/plain": [
              "<Figure size 432x288 with 1 Axes>"
            ],
            "image/png": "[encoded data removed]"
          },
          "metadata": {
            "needs_background": "light"
          }
        }
      ]
    },
    {
      "cell_type": "markdown",
      "source": [
        "How does the normalized \"usd_pledged_real\" column look different from when we normalized the \"pledged\" column?  Or, do they look mostly the same?\n",
        "\n",
        "Once you have an answer, run the code cell below."
      ],
      "metadata": {
        "id": "Le79cMW02mg_"
      }
    },
    {
      "cell_type": "markdown",
      "source": [
        "---\n",
        "\n",
        "\n",
        "\n",
        "\n",
        "*Have questions or comments? Visit the [course discussion forum](https://www.kaggle.com/learn/data-cleaning/discussion) to chat with other learners.*"
      ],
      "metadata": {
        "id": "XvSlAPtK2mhB"
      }
    }
  ]
}