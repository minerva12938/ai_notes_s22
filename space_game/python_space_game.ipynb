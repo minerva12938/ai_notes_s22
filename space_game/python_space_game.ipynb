{
 "cells": [
  {
   "cell_type": "code",
   "execution_count": 1,
   "id": "110898df",
   "metadata": {},
   "outputs": [
    {
     "name": "stdout",
     "output_type": "stream",
     "text": [
      "pygame 2.1.2 (SDL 2.0.18, Python 3.9.12)\n",
      "Hello from the pygame community. https://www.pygame.org/contribute.html\n"
     ]
    },
    {
     "data": {
      "text/plain": [
       "(5, 0)"
      ]
     },
     "execution_count": 1,
     "metadata": {},
     "output_type": "execute_result"
    }
   ],
   "source": [
    "# !pip install pygame\n",
    "import pygame\n",
    "import random\n",
    "import math\n",
    "from pygame import mixer\n",
    "#^^ or write pygame.mixer each time\n",
    "\n",
    "#initialize the pygame\n",
    "pygame.init()"
   ]
  },
  {
   "cell_type": "code",
   "execution_count": 2,
   "id": "62a79681",
   "metadata": {},
   "outputs": [],
   "source": [
    "#make screen\n",
    "# import os\n",
    "# os.environ['SDL_VIDEODRIVER'] = 'dummy'\n",
    "screen = pygame.display.set_mode((800, 600))"
   ]
  },
  {
   "cell_type": "code",
   "execution_count": 3,
   "id": "283b6b72",
   "metadata": {},
   "outputs": [],
   "source": [
    "#background image\n",
    "background = pygame.image.load('background.png')"
   ]
  },
  {
   "cell_type": "code",
   "execution_count": 4,
   "id": "a21d2c7c",
   "metadata": {},
   "outputs": [],
   "source": [
    "#background music\n",
    "mixer.music.load('background.wav')\n",
    "mixer.music.play(-1)"
   ]
  },
  {
   "cell_type": "code",
   "execution_count": 5,
   "id": "34e2454e",
   "metadata": {},
   "outputs": [],
   "source": [
    "#title, player, & loading the image\n",
    "pygame.display.set_caption('tbd')\n",
    "icon = pygame.image.load('ufo.png')\n",
    "pygame.display.set_icon(icon)"
   ]
  },
  {
   "cell_type": "code",
   "execution_count": 6,
   "id": "3a7216ac",
   "metadata": {},
   "outputs": [],
   "source": [
    "#player\n",
    "playerimg = pygame.image.load('player.png')\n",
    "playerx = 370\n",
    "playery = 480\n",
    "playerx_change = 0"
   ]
  },
  {
   "cell_type": "code",
   "execution_count": 7,
   "id": "d3bb75e3",
   "metadata": {},
   "outputs": [],
   "source": [
    "#enemy\n",
    "#list values because there are multiple enemies\n",
    "enemyimg, enemyx, enemyy, enemyy_change, enemyx_change = [], [], [], [], []\n",
    "num_enemies = 6"
   ]
  },
  {
   "cell_type": "code",
   "execution_count": 8,
   "id": "c209fa83",
   "metadata": {},
   "outputs": [],
   "source": [
    "#enemy cont.\n",
    "for i in range(num_enemies):\n",
    "    enemyimg.append(pygame.image.load('enemy.png'))\n",
    "    enemyx.append(random.randint(0, 736))\n",
    "    enemyy.append(random.randint(50, 150))\n",
    "    enemyx_change.append(4)\n",
    "    enemyy_change.append(40)"
   ]
  },
  {
   "cell_type": "code",
   "execution_count": 9,
   "id": "98878892",
   "metadata": {},
   "outputs": [],
   "source": [
    "#bullets\n",
    "bulletimg = pygame.image.load('bullet.png')\n",
    "bulletx = 0\n",
    "bullety = 480\n",
    "\n",
    "bulletx_change = 0\n",
    "bullety_change = 10\n",
    "\n",
    "bullet_state = 'ready'"
   ]
  },
  {
   "cell_type": "code",
   "execution_count": 10,
   "id": "53acc6f4",
   "metadata": {},
   "outputs": [],
   "source": [
    "score_value = 0\n",
    "font = pygame.font.Font('freesansbold.ttf', 32)\n",
    "\n",
    "testx = 10\n",
    "testy = 10"
   ]
  },
  {
   "cell_type": "code",
   "execution_count": 11,
   "id": "33891c92",
   "metadata": {},
   "outputs": [],
   "source": [
    "#end game\n",
    "over_font = pygame.font.Font('freesansbold.ttf', 64)"
   ]
  },
  {
   "cell_type": "code",
   "execution_count": 12,
   "id": "1328ba41",
   "metadata": {},
   "outputs": [],
   "source": [
    "def show_score(x, y):\n",
    "    score = font.render(\"score: \" + str(score_value), True, (255, 255, 255))\n",
    "    screen.blit(score, (x, y))"
   ]
  },
  {
   "cell_type": "code",
   "execution_count": 13,
   "id": "b7b9b97d",
   "metadata": {},
   "outputs": [],
   "source": [
    "def game_over_text():\n",
    "    over_text = font.render(\"GAME OVER\", True, (255, 255, 255))\n",
    "    screen.blit(over_text, (200, 250))"
   ]
  },
  {
   "cell_type": "code",
   "execution_count": 14,
   "id": "5cd98d82",
   "metadata": {},
   "outputs": [],
   "source": [
    "def player(x, y):\n",
    "    screen.blit(playerimg, (x, y))\n",
    "\n",
    "def enemy(x, y, i):\n",
    "    screen.blit(enemyimg[i], (x, y))"
   ]
  },
  {
   "cell_type": "code",
   "execution_count": 15,
   "id": "1f37fde6",
   "metadata": {},
   "outputs": [],
   "source": [
    "def fire_bullets(x, y):\n",
    "    global bullet_state\n",
    "    bullet_state = \"fire\"\n",
    "    screen.blit(bulletimg, (x + 16, y + 10))"
   ]
  },
  {
   "cell_type": "code",
   "execution_count": 16,
   "id": "f23d9583",
   "metadata": {},
   "outputs": [],
   "source": [
    "def is_collision(enemyx, enemyy, bulletx, bullety):\n",
    "    distance = math.sqrt(math.pow(enemyx - bulletx, 2) + (math.pow(enemyy - bullety, 2)))\n",
    "    if (distance < 27):\n",
    "        return True\n",
    "    else:\n",
    "        return False"
   ]
  },
  {
   "cell_type": "code",
   "execution_count": null,
   "id": "5cc953f3",
   "metadata": {},
   "outputs": [
    {
     "name": "stderr",
     "output_type": "stream",
     "text": [
      "<>:24: SyntaxWarning: \"is\" with a literal. Did you mean \"==\"?\n",
      "<>:91: SyntaxWarning: \"is\" with a literal. Did you mean \"==\"?\n",
      "<>:24: SyntaxWarning: \"is\" with a literal. Did you mean \"==\"?\n",
      "<>:91: SyntaxWarning: \"is\" with a literal. Did you mean \"==\"?\n",
      "/var/folders/pc/x03dlgdd0657v7wssjkl6gnm0000gn/T/ipykernel_86062/1481216596.py:24: SyntaxWarning: \"is\" with a literal. Did you mean \"==\"?\n",
      "  if bullet_state is 'ready':\n",
      "/var/folders/pc/x03dlgdd0657v7wssjkl6gnm0000gn/T/ipykernel_86062/1481216596.py:91: SyntaxWarning: \"is\" with a literal. Did you mean \"==\"?\n",
      "  if bullet_state is 'fire':\n"
     ]
    }
   ],
   "source": [
    "run = True\n",
    "while run:\n",
    "    #red, green, & blue\n",
    "    screen.fill((0, 0, 0))\n",
    "    \n",
    "    #background image\n",
    "    screen.blit(background, (0, 0))\n",
    "    \n",
    "    for event in pygame.event.get():\n",
    "        if event.type == pygame.QUIT:\n",
    "            run = False\n",
    "    \n",
    "    #for player left/right keystrokes\n",
    "    \n",
    "    #when key is pressed down\n",
    "        if event.type == pygame.KEYDOWN:\n",
    "            if event.key == pygame.K_LEFT:\n",
    "                playerx_change = -5\n",
    "            if event.key == pygame.K_RIGHT:\n",
    "                playerx_change = 5\n",
    "\n",
    "            #for shooting bullets\n",
    "            if event.key == pygame.K_SPACE:\n",
    "                if bullet_state is 'ready':\n",
    "                    bullet_sound = mixer.Sound('laser.wav')\n",
    "                    bullet_sound.play()\n",
    "\n",
    "                    bulletx = playerx\n",
    "                    fire_bullets(bulletx, bullety)\n",
    "        \n",
    "        #when key is released\n",
    "        if event.type == pygame.KEYUP:\n",
    "            if event.key == pygame.K_LEFT or event.key == pygame.K_RIGHT:\n",
    "                playerx_change = 0\n",
    "                \n",
    "    playerx += playerx_change\n",
    "    \n",
    "    #bounds this so player doesnt go off map\n",
    "    if playerx <= 0:\n",
    "        playerx = 0\n",
    "    elif playerx >= 736:\n",
    "        playerx = 736\n",
    "        \n",
    "    #enemy movement\n",
    "    for i in range(num_enemies):\n",
    "        if enemyy[i] > 400:\n",
    "            for j in range(num_enemies):\n",
    "                enemyy[j] = 2000\n",
    "            game_over_text()\n",
    "            break\n",
    "            \n",
    "        #update enemy position\n",
    "        #print(\"++++++++++++ \", type(enemyx_change))\n",
    "        enemyx[i] += enemyx_change[i]\n",
    "        #print(\"++++++++++++++ \")\n",
    "        \n",
    "        #bounds this so enemy doesnt go off map\n",
    "        if enemyx[i] <= 0:\n",
    "            enemyx_change[i] = 4\n",
    "            enemyy[i] += enemyy_change[i]\n",
    "            \n",
    "        elif enemyx[i] >= 736:\n",
    "            enemyx_change[i] = -4\n",
    "            enemyy[i] += enemyy_change[i]\n",
    "            \n",
    "        #collision/did the player hit an enemy?\n",
    "        #/check for every enemy if the player hit it\n",
    "        collision = is_collision(enemyx[i], enemyy[i], bulletx, bullety)\n",
    "\n",
    "        if collision:\n",
    "            explosion_sound = mixer.Sound('explosion.wav')\n",
    "            explosion_sound.play()\n",
    "            \n",
    "            #reset bullet position\n",
    "            bullety = 480\n",
    "            bullet_state = 'ready'\n",
    "            score_value += 1\n",
    "            \n",
    "            #add a new enemy in\n",
    "            enemyx[i] = random.randint(0, 736)\n",
    "            enemyy[i] = random.randint(50, 150)\n",
    "            \n",
    "        enemy(enemyx[i], enemyy[i], i)\n",
    "        \n",
    "        #bullet movement\n",
    "        \n",
    "    if bullety <= 0:\n",
    "        bullety = 480\n",
    "        bullet_state = 'ready'\n",
    "        \n",
    "    if bullet_state is 'fire':\n",
    "        fire_bullets(bulletx, bullety)\n",
    "        bullety -= bullety_change\n",
    "        \n",
    "    player(playerx, playery)\n",
    "    show_score(testx, testy)\n",
    "    pygame.display.update()"
   ]
  },
  {
   "cell_type": "code",
   "execution_count": null,
   "id": "7afc404f",
   "metadata": {},
   "outputs": [],
   "source": []
  }
 ],
 "metadata": {
  "kernelspec": {
   "display_name": "Python 3 (ipykernel)",
   "language": "python",
   "name": "python3"
  },
  "language_info": {
   "codemirror_mode": {
    "name": "ipython",
    "version": 3
   },
   "file_extension": ".py",
   "mimetype": "text/x-python",
   "name": "python",
   "nbconvert_exporter": "python",
   "pygments_lexer": "ipython3",
   "version": "3.9.12"
  }
 },
 "nbformat": 4,
 "nbformat_minor": 5
}
