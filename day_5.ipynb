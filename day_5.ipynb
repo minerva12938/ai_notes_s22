{
  "nbformat": 4,
  "nbformat_minor": 0,
  "metadata": {
    "colab": {
      "name": "day_5.ipynb",
      "provenance": [],
      "authorship_tag": "ABX9TyNlTWZdPwYlKPjprqEeFwqf",
      "include_colab_link": true
    },
    "kernelspec": {
      "name": "python3",
      "display_name": "Python 3"
    },
    "language_info": {
      "name": "python"
    }
  },
  "cells": [
    {
      "cell_type": "markdown",
      "metadata": {
        "id": "view-in-github",
        "colab_type": "text"
      },
      "source": [
        "<a href=\"https://colab.research.google.com/github/minerva12938/ai_notes_s22/blob/main/day_5.ipynb\" target=\"_parent\"><img src=\"https://colab.research.google.com/assets/colab-badge.svg\" alt=\"Open In Colab\"/></a>"
      ]
    },
    {
      "cell_type": "code",
      "execution_count": 5,
      "metadata": {
        "colab": {
          "base_uri": "https://localhost:8080/"
        },
        "id": "MTE3o2ykOdNF",
        "outputId": "79f7d4ad-9540-443f-eef3-382381188557"
      },
      "outputs": [
        {
          "output_type": "stream",
          "name": "stdout",
          "text": [
            "[[16 19 22 16]\n",
            " [16 16 16 20]\n",
            " [12 10 15 11]\n",
            " [11 13 16 15]]\n",
            "[[16 19 22 16]\n",
            " [16 16 16 20]\n",
            " [12 10 15 11]\n",
            " [11 13 16 15]]\n",
            "[[-12121     19     22     16]\n",
            " [    16     16     16     20]\n",
            " [    12     10     15     11]\n",
            " [    11     13     16     15]]\n",
            "[[-12121     19     22     16]\n",
            " [    16     16     16     20]\n",
            " [    12     10     15     11]\n",
            " [    11     13     16     15]]\n",
            "[[-12121     19     22     16]\n",
            " [    16     16     16     20]\n",
            " [    12     10     15     11]\n",
            " [    11     13     16     15]]\n",
            "[[-100000      19      22      16]\n",
            " [     16      16      16      20]\n",
            " [     12      10      15      11]\n",
            " [     11      13      16      15]]\n",
            "[[-12121     19     22     16]\n",
            " [    16     16     16     20]\n",
            " [    12     10     15     11]\n",
            " [    11     13     16     15]]\n",
            "[ True False  True False]\n"
          ]
        },
        {
          "output_type": "execute_result",
          "data": {
            "text/plain": [
              "array([False,  True, False,  True])"
            ]
          },
          "metadata": {},
          "execution_count": 5
        }
      ],
      "source": [
        "import numpy as np\n",
        "\n",
        "a = np.random.randint(10, 23, size = (4, 4))\n",
        "\n",
        "print(a)\n",
        "b = a\n",
        "#successful \"copy\", more like pointer/shallow copy\n",
        "print(b)\n",
        "\n",
        "b[0][0] = -12121\n",
        "\n",
        "#both get updated\n",
        "print(a)\n",
        "print(b)\n",
        "\n",
        "#deep copy\n",
        "c = a.copy()\n",
        "print(c)\n",
        "\n",
        "#this change only changes the value of c\n",
        "c[0][0] = -100000\n",
        "print(c)\n",
        "print(a)\n",
        "\n",
        "B = np.array([True, False, True, False])\n",
        "print(B)\n",
        "B == False"
      ]
    },
    {
      "cell_type": "code",
      "source": [
        "a = np.arange(10)\n",
        "print(a)\n",
        "a >= 5\n",
        "\n",
        "#if a value is >= 5, set to -1\n",
        "# a[a>=5] = -1\n",
        "# print(a)\n",
        "\n",
        "#if a value is < mean, set to -1\n",
        "a[a < a.mean()] = -1\n",
        "print(a)"
      ],
      "metadata": {
        "colab": {
          "base_uri": "https://localhost:8080/"
        },
        "id": "N5K-dqQcQng-",
        "outputId": "c7f01aaa-18a5-4e23-faed-613ede3a7d70"
      },
      "execution_count": 15,
      "outputs": [
        {
          "output_type": "stream",
          "name": "stdout",
          "text": [
            "[0 1 2 3 4 5 6 7 8 9]\n",
            "[-1 -1 -1 -1 -1  5  6  7  8  9]\n"
          ]
        }
      ]
    },
    {
      "cell_type": "code",
      "source": [
        "a = np.random.randint(10, 23, size = (4, 4))\n",
        "b = np.random.randint(10, 23, size = (4, 4))\n",
        "\n",
        "print(a)\n",
        "print(b)\n",
        "\n",
        "print()\n",
        "\n",
        "#acts as matrix addition, dimensions must be same or and error will occur\n",
        "print(a + b)"
      ],
      "metadata": {
        "colab": {
          "base_uri": "https://localhost:8080/"
        },
        "id": "ao_zn0XRRW1N",
        "outputId": "cb1a3379-f91c-40fb-c7a0-570f893a669d"
      },
      "execution_count": 19,
      "outputs": [
        {
          "output_type": "stream",
          "name": "stdout",
          "text": [
            "[[15 10 22 11]\n",
            " [16 16 21 19]\n",
            " [21 10 20 15]\n",
            " [21 22 11 18]]\n",
            "[[18 17 13 21]\n",
            " [18 14 19 22]\n",
            " [13 18 11 13]\n",
            " [18 19 15 21]]\n",
            "\n",
            "[[33 27 35 32]\n",
            " [34 30 40 41]\n",
            " [34 28 31 28]\n",
            " [39 41 26 39]]\n"
          ]
        }
      ]
    },
    {
      "cell_type": "code",
      "source": [
        "y = np.random.randint(10, 23, size = (2, 2))\n",
        "x = np.random.randint(10, 23, size = (2, 2))\n",
        "\n",
        "print(x)\n",
        "print(y)\n",
        "\n",
        "print()\n",
        "\n",
        "#acts as matrix multiplication, dimensions don't have to be same\n",
        "print(y * x)\n",
        "print()\n",
        "\n",
        "#transposing - interchanging its rows into columns or columns into rows\n",
        "print(x.T)\n",
        "print(x.T)"
      ],
      "metadata": {
        "colab": {
          "base_uri": "https://localhost:8080/"
        },
        "id": "yP55dVq5RxD-",
        "outputId": "1e706e5b-29d7-41ef-e3c4-0ba940f34b13"
      },
      "execution_count": 25,
      "outputs": [
        {
          "output_type": "stream",
          "name": "stdout",
          "text": [
            "[[21 10]\n",
            " [17 19]]\n",
            "[[12 17]\n",
            " [14 20]]\n",
            "\n",
            "[[252 170]\n",
            " [238 380]]\n",
            "\n",
            "[[21 17]\n",
            " [10 19]]\n",
            "[[21 17]\n",
            " [10 19]]\n"
          ]
        }
      ]
    },
    {
      "cell_type": "code",
      "source": [
        "x = np.random.randint(10, 23, size = (2, 3))\n",
        "y = np.random.randint(10, 23, size = (3, 2))\n",
        "\n",
        "#just multiplies the  correspoinding values together\n",
        "# print(x * y) -- doesn't work\n",
        "# print(y * x)\n",
        "\n",
        "#ways to do matrix multiplication\n",
        "\n",
        "#dot product, for 2d arrays: works as a matrx \n",
        "print(x.dot(y))\n",
        "print(y.dot(x))\n",
        "print()\n",
        "\n",
        "print(x @ y)\n",
        "print(y @ x)\n",
        "print()\n",
        "\n",
        "print(np.matmul(x, y))\n",
        "print(np.matmul(y, x))"
      ],
      "metadata": {
        "colab": {
          "base_uri": "https://localhost:8080/"
        },
        "id": "GIkLpss8UfKE",
        "outputId": "fe5b2efb-b12e-4174-e9b3-f5e98eda11e3"
      },
      "execution_count": 30,
      "outputs": [
        {
          "output_type": "stream",
          "name": "stdout",
          "text": [
            "[[720 698]\n",
            " [720 786]]\n",
            "[[452 488 280]\n",
            " [486 624 340]\n",
            " [649 772 430]]\n",
            "\n",
            "[[720 698]\n",
            " [720 786]]\n",
            "[[452 488 280]\n",
            " [486 624 340]\n",
            " [649 772 430]]\n",
            "\n",
            "[[720 698]\n",
            " [720 786]]\n",
            "[[452 488 280]\n",
            " [486 624 340]\n",
            " [649 772 430]]\n"
          ]
        }
      ]
    },
    {
      "cell_type": "markdown",
      "source": [
        "Python classes & objects"
      ],
      "metadata": {
        "id": "Cv2To3wrR7Z6"
      }
    },
    {
      "cell_type": "code",
      "source": [
        "class calc():\n",
        "  def __init__(self, a, b):\n",
        "    #makes them global within the class\n",
        "    self.a = a\n",
        "    self.b = b\n",
        "\n",
        "  def addd(self):\n",
        "    return self.a + self.b\n",
        "\n",
        "  def sub(self):\n",
        "    return self.a - self.b\n",
        "  \n",
        "  def mult(self):\n",
        "    return self.a * self.b\n",
        "\n",
        "  def div(self):\n",
        "    return self.a / self.b\n"
      ],
      "metadata": {
        "id": "m9Jd_XNaRZJS"
      },
      "execution_count": 23,
      "outputs": []
    },
    {
      "cell_type": "code",
      "source": [
        "a = int(input('a: '))\n",
        "b = int(input('b: '))"
      ],
      "metadata": {
        "colab": {
          "base_uri": "https://localhost:8080/"
        },
        "id": "u4rxaO7bTEEA",
        "outputId": "bd778f5d-70d3-4466-dda1-961405eb526e"
      },
      "execution_count": 8,
      "outputs": [
        {
          "name": "stdout",
          "output_type": "stream",
          "text": [
            "a: 1\n",
            "b: 2\n"
          ]
        }
      ]
    },
    {
      "cell_type": "code",
      "source": [
        "initializing_class = calc(a, b)"
      ],
      "metadata": {
        "id": "YeDKCgntTSXD"
      },
      "execution_count": 13,
      "outputs": []
    },
    {
      "cell_type": "code",
      "source": [
        "initializing_class.sub()"
      ],
      "metadata": {
        "colab": {
          "base_uri": "https://localhost:8080/"
        },
        "id": "61akp2mqTdr4",
        "outputId": "91c7b6ee-b3d0-49de-d9b4-d73dae5e55a4"
      },
      "execution_count": 16,
      "outputs": [
        {
          "output_type": "execute_result",
          "data": {
            "text/plain": [
              "-1"
            ]
          },
          "metadata": {},
          "execution_count": 16
        }
      ]
    },
    {
      "cell_type": "code",
      "source": [
        "initializing_class.addd()"
      ],
      "metadata": {
        "colab": {
          "base_uri": "https://localhost:8080/"
        },
        "id": "kdIIgNeBTxcp",
        "outputId": "8d422a00-d8cd-4d1f-b7dd-39e121b5f086"
      },
      "execution_count": 18,
      "outputs": [
        {
          "output_type": "execute_result",
          "data": {
            "text/plain": [
              "3"
            ]
          },
          "metadata": {},
          "execution_count": 18
        }
      ]
    },
    {
      "cell_type": "code",
      "source": [
        "initializing_class.mult()"
      ],
      "metadata": {
        "colab": {
          "base_uri": "https://localhost:8080/"
        },
        "id": "peI-7I4WT0KI",
        "outputId": "bca4ce06-5a5b-49dc-e256-f2502d3434eb"
      },
      "execution_count": 21,
      "outputs": [
        {
          "output_type": "execute_result",
          "data": {
            "text/plain": [
              "2"
            ]
          },
          "metadata": {},
          "execution_count": 21
        }
      ]
    },
    {
      "cell_type": "code",
      "source": [
        "initializing_class.div()"
      ],
      "metadata": {
        "colab": {
          "base_uri": "https://localhost:8080/"
        },
        "id": "voV8ZtsQT1ys",
        "outputId": "8b51665c-f145-4287-f817-f331d06a7ee5"
      },
      "execution_count": 22,
      "outputs": [
        {
          "output_type": "execute_result",
          "data": {
            "text/plain": [
              "0.5"
            ]
          },
          "metadata": {},
          "execution_count": 22
        }
      ]
    },
    {
      "cell_type": "code",
      "source": [
        " "
      ],
      "metadata": {
        "id": "Zsf6G0I_T3u6"
      },
      "execution_count": null,
      "outputs": []
    }
  ]
}