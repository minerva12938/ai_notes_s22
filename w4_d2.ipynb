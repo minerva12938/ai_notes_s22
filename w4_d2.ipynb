{
  "nbformat": 4,
  "nbformat_minor": 0,
  "metadata": {
    "colab": {
      "name": "w4_d2.ipynb",
      "provenance": [],
      "authorship_tag": "ABX9TyOC8i+KpbdszPOlUXkPe07l",
      "include_colab_link": true
    },
    "kernelspec": {
      "name": "python3",
      "display_name": "Python 3"
    },
    "language_info": {
      "name": "python"
    }
  },
  "cells": [
    {
      "cell_type": "markdown",
      "metadata": {
        "id": "view-in-github",
        "colab_type": "text"
      },
      "source": [
        "<a href=\"https://colab.research.google.com/github/minerva12938/ai_notes_s22/blob/main/w4_d2.ipynb\" target=\"_parent\"><img src=\"https://colab.research.google.com/assets/colab-badge.svg\" alt=\"Open In Colab\"/></a>"
      ]
    },
    {
      "cell_type": "markdown",
      "source": [
        "#what's happening behind the scenes of my_model.fit(_)"
      ],
      "metadata": {
        "id": "g1lzxcQDR8qJ"
      }
    },
    {
      "cell_type": "markdown",
      "source": [
        "training data --> features (X) & labels(Y)\n",
        "\n",
        "algorith. --> linear regression\n",
        "\n",
        "  ^\n",
        "\n",
        "function (f) --> cost function\n",
        "\n",
        "hypothesis (of a model) : y = mx + b or h(x) = theta_0 + theta_1(x)\n",
        "\n",
        "parameter(theta): \n",
        "\n",
        "hyperparameter: \n",
        "\n",
        "mean SSE/cost function: (1/m) sum from 1 to m (y^ - y) ^ 2\n",
        "\n",
        "=> (1/m) sum from 1 to m ((mx + b) - y) ^ 2\n",
        "\n",
        "=> (1/m) sum from 1 to m (f(x) - y) ^ 2\n",
        "\n",
        "y^ (means y hat) is y = mx + b <-- prediction\n",
        "\n",
        "b = bias and w = weight\n",
        "\n",
        "derivatives:\n",
        "- if f(x)' = 0 & f(x)'' > 0 f(x) is a minimum\n",
        "- if f(x)' = 0 & f(x)'' < 0 f(x) is a maximum\n",
        "\n",
        "updating cost function: (1/2m) sum from 1 to m ((mx + b) - y) ^ 2\n",
        "\n",
        "------\n",
        "gradient descent (for every & all cost functions, linear or not):\n",
        "\n",
        "j(m, b) = (1/2m) sum from 1 to m ((mx + b) - y) ^ 2\n",
        "- for linear regression\n",
        "\n",
        "model goal: decrease cost function b/c that means the difference between your prediction and the actual values are minimized\n",
        "\n",
        "w = w - 0< derivative of mx / derivative of x <-- learning rate\n",
        "- 0< means alpha\n",
        "- going along (back and forth) w axis and continuing to check for the minimum values\n",
        "- bigger steps may lead to missing the minimum point\n",
        "\n",
        "hyperparameter: this learning data ^^^\n",
        "\n",
        "goal: m = m - 0< derivative of mx / derivative of x &\n",
        "b = b - 0< derivative of bx / derivative of x \n",
        "\n",
        "------\n",
        "\n",
        "gradient descent for linear regression\n",
        "\n",
        "j(m, b) = (1/2m) sum from 1 to m ((wx + b) - y) ^ 2\n",
        "\n",
        "partial derivative with respect to w: (1/2m) sum from 1 to m (f(x)- y) * (x bar)\n",
        "\n",
        "partial derivative with respect to b (Jw / dw): (1/2m) sum from 1 to m (f(x)- y)\n",
        "\n",
        "mean normalization (max min scaling)\n",
        "- (x1 - mean) / (max - min)\n",
        "\n",
        "z-score normaliization\n",
        "- (x1 - mean) / (standard deviation)\n",
        "\n",
        "feature scaling can help u get to the minimum value faster\n"
      ],
      "metadata": {
        "id": "VmFnE3Ax33vf"
      }
    },
    {
      "cell_type": "code",
      "source": [
        "#getting the error\n",
        "def compute_cost:\n",
        "  m = x.shape[0]\n",
        "  dj_dw = 0\n",
        "  dj_db = 0\n",
        "  for i in range(m):\n",
        "    f_wb = w * x[i] + b\n",
        "    dj_dw_i = (f_wb - y[i]) * x[i]\n",
        "    dj_db_i = (f_wb - y[i])\n",
        "    dj_dw += dj_dw_i\n",
        "    dj_db += dj_db_i\n",
        "  dj_dw = dj_dw / m\n",
        "  dj_db = dj_db / m\n",
        "  return dj_dw, dj_db"
      ],
      "metadata": {
        "id": "QPj_qw_71xCX"
      },
      "execution_count": null,
      "outputs": []
    },
    {
      "cell_type": "code",
      "source": [
        ""
      ],
      "metadata": {
        "id": "kipunICs8f4s"
      },
      "execution_count": null,
      "outputs": []
    }
  ]
}