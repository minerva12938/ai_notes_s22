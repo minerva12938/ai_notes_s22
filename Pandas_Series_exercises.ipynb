{
  "cells": [
    {
      "cell_type": "markdown",
      "metadata": {
        "id": "view-in-github",
        "colab_type": "text"
      },
      "source": [
        "<a href=\"https://colab.research.google.com/github/minerva12938/ai_notes_s22/blob/main/Pandas_Series_exercises.ipynb\" target=\"_parent\"><img src=\"https://colab.research.google.com/assets/colab-badge.svg\" alt=\"Open In Colab\"/></a>"
      ]
    },
    {
      "cell_type": "markdown",
      "metadata": {
        "id": "553akW8ealPc"
      },
      "source": [
        "\n",
        "\n",
        "# Pandas Series exercises\n"
      ]
    },
    {
      "cell_type": "code",
      "execution_count": 6,
      "metadata": {
        "id": "Jcm7pwLlalPf"
      },
      "outputs": [],
      "source": [
        "# Import the numpy package under the name np\n",
        "import numpy as np\n",
        "\n",
        "# Import the pandas package under the name pd\n",
        "import pandas as pd"
      ]
    },
    {
      "cell_type": "markdown",
      "metadata": {
        "id": "Z4OdOfTDalPg"
      },
      "source": [
        "![purple-divider](https://user-images.githubusercontent.com/7065401/52071927-c1cd7100-2562-11e9-908a-dde91ba14e59.png)\n",
        "\n",
        "## Series creation"
      ]
    },
    {
      "cell_type": "markdown",
      "metadata": {
        "id": "8DGYmHjHalPs"
      },
      "source": [
        "![green-divider](https://user-images.githubusercontent.com/7065401/52071924-c003ad80-2562-11e9-8297-1c6595f8a7ff.png)\n",
        "\n",
        "### Given the X python list convert it to an Y pandas Series"
      ]
    },
    {
      "cell_type": "code",
      "execution_count": 2,
      "metadata": {
        "cell_type": "solution",
        "id": "GnAmUYFjalPs"
      },
      "outputs": [],
      "source": [
        "X = ['A','B','C']\n"
      ]
    },
    {
      "cell_type": "code",
      "execution_count": 8,
      "metadata": {
        "id": "SfDkBpBcalPs",
        "colab": {
          "base_uri": "https://localhost:8080/"
        },
        "outputId": "cee4b3c7-90b0-4b3b-ed67-5e2a8055039f"
      },
      "outputs": [
        {
          "output_type": "stream",
          "name": "stdout",
          "text": [
            "0    A\n",
            "1    B\n",
            "2    C\n",
            "dtype: object\n"
          ]
        }
      ],
      "source": [
        "Y = pd.Series(X)\n",
        "print(Y)"
      ]
    },
    {
      "cell_type": "markdown",
      "metadata": {
        "id": "P6S8MYvHalPt"
      },
      "source": [
        "![green-divider](https://user-images.githubusercontent.com/7065401/52071924-c003ad80-2562-11e9-8297-1c6595f8a7ff.png)\n",
        "\n",
        "### Given the X pandas Series, name it 'My letters'"
      ]
    },
    {
      "cell_type": "code",
      "execution_count": 9,
      "metadata": {
        "cell_type": "solution",
        "id": "rX23_loXalPt"
      },
      "outputs": [],
      "source": [
        "X = pd.Series(['A','B','C'])\n"
      ]
    },
    {
      "cell_type": "code",
      "execution_count": 10,
      "metadata": {
        "id": "Wum1T7WaalPt"
      },
      "outputs": [],
      "source": [
        "X.name = 'my letters'"
      ]
    },
    {
      "cell_type": "markdown",
      "metadata": {
        "id": "1osVpiQ6alPt"
      },
      "source": [
        "![green-divider](https://user-images.githubusercontent.com/7065401/52071924-c003ad80-2562-11e9-8297-1c6595f8a7ff.png)\n",
        "\n",
        "### Given the X pandas Series, show its values\n"
      ]
    },
    {
      "cell_type": "code",
      "execution_count": 12,
      "metadata": {
        "cell_type": "solution",
        "id": "1KnvK34yalPt"
      },
      "outputs": [],
      "source": [
        "X = pd.Series(['A','B','C'])\n"
      ]
    },
    {
      "cell_type": "code",
      "execution_count": 11,
      "metadata": {
        "id": "5hfBt1VIalPt",
        "colab": {
          "base_uri": "https://localhost:8080/"
        },
        "outputId": "2e8c482f-cfa8-483a-dd11-11bb49f39044"
      },
      "outputs": [
        {
          "output_type": "stream",
          "name": "stdout",
          "text": [
            "0    A\n",
            "1    B\n",
            "2    C\n",
            "Name: my letters, dtype: object\n"
          ]
        }
      ],
      "source": [
        "print(X)"
      ]
    },
    {
      "cell_type": "markdown",
      "metadata": {
        "id": "BRMl7BmbalPu"
      },
      "source": [
        "![purple-divider](https://user-images.githubusercontent.com/7065401/52071927-c1cd7100-2562-11e9-908a-dde91ba14e59.png)\n",
        "\n",
        "## Series indexation"
      ]
    },
    {
      "cell_type": "markdown",
      "metadata": {
        "id": "PS92Gpa5alPu"
      },
      "source": [
        "### Assign index names to the given X pandas Series\n"
      ]
    },
    {
      "cell_type": "code",
      "execution_count": 15,
      "metadata": {
        "cell_type": "solution",
        "id": "Tm6UsijzalPu"
      },
      "outputs": [],
      "source": [
        "X = pd.Series(['A','B','C'])\n",
        "index_names = ['first', 'second', 'third']\n",
        "\n"
      ]
    },
    {
      "cell_type": "code",
      "execution_count": 18,
      "metadata": {
        "id": "Q8m9hvMAalPu",
        "colab": {
          "base_uri": "https://localhost:8080/"
        },
        "outputId": "9ff8584c-a1da-4189-af6e-1d8f2baee85e"
      },
      "outputs": [
        {
          "output_type": "stream",
          "name": "stdout",
          "text": [
            "first     A\n",
            "second    B\n",
            "third     C\n",
            "dtype: object\n"
          ]
        }
      ],
      "source": [
        "X.index = index_names\n",
        "print(X)"
      ]
    },
    {
      "cell_type": "markdown",
      "metadata": {
        "id": "c51dU33valPu"
      },
      "source": [
        "![green-divider](https://user-images.githubusercontent.com/7065401/52071924-c003ad80-2562-11e9-8297-1c6595f8a7ff.png)\n",
        "\n",
        "### Given the X pandas Series, show its first element\n"
      ]
    },
    {
      "cell_type": "code",
      "execution_count": 20,
      "metadata": {
        "cell_type": "solution",
        "id": "jIbIKV-ralPv"
      },
      "outputs": [],
      "source": [
        "X = pd.Series(['A','B','C'], index=['first', 'second', 'third'])\n"
      ]
    },
    {
      "cell_type": "code",
      "execution_count": 21,
      "metadata": {
        "id": "XIjwK_hsalPv",
        "colab": {
          "base_uri": "https://localhost:8080/"
        },
        "outputId": "ac4dadeb-9f76-4b3d-8ed1-c14d8b6bcb46"
      },
      "outputs": [
        {
          "output_type": "stream",
          "name": "stdout",
          "text": [
            "A\n"
          ]
        }
      ],
      "source": [
        "print(X['first'])"
      ]
    },
    {
      "cell_type": "markdown",
      "metadata": {
        "id": "dAY_7JamalPv"
      },
      "source": [
        "![green-divider](https://user-images.githubusercontent.com/7065401/52071924-c003ad80-2562-11e9-8297-1c6595f8a7ff.png)\n",
        "\n",
        "### Given the X pandas Series, show its last element\n"
      ]
    },
    {
      "cell_type": "code",
      "execution_count": 22,
      "metadata": {
        "cell_type": "solution",
        "id": "ebs7IcBqalPv"
      },
      "outputs": [],
      "source": [
        "X = pd.Series(['A','B','C'], index=['first', 'second', 'third'])\n",
        "\n"
      ]
    },
    {
      "cell_type": "code",
      "execution_count": 24,
      "metadata": {
        "id": "sp27xxTZalPv",
        "colab": {
          "base_uri": "https://localhost:8080/"
        },
        "outputId": "55edb472-8d7c-446a-ea58-324e23227435"
      },
      "outputs": [
        {
          "output_type": "stream",
          "name": "stdout",
          "text": [
            "C\n"
          ]
        }
      ],
      "source": [
        "print(X[-1])"
      ]
    },
    {
      "cell_type": "markdown",
      "metadata": {
        "id": "lkwByplMalPw"
      },
      "source": [
        "![green-divider](https://user-images.githubusercontent.com/7065401/52071924-c003ad80-2562-11e9-8297-1c6595f8a7ff.png)\n",
        "\n",
        "### Given the X pandas Series, show all middle elements\n"
      ]
    },
    {
      "cell_type": "code",
      "execution_count": 25,
      "metadata": {
        "cell_type": "solution",
        "id": "xqFG4K18alPw"
      },
      "outputs": [],
      "source": [
        "X = pd.Series(['A','B','C','D','E'],\n",
        "              index=['first','second','third','forth','fifth'])\n"
      ]
    },
    {
      "cell_type": "code",
      "execution_count": 26,
      "metadata": {
        "id": "kUEUwC9FalPw",
        "colab": {
          "base_uri": "https://localhost:8080/"
        },
        "outputId": "947dd9cf-44f4-4f40-9cf3-4447e03c66c7"
      },
      "outputs": [
        {
          "output_type": "stream",
          "name": "stdout",
          "text": [
            "C\n"
          ]
        }
      ],
      "source": [
        "print(X['third'])"
      ]
    },
    {
      "cell_type": "markdown",
      "metadata": {
        "id": "k_M_Q7HsalPw"
      },
      "source": [
        "![green-divider](https://user-images.githubusercontent.com/7065401/52071924-c003ad80-2562-11e9-8297-1c6595f8a7ff.png)\n",
        "\n",
        "### Given the X pandas Series, show the elements in reverse position\n"
      ]
    },
    {
      "cell_type": "code",
      "execution_count": 27,
      "metadata": {
        "cell_type": "solution",
        "id": "9Q216239alPw"
      },
      "outputs": [],
      "source": [
        "X = pd.Series(['A','B','C','D','E'],\n",
        "              index=['first','second','third','forth','fifth'])\n"
      ]
    },
    {
      "cell_type": "code",
      "execution_count": 28,
      "metadata": {
        "id": "h94JhS23alPw",
        "colab": {
          "base_uri": "https://localhost:8080/"
        },
        "outputId": "00424bee-fa77-4e20-c2ba-b4462fc1491e"
      },
      "outputs": [
        {
          "output_type": "stream",
          "name": "stdout",
          "text": [
            "fifth     E\n",
            "forth     D\n",
            "third     C\n",
            "second    B\n",
            "first     A\n",
            "dtype: object\n"
          ]
        }
      ],
      "source": [
        "print(X[::-1])"
      ]
    },
    {
      "cell_type": "markdown",
      "metadata": {
        "id": "sYWegayMalPw"
      },
      "source": [
        "![green-divider](https://user-images.githubusercontent.com/7065401/52071924-c003ad80-2562-11e9-8297-1c6595f8a7ff.png)\n",
        "\n",
        "### Given the X pandas Series, show the first and last elements\n"
      ]
    },
    {
      "cell_type": "code",
      "execution_count": null,
      "metadata": {
        "cell_type": "solution",
        "id": "h5yc9wvralPx"
      },
      "outputs": [],
      "source": [
        "X = pd.Series(['A','B','C','D','E'],\n",
        "              index=['first','second','third','forth','fifth'])\n"
      ]
    },
    {
      "cell_type": "code",
      "execution_count": 31,
      "metadata": {
        "id": "3QbxipJ8alPw",
        "colab": {
          "base_uri": "https://localhost:8080/"
        },
        "outputId": "de579926-968c-488c-a121-c8b99ce55514"
      },
      "outputs": [
        {
          "output_type": "stream",
          "name": "stdout",
          "text": [
            "A E\n"
          ]
        }
      ],
      "source": [
        "print(X[0], X[-1])"
      ]
    },
    {
      "cell_type": "markdown",
      "metadata": {
        "id": "mpcr82AGalPx"
      },
      "source": [
        "![purple-divider](https://user-images.githubusercontent.com/7065401/52071927-c1cd7100-2562-11e9-908a-dde91ba14e59.png)\n",
        "\n",
        "## Series manipulation"
      ]
    },
    {
      "cell_type": "markdown",
      "metadata": {
        "id": "22BmBjN-alPx"
      },
      "source": [
        "![green-divider](https://user-images.githubusercontent.com/7065401/52071924-c003ad80-2562-11e9-8297-1c6595f8a7ff.png)\n",
        "\n",
        "### Reverse the given pandas Series (first element becomes last)"
      ]
    },
    {
      "cell_type": "code",
      "execution_count": 39,
      "metadata": {
        "cell_type": "solution",
        "id": "qh4kW8CBalPy"
      },
      "outputs": [],
      "source": [
        "X = pd.Series([1,2,3,4,5],\n",
        "              index=['first','second','third','forth','fifth'])\n",
        "\n"
      ]
    },
    {
      "cell_type": "code",
      "execution_count": 42,
      "metadata": {
        "id": "ZS6EjWMdalPy"
      },
      "outputs": [],
      "source": [
        "X = X[::-1]"
      ]
    },
    {
      "cell_type": "code",
      "source": [
        "print(X)"
      ],
      "metadata": {
        "colab": {
          "base_uri": "https://localhost:8080/"
        },
        "id": "HYFM-Zt8dZkT",
        "outputId": "4ce89bf9-a18f-43e0-827e-ee177f44be68"
      },
      "execution_count": 43,
      "outputs": [
        {
          "output_type": "stream",
          "name": "stdout",
          "text": [
            "fifth     5\n",
            "forth     4\n",
            "third     3\n",
            "second    2\n",
            "first     1\n",
            "dtype: int64\n"
          ]
        }
      ]
    },
    {
      "cell_type": "markdown",
      "metadata": {
        "id": "7olJHXF-alPy"
      },
      "source": [
        "![green-divider](https://user-images.githubusercontent.com/7065401/52071924-c003ad80-2562-11e9-8297-1c6595f8a7ff.png)\n",
        "\n",
        "### Order (sort) the given pandas Series\n"
      ]
    },
    {
      "cell_type": "code",
      "execution_count": 48,
      "metadata": {
        "cell_type": "solution",
        "id": "6I4zVzxjalPy"
      },
      "outputs": [],
      "source": [
        "X = pd.Series([4,2,5,1,3],\n",
        "              index=['forth','second','fifth','first','third'])\n"
      ]
    },
    {
      "cell_type": "code",
      "execution_count": 49,
      "metadata": {
        "id": "voKMbx-ialPy",
        "colab": {
          "base_uri": "https://localhost:8080/"
        },
        "outputId": "38f413f6-e212-4695-ba47-43472e898129"
      },
      "outputs": [
        {
          "output_type": "execute_result",
          "data": {
            "text/plain": [
              "first     1\n",
              "second    2\n",
              "third     3\n",
              "forth     4\n",
              "fifth     5\n",
              "dtype: int64"
            ]
          },
          "metadata": {},
          "execution_count": 49
        }
      ],
      "source": [
        "X.sort_values()"
      ]
    },
    {
      "cell_type": "markdown",
      "metadata": {
        "id": "ZwcAn6h1alPy"
      },
      "source": [
        "![green-divider](https://user-images.githubusercontent.com/7065401/52071924-c003ad80-2562-11e9-8297-1c6595f8a7ff.png)\n",
        "\n",
        "### Given the X pandas Series, set the fifth element equal to 10\n"
      ]
    },
    {
      "cell_type": "code",
      "execution_count": 51,
      "metadata": {
        "cell_type": "solution",
        "id": "E0gefLNxalPy"
      },
      "outputs": [],
      "source": [
        "X = pd.Series([1,2,3,4,5],\n",
        "              index=['A','B','C','D','E'])\n"
      ]
    },
    {
      "cell_type": "code",
      "execution_count": 52,
      "metadata": {
        "id": "J2yIo7kMalPy",
        "colab": {
          "base_uri": "https://localhost:8080/"
        },
        "outputId": "2ec75a6e-9f52-4348-99fe-1f56faa926b6"
      },
      "outputs": [
        {
          "output_type": "stream",
          "name": "stdout",
          "text": [
            "A     1\n",
            "B     2\n",
            "C     3\n",
            "D     4\n",
            "E    10\n",
            "dtype: int64\n"
          ]
        }
      ],
      "source": [
        "X.iloc[4] = 10\n",
        "print(X)\n"
      ]
    },
    {
      "cell_type": "markdown",
      "metadata": {
        "id": "rFot_IVdalPy"
      },
      "source": [
        "![green-divider](https://user-images.githubusercontent.com/7065401/52071924-c003ad80-2562-11e9-8297-1c6595f8a7ff.png)\n",
        "\n",
        "### Given the X pandas Series, change all the middle elements to 0\n"
      ]
    },
    {
      "cell_type": "code",
      "execution_count": 53,
      "metadata": {
        "cell_type": "solution",
        "scrolled": false,
        "id": "yANm4kwmalPz"
      },
      "outputs": [],
      "source": [
        "X = pd.Series([1,2,3,4,5],\n",
        "              index=['A','B','C','D','E'])\n"
      ]
    },
    {
      "cell_type": "code",
      "execution_count": 54,
      "metadata": {
        "id": "oZhV1CXSalPz",
        "colab": {
          "base_uri": "https://localhost:8080/"
        },
        "outputId": "3b63f07c-d37f-461a-d780-15fcfe320dc7"
      },
      "outputs": [
        {
          "output_type": "stream",
          "name": "stdout",
          "text": [
            "A    1\n",
            "B    0\n",
            "C    0\n",
            "D    0\n",
            "E    5\n",
            "dtype: int64\n"
          ]
        }
      ],
      "source": [
        "X[1:-1] = 0\n",
        "print(X)"
      ]
    },
    {
      "cell_type": "markdown",
      "metadata": {
        "id": "xRSYOla8alPz"
      },
      "source": [
        "![green-divider](https://user-images.githubusercontent.com/7065401/52071924-c003ad80-2562-11e9-8297-1c6595f8a7ff.png)\n",
        "\n",
        "### Given the X pandas Series, add 5 to every element\n"
      ]
    },
    {
      "cell_type": "code",
      "execution_count": 55,
      "metadata": {
        "cell_type": "solution",
        "id": "id9FgtHWalPz"
      },
      "outputs": [],
      "source": [
        "X = pd.Series([1,2,3,4,5])\n"
      ]
    },
    {
      "cell_type": "code",
      "execution_count": 56,
      "metadata": {
        "id": "qmPFZ4szalPz",
        "colab": {
          "base_uri": "https://localhost:8080/"
        },
        "outputId": "706bc0de-ec8e-4a1e-ddb2-4e1c625a814e"
      },
      "outputs": [
        {
          "output_type": "stream",
          "name": "stdout",
          "text": [
            "0     6\n",
            "1     7\n",
            "2     8\n",
            "3     9\n",
            "4    10\n",
            "dtype: int64\n"
          ]
        }
      ],
      "source": [
        "X = X + 5\n",
        "print(X)"
      ]
    },
    {
      "cell_type": "markdown",
      "metadata": {
        "id": "Y93WxEgSalPz"
      },
      "source": [
        "![purple-divider](https://user-images.githubusercontent.com/7065401/52071927-c1cd7100-2562-11e9-908a-dde91ba14e59.png)\n",
        "\n",
        "## Series boolean arrays (also called masks)"
      ]
    },
    {
      "cell_type": "markdown",
      "metadata": {
        "id": "yLOgA5csalPz"
      },
      "source": [
        "### Given the X pandas Series, make a mask showing negative elements\n"
      ]
    },
    {
      "cell_type": "code",
      "execution_count": 60,
      "metadata": {
        "cell_type": "solution",
        "id": "yiW57MFOalPz"
      },
      "outputs": [],
      "source": [
        "X = pd.Series([-1,2,0,-4,5,6,0,0,-9,10])\n"
      ]
    },
    {
      "cell_type": "code",
      "execution_count": 67,
      "metadata": {
        "id": "YY4ZZptZalPz",
        "colab": {
          "base_uri": "https://localhost:8080/"
        },
        "outputId": "d6f0e71a-0e1c-4d96-f7c2-0f8c29ced2fd"
      },
      "outputs": [
        {
          "output_type": "stream",
          "name": "stdout",
          "text": [
            "0    -1\n",
            "1     2\n",
            "2     0\n",
            "3    -4\n",
            "4     5\n",
            "5     6\n",
            "6     0\n",
            "7     0\n",
            "8    -9\n",
            "9    10\n",
            "dtype: int64\n",
            "0   -1\n",
            "3   -4\n",
            "8   -9\n",
            "dtype: int64\n"
          ]
        }
      ],
      "source": [
        "print(X)\n",
        "print(X[X < 0])"
      ]
    },
    {
      "cell_type": "markdown",
      "metadata": {
        "id": "5cQoAmBbalP0"
      },
      "source": [
        "![green-divider](https://user-images.githubusercontent.com/7065401/52071924-c003ad80-2562-11e9-8297-1c6595f8a7ff.png)\n",
        "\n",
        "### Given the X pandas Series, get the negative elements\n"
      ]
    },
    {
      "cell_type": "code",
      "execution_count": 63,
      "metadata": {
        "cell_type": "solution",
        "id": "2vs_E1aoalP0"
      },
      "outputs": [],
      "source": [
        "X = pd.Series([-1,2,0,-4,5,6,0,0,-9,10])\n"
      ]
    },
    {
      "cell_type": "code",
      "execution_count": 66,
      "metadata": {
        "id": "Nd0lBL43alP0",
        "colab": {
          "base_uri": "https://localhost:8080/"
        },
        "outputId": "aeff7c9c-c578-4a3d-e9d7-0e5952eb37a3"
      },
      "outputs": [
        {
          "output_type": "stream",
          "name": "stdout",
          "text": [
            "0   -1\n",
            "3   -4\n",
            "8   -9\n",
            "dtype: int64\n"
          ]
        }
      ],
      "source": [
        "neg_elem = X[X < 0]\n",
        "print(neg_elem)"
      ]
    },
    {
      "cell_type": "markdown",
      "metadata": {
        "id": "PDixCCIEalP0"
      },
      "source": [
        "![green-divider](https://user-images.githubusercontent.com/7065401/52071924-c003ad80-2562-11e9-8297-1c6595f8a7ff.png)\n",
        "\n",
        "### Given the X pandas Series, get numbers higher than 5\n"
      ]
    },
    {
      "cell_type": "code",
      "execution_count": 68,
      "metadata": {
        "cell_type": "solution",
        "id": "nMVblu6YalP0"
      },
      "outputs": [],
      "source": [
        "X = pd.Series([-1,2,0,-4,5,6,0,0,-9,10])\n"
      ]
    },
    {
      "cell_type": "code",
      "execution_count": 69,
      "metadata": {
        "id": "osxgW-R9alP0",
        "colab": {
          "base_uri": "https://localhost:8080/"
        },
        "outputId": "07060e20-589c-4343-857f-1316a30354d8"
      },
      "outputs": [
        {
          "output_type": "stream",
          "name": "stdout",
          "text": [
            "5     6\n",
            "9    10\n",
            "dtype: int64\n"
          ]
        }
      ],
      "source": [
        "print(X[X > 5])"
      ]
    },
    {
      "cell_type": "markdown",
      "metadata": {
        "id": "mXFch5IIalP0"
      },
      "source": [
        "![green-divider](https://user-images.githubusercontent.com/7065401/52071924-c003ad80-2562-11e9-8297-1c6595f8a7ff.png)\n",
        "\n",
        "### Given the X pandas Series, get numbers higher than the elements mean"
      ]
    },
    {
      "cell_type": "code",
      "execution_count": 70,
      "metadata": {
        "cell_type": "solution",
        "id": "PtJMlHwxalP0"
      },
      "outputs": [],
      "source": [
        "X = pd.Series([-1,2,0,-4,5,6,0,0,-9,10])\n"
      ]
    },
    {
      "cell_type": "code",
      "execution_count": 72,
      "metadata": {
        "id": "8WnR97vLalP0",
        "colab": {
          "base_uri": "https://localhost:8080/"
        },
        "outputId": "40fc6197-b7d1-40fe-e098-7b986d14a62a"
      },
      "outputs": [
        {
          "output_type": "stream",
          "name": "stdout",
          "text": [
            "0.9\n",
            "1     2\n",
            "4     5\n",
            "5     6\n",
            "9    10\n",
            "dtype: int64\n"
          ]
        }
      ],
      "source": [
        "print(X.mean())\n",
        "print(X[X > X.mean()])"
      ]
    },
    {
      "cell_type": "markdown",
      "metadata": {
        "id": "Gj5LUa9XalP0"
      },
      "source": [
        "![green-divider](https://user-images.githubusercontent.com/7065401/52071924-c003ad80-2562-11e9-8297-1c6595f8a7ff.png)\n",
        "\n",
        "### Given the X pandas Series, get numbers equal to 2 or 10\n"
      ]
    },
    {
      "cell_type": "code",
      "execution_count": 98,
      "metadata": {
        "cell_type": "solution",
        "scrolled": true,
        "id": "ZnKnsqomalP1"
      },
      "outputs": [],
      "source": [
        "X = pd.Series([-1,2,0,-4,5,6,0,0,-9,10])\n"
      ]
    },
    {
      "cell_type": "code",
      "execution_count": 99,
      "metadata": {
        "id": "zU3h5nINalP0",
        "colab": {
          "base_uri": "https://localhost:8080/"
        },
        "outputId": "fa80386a-2f7c-4f50-ced3-0bd447898154"
      },
      "outputs": [
        {
          "output_type": "stream",
          "name": "stdout",
          "text": [
            "1     2\n",
            "9    10\n",
            "dtype: int64\n"
          ]
        }
      ],
      "source": [
        "print(X[(X == 2) | (X == 10)])"
      ]
    },
    {
      "cell_type": "markdown",
      "metadata": {
        "id": "pQPjRQ7lalP1"
      },
      "source": [
        "![purple-divider](https://user-images.githubusercontent.com/7065401/52071927-c1cd7100-2562-11e9-908a-dde91ba14e59.png)\n",
        "\n",
        "## Summary statistics"
      ]
    },
    {
      "cell_type": "markdown",
      "metadata": {
        "id": "3HBKJPSCalP1"
      },
      "source": [
        "### Given the X pandas Series, show the sum of its elements\n"
      ]
    },
    {
      "cell_type": "code",
      "execution_count": 81,
      "metadata": {
        "cell_type": "solution",
        "id": "c4dT1Ci7alP1"
      },
      "outputs": [],
      "source": [
        "X = pd.Series([3,5,6,7,2,3,4,9,4])\n"
      ]
    },
    {
      "cell_type": "code",
      "execution_count": 83,
      "metadata": {
        "id": "LfnWyNGOalP1",
        "colab": {
          "base_uri": "https://localhost:8080/"
        },
        "outputId": "86f55d4f-80c5-49d4-902e-3cd49dd7360d"
      },
      "outputs": [
        {
          "output_type": "stream",
          "name": "stdout",
          "text": [
            "43\n"
          ]
        }
      ],
      "source": [
        "print(X.sum())"
      ]
    },
    {
      "cell_type": "markdown",
      "metadata": {
        "id": "p1UgOnwaalP2"
      },
      "source": [
        "![green-divider](https://user-images.githubusercontent.com/7065401/52071924-c003ad80-2562-11e9-8297-1c6595f8a7ff.png)\n",
        "\n",
        "### Given the X pandas Series, show the mean value of its elements"
      ]
    },
    {
      "cell_type": "code",
      "execution_count": 84,
      "metadata": {
        "cell_type": "solution",
        "id": "GkU3cwZcalP2"
      },
      "outputs": [],
      "source": [
        "X = pd.Series([1,2,0,4,5,6,0,0,9,10])\n"
      ]
    },
    {
      "cell_type": "code",
      "execution_count": 85,
      "metadata": {
        "id": "AIjn0tpbalP2",
        "colab": {
          "base_uri": "https://localhost:8080/"
        },
        "outputId": "0c424111-5f84-43fb-cf3e-ad8f75eb2b87"
      },
      "outputs": [
        {
          "output_type": "stream",
          "name": "stdout",
          "text": [
            "3.7\n"
          ]
        }
      ],
      "source": [
        "print(X.mean())"
      ]
    },
    {
      "cell_type": "markdown",
      "metadata": {
        "id": "tOFUZMunalP2"
      },
      "source": [
        "![green-divider](https://user-images.githubusercontent.com/7065401/52071924-c003ad80-2562-11e9-8297-1c6595f8a7ff.png)\n",
        "\n",
        "### Given the X pandas Series, show the max value of its elements"
      ]
    },
    {
      "cell_type": "code",
      "execution_count": 87,
      "metadata": {
        "cell_type": "solution",
        "id": "G6xSxIDqalP2"
      },
      "outputs": [],
      "source": [
        "X = pd.Series([1,2,0,4,5,6,0,0,9,10])\n"
      ]
    },
    {
      "cell_type": "code",
      "execution_count": 86,
      "metadata": {
        "id": "UIVrjQzqalP2",
        "colab": {
          "base_uri": "https://localhost:8080/"
        },
        "outputId": "61311892-cc9d-49dd-fbaa-57d175a04be2"
      },
      "outputs": [
        {
          "output_type": "stream",
          "name": "stdout",
          "text": [
            "10\n"
          ]
        }
      ],
      "source": [
        "print(X.max())"
      ]
    },
    {
      "cell_type": "markdown",
      "metadata": {
        "id": "b5sLFwlBalP2"
      },
      "source": [
        "![purple-divider](https://user-images.githubusercontent.com/7065401/52071927-c1cd7100-2562-11e9-908a-dde91ba14e59.png)"
      ]
    }
  ],
  "metadata": {
    "kernelspec": {
      "display_name": "Python 3",
      "language": "python",
      "name": "python3"
    },
    "language_info": {
      "codemirror_mode": {
        "name": "ipython",
        "version": 3
      },
      "file_extension": ".py",
      "mimetype": "text/x-python",
      "name": "python",
      "nbconvert_exporter": "python",
      "pygments_lexer": "ipython3",
      "version": "3.7.4"
    },
    "colab": {
      "name": "Pandas_Series_exercises.ipynb",
      "provenance": [],
      "collapsed_sections": [],
      "include_colab_link": true
    }
  },
  "nbformat": 4,
  "nbformat_minor": 0
}