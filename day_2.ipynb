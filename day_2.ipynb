{
  "nbformat": 4,
  "nbformat_minor": 0,
  "metadata": {
    "colab": {
      "name": "day_2.ipynb",
      "provenance": [],
      "collapsed_sections": [],
      "authorship_tag": "ABX9TyOyqPej7tZRTbUXpBRi1xbk",
      "include_colab_link": true
    },
    "kernelspec": {
      "name": "python3",
      "display_name": "Python 3"
    },
    "language_info": {
      "name": "python"
    }
  },
  "cells": [
    {
      "cell_type": "markdown",
      "metadata": {
        "id": "view-in-github",
        "colab_type": "text"
      },
      "source": [
        "<a href=\"https://colab.research.google.com/github/minerva12938/ai_notes_s22/blob/main/day_2.ipynb\" target=\"_parent\"><img src=\"https://colab.research.google.com/assets/colab-badge.svg\" alt=\"Open In Colab\"/></a>"
      ]
    },
    {
      "cell_type": "code",
      "execution_count": 1,
      "metadata": {
        "colab": {
          "base_uri": "https://localhost:8080/",
          "height": 0
        },
        "id": "SHhVAheHxQbY",
        "outputId": "bb50c374-def1-4831-e282-88db442274a2"
      },
      "outputs": [
        {
          "output_type": "stream",
          "name": "stdout",
          "text": [
            "AI workshop\n"
          ]
        }
      ],
      "source": [
        "a = \"AI workshop\"\n",
        "print(a)"
      ]
    },
    {
      "cell_type": "code",
      "source": [
        "s1 = \"hello\"\n",
        "s2 = \"world\"\n",
        "\n",
        "res = s1 + \" \" + s2\n",
        "print(res)"
      ],
      "metadata": {
        "colab": {
          "base_uri": "https://localhost:8080/",
          "height": 0
        },
        "id": "UIto3V2BxW2h",
        "outputId": "106b50e8-f571-47be-cb3f-a9e647169411"
      },
      "execution_count": 2,
      "outputs": [
        {
          "output_type": "stream",
          "name": "stdout",
          "text": [
            "hello world\n"
          ]
        }
      ]
    },
    {
      "cell_type": "code",
      "source": [
        "print(\"hello\")\n",
        "msg = input()"
      ],
      "metadata": {
        "colab": {
          "base_uri": "https://localhost:8080/",
          "height": 0
        },
        "id": "Wy-e500syLQ5",
        "outputId": "bc6857ae-8124-4a05-bb7c-ccc98d731006"
      },
      "execution_count": 3,
      "outputs": [
        {
          "name": "stdout",
          "output_type": "stream",
          "text": [
            "hello\n",
            "world\n"
          ]
        }
      ]
    },
    {
      "cell_type": "code",
      "source": [
        "msg = input(\"enter your name: \")"
      ],
      "metadata": {
        "colab": {
          "base_uri": "https://localhost:8080/",
          "height": 0
        },
        "id": "f9rR0r2MykYW",
        "outputId": "bd034500-02f7-455e-e4b2-8207707c2fa8"
      },
      "execution_count": 4,
      "outputs": [
        {
          "name": "stdout",
          "output_type": "stream",
          "text": [
            "enter your name: hi!\n"
          ]
        }
      ]
    },
    {
      "cell_type": "code",
      "source": [
        "first = int(input(\"first #: \"))\n",
        "second = int(input(\"second #: \"))\n",
        "\n",
        "sum = first + second\n",
        "diff = first - second\n",
        "print(sum)\n",
        "print(diff)"
      ],
      "metadata": {
        "colab": {
          "base_uri": "https://localhost:8080/",
          "height": 0
        },
        "id": "NNzHSKhsy_hS",
        "outputId": "d5a9194b-a96b-4d65-b437-7eac80a79ff9"
      },
      "execution_count": 10,
      "outputs": [
        {
          "output_type": "stream",
          "name": "stdout",
          "text": [
            "first #: 4\n",
            "second #: 3\n",
            "7\n",
            "1\n"
          ]
        }
      ]
    },
    {
      "cell_type": "code",
      "source": [
        "l1 = []\n",
        "l2 = list()\n",
        "\n",
        "l3 = [1, 2, 3, 4, 5, 'Six', 10]\n",
        "print(l3[5])\n",
        "print(l3[-1])\n",
        "print(l3[-3])\n",
        "\n",
        "#print(13[9])"
      ],
      "metadata": {
        "colab": {
          "base_uri": "https://localhost:8080/",
          "height": 0
        },
        "id": "lvQrdAnv1jeV",
        "outputId": "6b633c96-760c-4943-d435-17fdd8bfdfb9"
      },
      "execution_count": 14,
      "outputs": [
        {
          "output_type": "stream",
          "name": "stdout",
          "text": [
            "Six\n",
            "10\n",
            "5\n"
          ]
        }
      ]
    },
    {
      "cell_type": "code",
      "source": [
        "l4 = [1, 2, 3, 4, 5, 6, 7, 8, 9, 20]\n",
        "\n",
        "#prints elements 0 to 4\n",
        "print(l4[0:5])\n",
        "\n",
        "print(l4[2:6])\n",
        "\n",
        "print(l4[-3: -1])\n",
        "\n",
        "print(l4[:])\n",
        "#print indexs 4 and on\n",
        "print(l4[4:])\n",
        "#print all but last 4 elements\n",
        "print(l4[:-4])"
      ],
      "metadata": {
        "colab": {
          "base_uri": "https://localhost:8080/",
          "height": 0
        },
        "id": "ZmsEEOhV2dLe",
        "outputId": "3cd2407b-32cf-467a-e2f4-534895a4dc0a"
      },
      "execution_count": 19,
      "outputs": [
        {
          "output_type": "stream",
          "name": "stdout",
          "text": [
            "[1, 2, 3, 4, 5]\n",
            "[3, 4, 5, 6]\n",
            "[8, 9]\n",
            "[1, 2, 3, 4, 5, 6, 7, 8, 9, 20]\n",
            "[5, 6, 7, 8, 9, 20]\n",
            "[1, 2, 3, 4, 5, 6]\n"
          ]
        }
      ]
    },
    {
      "cell_type": "code",
      "source": [
        "msg = \"hello\"\n",
        "print(msg[0])\n",
        "\n",
        "print(l4)\n",
        "l4[0] = -1\n",
        "print(l4)\n",
        "\n",
        "# l4[:3] = 11\n",
        "# print(l4)"
      ],
      "metadata": {
        "colab": {
          "base_uri": "https://localhost:8080/",
          "height": 0
        },
        "id": "wYbFWw5j3sIt",
        "outputId": "779cba1a-3c2e-481e-b027-c8992781c886"
      },
      "execution_count": 21,
      "outputs": [
        {
          "output_type": "stream",
          "name": "stdout",
          "text": [
            "h\n",
            "[-1, 2, 3, 4, 5, 6, 7, 8, 9, 20]\n",
            "[-1, 2, 3, 4, 5, 6, 7, 8, 9, 20]\n"
          ]
        }
      ]
    },
    {
      "cell_type": "code",
      "source": [
        "print(l4)\n",
        "\n",
        "print(len(l4))\n",
        "print(len([]))\n",
        "\n",
        "# appending elements\n",
        "lt = []\n",
        "print(lt)\n",
        "lt.append(2)\n",
        "lt. append('hi')\n",
        "\n",
        "lt.append([1,2,3])\n",
        "print(lt)\n",
        "\n",
        "print(lt[2])\n",
        "\n",
        "print(lt + [8, 9, 10])\n",
        "\n",
        "#removing elements\n",
        "lt.remove('hi')\n",
        "print(lt)"
      ],
      "metadata": {
        "colab": {
          "base_uri": "https://localhost:8080/",
          "height": 0
        },
        "id": "55TzOoy64Eum",
        "outputId": "d77117d5-2154-4020-a33b-770354dc873b"
      },
      "execution_count": 27,
      "outputs": [
        {
          "output_type": "stream",
          "name": "stdout",
          "text": [
            "[-1, 2, 3, 4, 5, 6, 7, 8, 9, 20]\n",
            "10\n",
            "0\n",
            "[]\n",
            "[2, 'hi', [1, 2, 3]]\n",
            "[1, 2, 3]\n",
            "[2, 'hi', [1, 2, 3], 8, 9, 10]\n",
            "[2, [1, 2, 3]]\n"
          ]
        }
      ]
    },
    {
      "cell_type": "code",
      "source": [
        "l5 = list(range(5))\n",
        "l6 = list(range(1, 5))\n",
        "print(l5)\n",
        "print(l6)\n",
        "\n",
        "for i in l6:\n",
        "  print(i)"
      ],
      "metadata": {
        "colab": {
          "base_uri": "https://localhost:8080/",
          "height": 0
        },
        "id": "aObmpix-6HNb",
        "outputId": "4b4ab591-5c55-4949-dd8e-5a056228a0e8"
      },
      "execution_count": 29,
      "outputs": [
        {
          "output_type": "stream",
          "name": "stdout",
          "text": [
            "[0, 1, 2, 3, 4]\n",
            "[1, 2, 3, 4]\n",
            "1\n",
            "2\n",
            "3\n",
            "4\n"
          ]
        }
      ]
    },
    {
      "cell_type": "code",
      "source": [
        "#print 1-n\n",
        "n = int(input(\"n: \"))\n",
        "nlist = list(range(1, n+1))\n",
        "for num in nlist:\n",
        "  print(num)\n",
        "\n",
        "#sum 1-n\n",
        "nn = int(input(\"n: \"))\n",
        "nnlist = list(range(1, n+1))\n",
        "sum = 0\n",
        "for num in nlist:\n",
        "  sum += num\n",
        "print(sum)\n",
        "\n",
        "#random list work\n",
        "import random\n",
        "randomlist = random.sample(range(10, 80), 5)\n",
        "print(randomlist)\n",
        "\n",
        "rsum = 0\n",
        "for num in randomlist:\n",
        "  rsum += num\n",
        "print(rsum)\n",
        "\n",
        "min = 90\n",
        "max = 10\n",
        "\n",
        "for num in randomlist:\n",
        "  if (max < num):\n",
        "    max = num\n",
        "  if (min > num):\n",
        "    min = num\n",
        "\n",
        "print(\"max: \")\n",
        "print(max)\n",
        "print(\"min: \")\n",
        "print(min)"
      ],
      "metadata": {
        "colab": {
          "base_uri": "https://localhost:8080/",
          "height": 0
        },
        "id": "vshzZd73-bz-",
        "outputId": "77b063bc-2f75-4f8b-f01f-7b452e364cff"
      },
      "execution_count": 34,
      "outputs": [
        {
          "output_type": "stream",
          "name": "stdout",
          "text": [
            "n: 4\n",
            "1\n",
            "2\n",
            "3\n",
            "4\n",
            "n: 4\n",
            "10\n",
            "[63, 64, 55, 22, 25]\n",
            "229\n",
            "max: \n",
            "64\n",
            "min: \n",
            "22\n"
          ]
        }
      ]
    },
    {
      "cell_type": "code",
      "source": [
        "#list within a list\n",
        "l1 = [1, 2, 3]\n",
        "\n",
        "l12 = [[1,2], [3, 4]]\n",
        "# 1 2\n",
        "# 3 4\n",
        "#[row][column]\n",
        "print(l12)\n",
        "print(l12[0][0])\n",
        "print(l12[0][1])"
      ],
      "metadata": {
        "colab": {
          "base_uri": "https://localhost:8080/",
          "height": 0
        },
        "id": "eiPdU2toFECN",
        "outputId": "6488b189-9fec-4ec9-fc82-4d5aeaa53405"
      },
      "execution_count": 40,
      "outputs": [
        {
          "output_type": "stream",
          "name": "stdout",
          "text": [
            "[[1, 2], [3, 4]]\n",
            "1\n",
            "2\n",
            "3\n"
          ]
        }
      ]
    },
    {
      "cell_type": "code",
      "source": [
        "def myPrint(msg):\n",
        "  print(msg)\n",
        "\n",
        "myPrint(\"hello\")\n",
        "myPrint(4)"
      ],
      "metadata": {
        "colab": {
          "base_uri": "https://localhost:8080/",
          "height": 0
        },
        "id": "Wy22qwwGV6-B",
        "outputId": "31b46011-dfb0-41a3-d32d-160d17db08fe"
      },
      "execution_count": 41,
      "outputs": [
        {
          "output_type": "stream",
          "name": "stdout",
          "text": [
            "hello\n",
            "4\n"
          ]
        }
      ]
    },
    {
      "cell_type": "code",
      "source": [
        "def mySum(x, y):\n",
        "  return x + y\n",
        "s = mySum(4, 8)\n",
        "print(s)"
      ],
      "metadata": {
        "colab": {
          "base_uri": "https://localhost:8080/",
          "height": 0
        },
        "id": "fRmxLAI9WZn-",
        "outputId": "9191b53d-824b-402f-ebbc-60ad20e428c3"
      },
      "execution_count": 44,
      "outputs": [
        {
          "output_type": "stream",
          "name": "stdout",
          "text": [
            "12\n"
          ]
        }
      ]
    },
    {
      "cell_type": "code",
      "source": [
        "def fibb(c):\n",
        "  tot = [0, 1]\n",
        "  print(tot)\n",
        "  x = 2\n",
        "  while x < c:\n",
        "    tot.append(tot[x - 1] + tot[x - 2])\n",
        "    x += 1\n",
        "  return tot"
      ],
      "metadata": {
        "colab": {
          "base_uri": "https://localhost:8080/",
          "height": 0
        },
        "id": "jRsJMBU4XIIj",
        "outputId": "ea72083a-d5d8-4cef-fc4d-8ad4b970ead3"
      },
      "execution_count": 58,
      "outputs": [
        {
          "output_type": "stream",
          "name": "stdout",
          "text": [
            "[0, 1]\n",
            "[0, 1, 1, 2, 3, 5, 8]\n"
          ]
        }
      ]
    },
    {
      "cell_type": "code",
      "source": [
        "import time\n",
        "start = time.time()\n",
        "fibb(50)\n",
        "end = time.time()\n",
        "print('time taken: ', end - start)"
      ],
      "metadata": {
        "colab": {
          "base_uri": "https://localhost:8080/",
          "height": 0
        },
        "id": "oZJPCFuFdNHt",
        "outputId": "47c7ca87-4320-402b-fed7-551568ee78b5"
      },
      "execution_count": 60,
      "outputs": [
        {
          "output_type": "stream",
          "name": "stdout",
          "text": [
            "[0, 1]\n",
            "time taken:  0.0001652240753173828\n"
          ]
        }
      ]
    },
    {
      "cell_type": "code",
      "source": [
        "def check_filled(board):\n",
        "  filled = True\n",
        "  for row in range(3):\n",
        "    for col in range(3):\n",
        "      if (board[row][col] == '-'):\n",
        "        filled = False\n",
        "  return filled\n",
        "\n",
        "def check_board(board):\n",
        "  # X win is 1, O win is 2, no win is 0\n",
        "  for x in range(3):\n",
        "    if (board[x][0] == board[x][1] == board[x][2] and board[x][0] != '-'):\n",
        "      if (board[x][0] == 'X'):\n",
        "        return 1\n",
        "      else:\n",
        "        return 2\n",
        "  for x in range(3):\n",
        "    if (board[0][x] == board[1][x] == board[2][x] and board[0][x] != '-'):\n",
        "      if (board[0][x] == 'X'):\n",
        "        return 1\n",
        "      else:\n",
        "        return 2\n",
        "  if (board[0][0] == board[1][1] == board[2][2] and board[0][0] != '-'):\n",
        "    if (board[0][0] == 'X'):\n",
        "      return 1\n",
        "    else:\n",
        "      return 2\n",
        "  if (board[0][2] == board[1][1] == board[2][0] and board[0][2] != '-'):\n",
        "    if (board[1][1] == 'X'):\n",
        "      return 1\n",
        "    else:\n",
        "      return 2\n",
        "  return 0\n",
        "\n",
        "def print_board(board):\n",
        "  for row in range(3):\n",
        "    print(board[row][0], board[row][1], board[row][2])\n",
        "\n",
        "def tiktac(play):\n",
        "  board = [['-', '-', '-'], ['-', '-', '-'], ['-', '-', '-']]\n",
        "  print_board(board)\n",
        "  while check_board(board) == 0 and check_filled(board) == False:\n",
        "    print(\"X turn: \")\n",
        "    print()\n",
        "    row = int(input(\"row: \"))\n",
        "    col = int(input(\"column: \"))\n",
        "    board[row][col] = 'X'\n",
        "\n",
        "    print()\n",
        "    print_board(board)\n",
        "    print()\n",
        "\n",
        "    if (check_board(board) != 0):\n",
        "      if (check_board(board) == 1):\n",
        "        print(\"X wins!\")\n",
        "      else:\n",
        "        print(\"O wins!\")\n",
        "      break\n",
        "\n",
        "    if (check_filled == True):\n",
        "      print(\"board is filled\")\n",
        "      break\n",
        "    \n",
        "    print(\"O turn: \")\n",
        "    print()\n",
        "    row = int(input(\"row: \"))\n",
        "    col = int(input(\"column: \"))\n",
        "    board[row][col] = 'O'\n",
        "\n",
        "    print()\n",
        "    print_board(board)\n",
        "    print()\n",
        "\n",
        "    if (check_board(board) != 0):\n",
        "      if (check_board(board) == 1):\n",
        "        print(\"X wins!\")\n",
        "      else:\n",
        "        print(\"O wins!\")\n",
        "      break\n",
        "\n",
        "    if (check_filled == True):\n",
        "      print(\"board is filled\")\n",
        "      break\n",
        "\n",
        "  return \"done!\"\n",
        "\n",
        "print(tiktac(1))"
      ],
      "metadata": {
        "colab": {
          "base_uri": "https://localhost:8080/",
          "height": 0
        },
        "id": "PVe_gxQ3eszY",
        "outputId": "45a42128-c9a1-488e-d194-e84989a08930"
      },
      "execution_count": 72,
      "outputs": [
        {
          "output_type": "stream",
          "name": "stdout",
          "text": [
            "[['-', '-', '-'], ['-', '-', '-'], ['-', '-', '-']]\n",
            "0\n",
            "False\n",
            "X turn: \n",
            "row: 0\n",
            "column: 0\n",
            "X - -\n",
            "- - -\n",
            "- - -\n",
            "O turn: \n",
            "row: 1\n",
            "column: 0\n",
            "X - -\n",
            "O - -\n",
            "- - -\n",
            "X turn: \n",
            "row: 1\n",
            "column: 1\n",
            "X - -\n",
            "O X -\n",
            "- - -\n",
            "O turn: \n",
            "row: 0\n",
            "column: 2\n",
            "X - O\n",
            "O X -\n",
            "- - -\n",
            "X turn: \n",
            "row: 2\n",
            "column: 2\n",
            "X - O\n",
            "O X -\n",
            "- - X\n",
            "X wins!\n",
            "done!\n"
          ]
        }
      ]
    }
  ]
}