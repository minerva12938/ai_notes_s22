{
  "nbformat": 4,
  "nbformat_minor": 0,
  "metadata": {
    "colab": {
      "name": "day_4.ipynb",
      "provenance": [],
      "authorship_tag": "ABX9TyP3OoEi9HKz5uBArGNJ9QEF",
      "include_colab_link": true
    },
    "kernelspec": {
      "name": "python3",
      "display_name": "Python 3"
    },
    "language_info": {
      "name": "python"
    }
  },
  "cells": [
    {
      "cell_type": "markdown",
      "metadata": {
        "id": "view-in-github",
        "colab_type": "text"
      },
      "source": [
        "<a href=\"https://colab.research.google.com/github/minerva12938/ai_notes_s22/blob/main/day_4.ipynb\" target=\"_parent\"><img src=\"https://colab.research.google.com/assets/colab-badge.svg\" alt=\"Open In Colab\"/></a>"
      ]
    },
    {
      "cell_type": "code",
      "execution_count": 2,
      "metadata": {
        "colab": {
          "base_uri": "https://localhost:8080/",
          "height": 35
        },
        "id": "Zd4LVtZNE6MT",
        "outputId": "21da5603-99d4-4b13-dbbd-e99a441bf6c0"
      },
      "outputs": [
        {
          "output_type": "execute_result",
          "data": {
            "text/plain": [
              "'\\nnumpy\\n- functions\\n- operations\\n\\nreasons to use:\\n- structure\\n- easy to use\\n- manage data\\n\\ndata\\n- information\\n'"
            ],
            "application/vnd.google.colaboratory.intrinsic+json": {
              "type": "string"
            }
          },
          "metadata": {},
          "execution_count": 2
        }
      ],
      "source": [
        "'''\n",
        "numpy\n",
        "- functions\n",
        "- operations\n",
        "\n",
        "reasons to use:\n",
        "- structure\n",
        "- easy to use\n",
        "- manage data\n",
        "- array functions are faster in numpy than normal python\n",
        "\n",
        "data\n",
        "- information\n",
        "'''"
      ]
    },
    {
      "cell_type": "code",
      "source": [
        "import numpy as np"
      ],
      "metadata": {
        "id": "XaIqiDcnRs-2"
      },
      "execution_count": 3,
      "outputs": []
    },
    {
      "cell_type": "code",
      "source": [
        "lt = [1, 2, 3, 4]\n",
        "np.array([1, 2, 3, 4])"
      ],
      "metadata": {
        "colab": {
          "base_uri": "https://localhost:8080/"
        },
        "id": "G7vfLYyCSAef",
        "outputId": "986a58e9-f196-4eb4-db95-16c464e4ca3d"
      },
      "execution_count": 4,
      "outputs": [
        {
          "output_type": "execute_result",
          "data": {
            "text/plain": [
              "array([1, 2, 3, 4])"
            ]
          },
          "metadata": {},
          "execution_count": 4
        }
      ]
    },
    {
      "cell_type": "code",
      "source": [
        "b = np.array([0.5, 2, 3, 4, 5, 6, 7, 8, 9, 10, 11, 12, 13])\n",
        "#gets every 20th element\n",
        "b[::20]\n",
        "#gets every other element\n",
        "print(b[::2])"
      ],
      "metadata": {
        "colab": {
          "base_uri": "https://localhost:8080/"
        },
        "id": "XOpRDXjiSskf",
        "outputId": "0835ec92-fe8a-41b3-c442-25cd229e5689"
      },
      "execution_count": 8,
      "outputs": [
        {
          "output_type": "stream",
          "name": "stdout",
          "text": [
            "[ 0.5  3.   5.   7.   9.  11.  13. ]\n"
          ]
        }
      ]
    },
    {
      "cell_type": "code",
      "source": [
        "#array[start, end, step_size]\n",
        "#reverses it\n",
        "b[::-1]\n",
        "#gets every other element from the end\n",
        "b[::-2]"
      ],
      "metadata": {
        "colab": {
          "base_uri": "https://localhost:8080/"
        },
        "id": "aOR2aDVMVXP4",
        "outputId": "79a6f381-13a9-4438-fce9-7ad43c0116c5"
      },
      "execution_count": 10,
      "outputs": [
        {
          "output_type": "execute_result",
          "data": {
            "text/plain": [
              "array([13. , 11. ,  9. ,  7. ,  5. ,  3. ,  0.5])"
            ]
          },
          "metadata": {},
          "execution_count": 10
        }
      ]
    },
    {
      "cell_type": "code",
      "source": [
        "print(b[3:10:-2])\n",
        "\n",
        "print(b[3::-1])\n",
        "print(b[:10:-1])\n",
        "\n",
        "print(b[3:10:-1])\n",
        "\n",
        "print(b[10:3])\n",
        "print(b[10:3:-2])\n",
        "print(b[10:3:-1])\n"
      ],
      "metadata": {
        "colab": {
          "base_uri": "https://localhost:8080/"
        },
        "id": "3Mhtr0-ZWhUA",
        "outputId": "97a8d343-c6cb-45cb-8977-cfe211865afb"
      },
      "execution_count": 23,
      "outputs": [
        {
          "output_type": "stream",
          "name": "stdout",
          "text": [
            "[]\n",
            "[4.  3.  2.  0.5]\n",
            "[13. 12.]\n",
            "[]\n",
            "[]\n",
            "[11.  9.  7.  5.]\n",
            "[11. 10.  9.  8.  7.  6.  5.]\n"
          ]
        }
      ]
    },
    {
      "cell_type": "code",
      "source": [
        "#meeting password: 1970\n",
        "np.ones(4)"
      ],
      "metadata": {
        "colab": {
          "base_uri": "https://localhost:8080/"
        },
        "id": "hUrn55j5ZB8s",
        "outputId": "d6baa921-c23c-4da7-ff21-e1965ea2d797"
      },
      "execution_count": 25,
      "outputs": [
        {
          "output_type": "execute_result",
          "data": {
            "text/plain": [
              "array([1., 1., 1., 1.])"
            ]
          },
          "metadata": {},
          "execution_count": 25
        }
      ]
    },
    {
      "cell_type": "code",
      "source": [
        "np.zeros(8)"
      ],
      "metadata": {
        "colab": {
          "base_uri": "https://localhost:8080/"
        },
        "id": "Wn2V6vGhwgqF",
        "outputId": "4f9d1e6b-c54f-4fa1-b407-7119484e4e69"
      },
      "execution_count": 27,
      "outputs": [
        {
          "output_type": "execute_result",
          "data": {
            "text/plain": [
              "array([0., 0., 0., 0., 0., 0., 0., 0.])"
            ]
          },
          "metadata": {},
          "execution_count": 27
        }
      ]
    },
    {
      "cell_type": "code",
      "source": [
        "np.empty(4)"
      ],
      "metadata": {
        "colab": {
          "base_uri": "https://localhost:8080/"
        },
        "id": "KcNcK_7hwixw",
        "outputId": "26a813a8-fddd-406c-f530-0b33480fb788"
      },
      "execution_count": 32,
      "outputs": [
        {
          "output_type": "execute_result",
          "data": {
            "text/plain": [
              "array([1., 1., 1., 1.])"
            ]
          },
          "metadata": {},
          "execution_count": 32
        }
      ]
    },
    {
      "cell_type": "code",
      "source": [
        "a = np.array([1, 2, 3, 4, 5, 6, 7, 8, 9])\n",
        "b = np.array([[1, 2, 3], [4, 5, 6], [7, 8, 9]])"
      ],
      "metadata": {
        "id": "Lt0ucDJHxYww"
      },
      "execution_count": 35,
      "outputs": []
    },
    {
      "cell_type": "code",
      "source": [
        "b"
      ],
      "metadata": {
        "colab": {
          "base_uri": "https://localhost:8080/"
        },
        "id": "FG0sOmyfxhFK",
        "outputId": "c65e9377-0372-4e4f-8173-95f26d065b3d"
      },
      "execution_count": 38,
      "outputs": [
        {
          "output_type": "execute_result",
          "data": {
            "text/plain": [
              "array([[1, 2, 3],\n",
              "       [4, 5, 6],\n",
              "       [7, 8, 9]])"
            ]
          },
          "metadata": {},
          "execution_count": 38
        }
      ]
    },
    {
      "cell_type": "code",
      "source": [
        "a"
      ],
      "metadata": {
        "colab": {
          "base_uri": "https://localhost:8080/"
        },
        "id": "R9sOBoroxifS",
        "outputId": "f9461bd5-79a8-4087-8f7d-428bf56c7340"
      },
      "execution_count": 40,
      "outputs": [
        {
          "output_type": "execute_result",
          "data": {
            "text/plain": [
              "array([1, 2, 3, 4, 5, 6, 7, 8, 9])"
            ]
          },
          "metadata": {},
          "execution_count": 40
        }
      ]
    },
    {
      "cell_type": "code",
      "source": [
        "import random\n",
        "np.random.rand(5)"
      ],
      "metadata": {
        "colab": {
          "base_uri": "https://localhost:8080/"
        },
        "id": "eDLaNmqNx5Qm",
        "outputId": "264cacfb-0d82-40d2-a270-7bbdd5bed38e"
      },
      "execution_count": 44,
      "outputs": [
        {
          "output_type": "execute_result",
          "data": {
            "text/plain": [
              "array([0.42641719, 0.85721397, 0.26060571, 0.40114845, 0.26522164])"
            ]
          },
          "metadata": {},
          "execution_count": 44
        }
      ]
    },
    {
      "cell_type": "code",
      "source": [
        "# np.random.rand(height, width)"
      ],
      "metadata": {
        "id": "jSJ7CMuhyhu4"
      },
      "execution_count": 50,
      "outputs": []
    },
    {
      "cell_type": "code",
      "source": [
        "a = np.array([1, 2, 3, 4, 5, 6, 7, 8, 9, 10, 11, 12])\n",
        "#6 rows and 2 columns; doesn't work if the array isn't 12\n",
        "#doesn't work if you have too many or not enough\n",
        "a.reshape(6, 2)"
      ],
      "metadata": {
        "colab": {
          "base_uri": "https://localhost:8080/"
        },
        "id": "x3wNzFIJy1U9",
        "outputId": "cf144aa6-9d67-419b-ffea-e6e8c406a45b"
      },
      "execution_count": 51,
      "outputs": [
        {
          "output_type": "execute_result",
          "data": {
            "text/plain": [
              "array([[ 1,  2],\n",
              "       [ 3,  4],\n",
              "       [ 5,  6],\n",
              "       [ 7,  8],\n",
              "       [ 9, 10],\n",
              "       [11, 12]])"
            ]
          },
          "metadata": {},
          "execution_count": 51
        }
      ]
    },
    {
      "cell_type": "code",
      "source": [
        "a.max()"
      ],
      "metadata": {
        "colab": {
          "base_uri": "https://localhost:8080/"
        },
        "id": "vZO_MD_E0O9r",
        "outputId": "6d0dfd55-fd92-4674-9616-8639edb497aa"
      },
      "execution_count": 53,
      "outputs": [
        {
          "output_type": "execute_result",
          "data": {
            "text/plain": [
              "12"
            ]
          },
          "metadata": {},
          "execution_count": 53
        }
      ]
    },
    {
      "cell_type": "code",
      "source": [
        "#1st #: range - [#, #), 2nd is dimensions of 2D array\n",
        "np.random.randint(10, 23, size = (3,4))"
      ],
      "metadata": {
        "colab": {
          "base_uri": "https://localhost:8080/"
        },
        "id": "GTn2jmIb0QZf",
        "outputId": "2f518583-b9cb-40c9-c60f-f29b321a4705"
      },
      "execution_count": 60,
      "outputs": [
        {
          "output_type": "execute_result",
          "data": {
            "text/plain": [
              "array([[12, 13, 21, 12],\n",
              "       [18, 20, 12, 18],\n",
              "       [13, 18, 17, 22]])"
            ]
          },
          "metadata": {},
          "execution_count": 60
        }
      ]
    },
    {
      "cell_type": "code",
      "source": [
        "b = np.array([1, 2, 3, 4, 5, 6, 7, 8, 9, 10, 11])\n",
        "a = np.array([1, 2, 3, 4, 5, 6, 7, 8, 9, 10, 11])"
      ],
      "metadata": {
        "id": "jUadZy-60x5x"
      },
      "execution_count": 67,
      "outputs": []
    },
    {
      "cell_type": "code",
      "source": [
        "a"
      ],
      "metadata": {
        "colab": {
          "base_uri": "https://localhost:8080/"
        },
        "id": "ZvG-m4Yk02TG",
        "outputId": "40c8df91-afda-4383-eaa6-4f06300b8e5e"
      },
      "execution_count": 68,
      "outputs": [
        {
          "output_type": "execute_result",
          "data": {
            "text/plain": [
              "array([ 1,  2,  3,  4,  5,  6,  7,  8,  9, 10, 11])"
            ]
          },
          "metadata": {},
          "execution_count": 68
        }
      ]
    },
    {
      "cell_type": "code",
      "source": [
        "b"
      ],
      "metadata": {
        "colab": {
          "base_uri": "https://localhost:8080/"
        },
        "id": "wauuMIct021x",
        "outputId": "ec7cc958-8a79-42fc-8566-262f896a7daf"
      },
      "execution_count": 69,
      "outputs": [
        {
          "output_type": "execute_result",
          "data": {
            "text/plain": [
              "array([ 1,  2,  3,  4,  5,  6,  7,  8,  9, 10, 11])"
            ]
          },
          "metadata": {},
          "execution_count": 69
        }
      ]
    },
    {
      "cell_type": "code",
      "source": [
        "#faster than normal pythong function\n",
        "np.concatenate((a,b))"
      ],
      "metadata": {
        "colab": {
          "base_uri": "https://localhost:8080/"
        },
        "id": "ltP8EVJU03wg",
        "outputId": "9a5c77eb-fbda-47ce-8158-bc5eeb4cf84f"
      },
      "execution_count": 71,
      "outputs": [
        {
          "output_type": "execute_result",
          "data": {
            "text/plain": [
              "array([ 1,  2,  3,  4,  5,  6,  7,  8,  9, 10, 11,  1,  2,  3,  4,  5,  6,\n",
              "        7,  8,  9, 10, 11])"
            ]
          },
          "metadata": {},
          "execution_count": 71
        }
      ]
    },
    {
      "cell_type": "code",
      "source": [
        "#adds entire list to a as one element\n",
        "a = [1, 2, 3, 4, 5]\n",
        "b = [4, 5, 6, 7, 8]\n",
        "a.append(b)"
      ],
      "metadata": {
        "id": "jzbAcTyx15WE"
      },
      "execution_count": 74,
      "outputs": []
    },
    {
      "cell_type": "code",
      "source": [
        "a"
      ],
      "metadata": {
        "colab": {
          "base_uri": "https://localhost:8080/"
        },
        "id": "yR4GVBUR2DCJ",
        "outputId": "afceb8dc-252f-470c-cb24-ba0bf8b65b81"
      },
      "execution_count": 75,
      "outputs": [
        {
          "output_type": "execute_result",
          "data": {
            "text/plain": [
              "[1, 2, 3, 4, 5, [4, 5, 6, 7, 8]]"
            ]
          },
          "metadata": {},
          "execution_count": 75
        }
      ]
    },
    {
      "cell_type": "code",
      "source": [
        "#makes the list continuous, where b is added \n",
        "#to the end as by each element, not the whole thing\n",
        "#at once\n",
        "a = [1, 2, 3, 4, 5]\n",
        "b = [4, 5, 6, 7, 8]\n",
        "a.extend(b)"
      ],
      "metadata": {
        "id": "kgljUb6Y2D6X"
      },
      "execution_count": 77,
      "outputs": []
    },
    {
      "cell_type": "code",
      "source": [
        "a"
      ],
      "metadata": {
        "colab": {
          "base_uri": "https://localhost:8080/"
        },
        "id": "YmM0SOQY2Ouq",
        "outputId": "466c56a9-b8cf-4697-d002-3fdc77f2ce45"
      },
      "execution_count": 78,
      "outputs": [
        {
          "output_type": "execute_result",
          "data": {
            "text/plain": [
              "[1, 2, 3, 4, 5, 4, 5, 6, 7, 8]"
            ]
          },
          "metadata": {},
          "execution_count": 78
        }
      ]
    },
    {
      "cell_type": "code",
      "source": [
        "arr = np.array([[1, 2, 3], [4, 5, 6], [7, 8, 9]])"
      ],
      "metadata": {
        "id": "ULTAGjSR3JTD"
      },
      "execution_count": 83,
      "outputs": []
    },
    {
      "cell_type": "code",
      "source": [
        "arr.shape"
      ],
      "metadata": {
        "colab": {
          "base_uri": "https://localhost:8080/"
        },
        "id": "E41XHF0T3Hg0",
        "outputId": "42e57d44-ba1b-4b08-dc1d-c43539d4412b"
      },
      "execution_count": 85,
      "outputs": [
        {
          "output_type": "execute_result",
          "data": {
            "text/plain": [
              "(3, 3)"
            ]
          },
          "metadata": {},
          "execution_count": 85
        }
      ]
    },
    {
      "cell_type": "code",
      "source": [
        "arr.size"
      ],
      "metadata": {
        "colab": {
          "base_uri": "https://localhost:8080/"
        },
        "id": "aHMjSizz3ZRX",
        "outputId": "918413b9-dd16-48aa-eef9-8d7ed2c6143d"
      },
      "execution_count": 87,
      "outputs": [
        {
          "output_type": "execute_result",
          "data": {
            "text/plain": [
              "9"
            ]
          },
          "metadata": {},
          "execution_count": 87
        }
      ]
    },
    {
      "cell_type": "code",
      "source": [
        "arr.sum()"
      ],
      "metadata": {
        "colab": {
          "base_uri": "https://localhost:8080/"
        },
        "id": "zr01f9nX35tU",
        "outputId": "e063a2a5-105e-4dad-f33d-bebb844db8b6"
      },
      "execution_count": 89,
      "outputs": [
        {
          "output_type": "execute_result",
          "data": {
            "text/plain": [
              "45"
            ]
          },
          "metadata": {},
          "execution_count": 89
        }
      ]
    },
    {
      "cell_type": "code",
      "source": [
        "arr.std()"
      ],
      "metadata": {
        "colab": {
          "base_uri": "https://localhost:8080/"
        },
        "id": "0D4n0MYx377p",
        "outputId": "42ef095b-52a5-4752-e45c-63a496c732eb"
      },
      "execution_count": 90,
      "outputs": [
        {
          "output_type": "execute_result",
          "data": {
            "text/plain": [
              "2.581988897471611"
            ]
          },
          "metadata": {},
          "execution_count": 90
        }
      ]
    },
    {
      "cell_type": "code",
      "source": [
        "arr.var()"
      ],
      "metadata": {
        "colab": {
          "base_uri": "https://localhost:8080/"
        },
        "id": "wS_VHyPS39Wj",
        "outputId": "19363436-d6e4-4b6a-de4d-b260e25d0c7e"
      },
      "execution_count": 91,
      "outputs": [
        {
          "output_type": "execute_result",
          "data": {
            "text/plain": [
              "6.666666666666667"
            ]
          },
          "metadata": {},
          "execution_count": 91
        }
      ]
    },
    {
      "cell_type": "code",
      "source": [
        "arr.mean()"
      ],
      "metadata": {
        "colab": {
          "base_uri": "https://localhost:8080/"
        },
        "id": "S7TqEFvg3-oT",
        "outputId": "3681e7ec-90ee-4bcf-c8e9-14e998bde998"
      },
      "execution_count": 92,
      "outputs": [
        {
          "output_type": "execute_result",
          "data": {
            "text/plain": [
              "5.0"
            ]
          },
          "metadata": {},
          "execution_count": 92
        }
      ]
    },
    {
      "cell_type": "code",
      "source": [
        "arr = [4, 5, 2, 7, 1, 8, 3]\n",
        "arr.sort()\n",
        "arr"
      ],
      "metadata": {
        "colab": {
          "base_uri": "https://localhost:8080/"
        },
        "id": "p9430kBV4AFI",
        "outputId": "40c086c9-b814-449f-f871-6de0c49e5687"
      },
      "execution_count": 97,
      "outputs": [
        {
          "output_type": "execute_result",
          "data": {
            "text/plain": [
              "[1, 2, 3, 4, 5, 7, 8]"
            ]
          },
          "metadata": {},
          "execution_count": 97
        }
      ]
    },
    {
      "cell_type": "code",
      "source": [
        "np.random.randint(69, 420, size = (4,4))"
      ],
      "metadata": {
        "colab": {
          "base_uri": "https://localhost:8080/"
        },
        "id": "xAhDUf3C9dfP",
        "outputId": "315768c6-a58f-4aab-b7eb-c483c7af4064"
      },
      "execution_count": 102,
      "outputs": [
        {
          "output_type": "execute_result",
          "data": {
            "text/plain": [
              "array([[333, 206, 242, 197],\n",
              "       [259, 342, 244, 176],\n",
              "       [337, 250, 220, 234],\n",
              "       [277, 128, 143, 395]])"
            ]
          },
          "metadata": {},
          "execution_count": 102
        }
      ]
    },
    {
      "cell_type": "code",
      "source": [
        "np.random.rand(4,4)"
      ],
      "metadata": {
        "colab": {
          "base_uri": "https://localhost:8080/"
        },
        "id": "6N-Cy6E2-x8R",
        "outputId": "ccf14a74-5c3c-4727-c2ce-2e53dba026cf"
      },
      "execution_count": 106,
      "outputs": [
        {
          "output_type": "execute_result",
          "data": {
            "text/plain": [
              "array([[0.14410163, 0.94602578, 0.29314777, 0.58930455],\n",
              "       [0.00914405, 0.73629433, 0.41061119, 0.30587997],\n",
              "       [0.19387232, 0.94269965, 0.71978587, 0.21349305],\n",
              "       [0.37460951, 0.92345719, 0.83721873, 0.42351193]])"
            ]
          },
          "metadata": {},
          "execution_count": 106
        }
      ]
    },
    {
      "cell_type": "code",
      "source": [
        "#concatenate\n",
        "#extend\n",
        "a = np.random.rand(2, 2)\n",
        "b = np.random.rand(2,2)\n",
        "\n",
        "print(a, b)\n",
        "np.concatenate((a, b))"
      ],
      "metadata": {
        "colab": {
          "base_uri": "https://localhost:8080/"
        },
        "id": "cUv-F26fBJJg",
        "outputId": "c3afc319-41d0-41f6-c9e9-6a4c88554c14"
      },
      "execution_count": 108,
      "outputs": [
        {
          "output_type": "stream",
          "name": "stdout",
          "text": [
            "[[0.38827643 0.38191096]\n",
            " [0.91393364 0.73415218]] [[0.36677708 0.55902912]\n",
            " [0.14937534 0.95027267]]\n"
          ]
        },
        {
          "output_type": "execute_result",
          "data": {
            "text/plain": [
              "array([[0.38827643, 0.38191096],\n",
              "       [0.91393364, 0.73415218],\n",
              "       [0.36677708, 0.55902912],\n",
              "       [0.14937534, 0.95027267]])"
            ]
          },
          "metadata": {},
          "execution_count": 108
        }
      ]
    },
    {
      "cell_type": "code",
      "source": [
        "'''\n",
        "1 2    +     6 7\n",
        "3 4          8 9\n",
        "\n",
        "= 1 2 6 7\n",
        "  3 4 8 9\n",
        "'''\n",
        "\n",
        "a = np.array([[1, 2], [3, 4]])\n",
        "b = np.array([[6, 7], [8, 9]])\n",
        "\n",
        "print(a, b)\n",
        "c = np.hstack((a, b))\n",
        "print(c)"
      ],
      "metadata": {
        "colab": {
          "base_uri": "https://localhost:8080/"
        },
        "id": "AQaXLpitBq2T",
        "outputId": "ceb55b3f-2b8b-4735-f759-bd8c16a52b72"
      },
      "execution_count": 115,
      "outputs": [
        {
          "output_type": "stream",
          "name": "stdout",
          "text": [
            "[[1 2]\n",
            " [3 4]] [[6 7]\n",
            " [8 9]]\n",
            "[[1 2 6 7]\n",
            " [3 4 8 9]]\n"
          ]
        }
      ]
    },
    {
      "cell_type": "code",
      "source": [
        "#concatenate axis:\n",
        "\n",
        "#defaults to zero\n",
        "d = np.concatenate((a, b), axis = 0)\n",
        "print(d)\n",
        "e = np.concatenate((a, b), axis = 1)\n",
        "print(e)"
      ],
      "metadata": {
        "colab": {
          "base_uri": "https://localhost:8080/"
        },
        "id": "2PGwcZ08FDxL",
        "outputId": "5b3631e1-a8a4-4fa0-99c3-68d65c64a0bd"
      },
      "execution_count": 118,
      "outputs": [
        {
          "output_type": "stream",
          "name": "stdout",
          "text": [
            "[[1 2]\n",
            " [3 4]\n",
            " [6 7]\n",
            " [8 9]]\n",
            "[[1 2 6 7]\n",
            " [3 4 8 9]]\n"
          ]
        }
      ]
    },
    {
      "cell_type": "code",
      "source": [
        "x = np.random.randint(1, 26, size = (5, 5))\n",
        "print(x)\n",
        "print(x[0][2])\n",
        "print(x[0,2])\n",
        "\n",
        "x[::]\n",
        "#first row\n",
        "x[0]\n",
        "x[0, :]\n",
        "#4th column\n",
        "x[:, 3]\n",
        "\n",
        "x[:, 4] = 0\n",
        "print(x)\n",
        "\n",
        "# change ones in the [1,3) rows and [2, 3) columns\n",
        "x[1:3, 2:3] = -1\n",
        "print(x)\n",
        "\n",
        "#check if all in 2nd row are more than 90\n",
        "print(x[1,:] >= 90)\n",
        "\n",
        "#print last column\n",
        "print(x[:, -1])\n",
        "print(x[:, -1] >= 10)"
      ],
      "metadata": {
        "colab": {
          "base_uri": "https://localhost:8080/"
        },
        "id": "dQNzeAtHFca6",
        "outputId": "4bc3b9e5-9645-464b-ae28-bd27cc54d2e4"
      },
      "execution_count": 135,
      "outputs": [
        {
          "output_type": "stream",
          "name": "stdout",
          "text": [
            "[[18 17  2  9 17]\n",
            " [17 17 18  9 22]\n",
            " [15 22  3 20 14]\n",
            " [19 22 19 19  1]\n",
            " [ 8 20  1 16 17]]\n",
            "2\n",
            "2\n",
            "[[18 17  2  9  0]\n",
            " [17 17 18  9  0]\n",
            " [15 22  3 20  0]\n",
            " [19 22 19 19  0]\n",
            " [ 8 20  1 16  0]]\n",
            "[[18 17  2  9  0]\n",
            " [17 17 -1  9  0]\n",
            " [15 22 -1 20  0]\n",
            " [19 22 19 19  0]\n",
            " [ 8 20  1 16  0]]\n",
            "[False False False False False]\n",
            "[0 0 0 0 0]\n",
            "[False False False False False]\n"
          ]
        }
      ]
    },
    {
      "cell_type": "code",
      "source": [
        "y = np.zeros((5,5))\n",
        "\n"
      ],
      "metadata": {
        "colab": {
          "base_uri": "https://localhost:8080/"
        },
        "id": "G_vYskE8Gkrs",
        "outputId": "62a33182-6771-4aac-ef79-5b9593a7677e"
      },
      "execution_count": 145,
      "outputs": [
        {
          "output_type": "stream",
          "name": "stdout",
          "text": [
            "[[0. 0. 0. 0. 0.]\n",
            " [0. 0. 0. 0. 0.]\n",
            " [0. 0. 0. 0. 0.]\n",
            " [0. 0. 0. 0. 0.]\n",
            " [0. 0. 0. 0. 0.]]\n"
          ]
        }
      ]
    }
  ]
}