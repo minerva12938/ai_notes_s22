{
  "cells": [
    {
      "cell_type": "markdown",
      "metadata": {
        "id": "view-in-github",
        "colab_type": "text"
      },
      "source": [
        "<a href=\"https://colab.research.google.com/github/minerva12938/ai_notes_s22/blob/main/day_5_NumPy_exercises.ipynb\" target=\"_parent\"><img src=\"https://colab.research.google.com/assets/colab-badge.svg\" alt=\"Open In Colab\"/></a>"
      ]
    },
    {
      "cell_type": "markdown",
      "metadata": {
        "id": "QJZy2LNrXeTL"
      },
      "source": [
        "\n",
        "# NumPy exercises\n"
      ]
    },
    {
      "cell_type": "code",
      "execution_count": null,
      "metadata": {
        "id": "c3_Rj2JEXeTN",
        "colab": {
          "base_uri": "https://localhost:8080/"
        },
        "outputId": "52a7e51a-2921-49b3-b439-6fe4c3db6b1b"
      },
      "outputs": [
        {
          "output_type": "stream",
          "name": "stdout",
          "text": [
            "1.21.6\n"
          ]
        }
      ],
      "source": [
        "# Import the numpy package under the name np\n",
        "import numpy as np\n",
        "\n",
        "# Print the numpy version and the configuration\n",
        "print(np.__version__)"
      ]
    },
    {
      "cell_type": "markdown",
      "metadata": {
        "id": "q_UqDkVIXeTN"
      },
      "source": [
        "![purple-divider](https://user-images.githubusercontent.com/7065401/52071927-c1cd7100-2562-11e9-908a-dde91ba14e59.png)\n",
        "\n",
        "## Array creation"
      ]
    },
    {
      "cell_type": "markdown",
      "metadata": {
        "id": "be3WDfCJXeTO"
      },
      "source": [
        "### Create a numpy array of size 10, filled with zeros."
      ]
    },
    {
      "cell_type": "code",
      "execution_count": null,
      "metadata": {
        "id": "1RwJeLQjXeTW",
        "colab": {
          "base_uri": "https://localhost:8080/"
        },
        "outputId": "6aef0fcb-8790-4b9f-9fbb-e8f5df5aae85"
      },
      "outputs": [
        {
          "output_type": "execute_result",
          "data": {
            "text/plain": [
              "array([0., 0., 0., 0., 0., 0., 0., 0., 0., 0.])"
            ]
          },
          "metadata": {},
          "execution_count": 4
        }
      ],
      "source": [
        "np.zeros(10)"
      ]
    },
    {
      "cell_type": "markdown",
      "metadata": {
        "id": "Ryv0tvKKXeTW"
      },
      "source": [
        "![green-divider](https://user-images.githubusercontent.com/7065401/52071924-c003ad80-2562-11e9-8297-1c6595f8a7ff.png)\n",
        "\n",
        "### Create a numpy array with values ranging from 10 to 49"
      ]
    },
    {
      "cell_type": "code",
      "execution_count": null,
      "metadata": {
        "id": "7APa07zZXeTW",
        "colab": {
          "base_uri": "https://localhost:8080/"
        },
        "outputId": "3972685b-d6f2-4bd1-9023-052406bac042"
      },
      "outputs": [
        {
          "output_type": "execute_result",
          "data": {
            "text/plain": [
              "array([10, 11, 12, 13, 14, 15, 16, 17, 18, 19, 20, 21, 22, 23, 24, 25, 26,\n",
              "       27, 28, 29, 30, 31, 32, 33, 34, 35, 36, 37, 38, 39, 40, 41, 42, 43,\n",
              "       44, 45, 46, 47, 48, 49])"
            ]
          },
          "metadata": {},
          "execution_count": 7
        }
      ],
      "source": [
        "np.arange(10, 50)"
      ]
    },
    {
      "cell_type": "markdown",
      "metadata": {
        "id": "kSH6yTghXeTX"
      },
      "source": [
        "![green-divider](https://user-images.githubusercontent.com/7065401/52071924-c003ad80-2562-11e9-8297-1c6595f8a7ff.png)\n",
        "\n",
        "### Create a numpy matrix of 2*2 integers, filled with ones."
      ]
    },
    {
      "cell_type": "code",
      "execution_count": null,
      "metadata": {
        "id": "1tktFBbqXeTX",
        "colab": {
          "base_uri": "https://localhost:8080/"
        },
        "outputId": "ffefc21d-b210-4b7a-c139-5cf3c7878819"
      },
      "outputs": [
        {
          "output_type": "execute_result",
          "data": {
            "text/plain": [
              "array([[1, 1],\n",
              "       [1, 1]])"
            ]
          },
          "metadata": {},
          "execution_count": 13
        }
      ],
      "source": [
        "np.ones((2, 2), int)"
      ]
    },
    {
      "cell_type": "markdown",
      "metadata": {
        "id": "qT-oLSHVXeTX"
      },
      "source": [
        "![green-divider](https://user-images.githubusercontent.com/7065401/52071924-c003ad80-2562-11e9-8297-1c6595f8a7ff.png)\n",
        "\n",
        "### Create a numpy matrix of 3*2 float numbers, filled with ones."
      ]
    },
    {
      "cell_type": "code",
      "execution_count": null,
      "metadata": {
        "id": "D2ZpLckuXeTX",
        "colab": {
          "base_uri": "https://localhost:8080/"
        },
        "outputId": "90bd7034-4822-4058-9306-bf1a5692c9b9"
      },
      "outputs": [
        {
          "output_type": "execute_result",
          "data": {
            "text/plain": [
              "array([[1., 1., 1.],\n",
              "       [1., 1., 1.]])"
            ]
          },
          "metadata": {},
          "execution_count": 14
        }
      ],
      "source": [
        "np.ones((3, 2), float)"
      ]
    },
    {
      "cell_type": "markdown",
      "metadata": {
        "id": "ZYUHrZ8lXeTX"
      },
      "source": [
        "![green-divider](https://user-images.githubusercontent.com/7065401/52071924-c003ad80-2562-11e9-8297-1c6595f8a7ff.png)\n",
        "\n",
        "### Given the X numpy array, create a new numpy array with the same shape and type as X, filled with ones."
      ]
    },
    {
      "cell_type": "code",
      "execution_count": null,
      "metadata": {
        "id": "20a5Ep8FXeTY",
        "colab": {
          "base_uri": "https://localhost:8080/"
        },
        "outputId": "17e4df7f-1df8-420c-b1bb-9d0809bfd77a"
      },
      "outputs": [
        {
          "output_type": "stream",
          "name": "stdout",
          "text": [
            "[[2 1 2 3 1]\n",
            " [4 3 1 1 2]\n",
            " [3 1 2 3 3]\n",
            " [3 4 1 2 1]]\n",
            "\n",
            "[[1 1 1 1 1]\n",
            " [1 1 1 1 1]\n",
            " [1 1 1 1 1]\n",
            " [1 1 1 1 1]]\n"
          ]
        }
      ],
      "source": [
        "rows = 4\n",
        "columns = 5\n",
        "x = np.random.randint(1, 5, (rows, columns))\n",
        "print(x)\n",
        "print()\n",
        "\n",
        "def same_shape(x):\n",
        "  # or np.ones_like(x)\n",
        "  return np.ones((x.shape), int)\n",
        "\n",
        "print(same_shape(x))"
      ]
    },
    {
      "cell_type": "markdown",
      "metadata": {
        "id": "DfxOtoWvXeTY"
      },
      "source": [
        "![green-divider](https://user-images.githubusercontent.com/7065401/52071924-c003ad80-2562-11e9-8297-1c6595f8a7ff.png)\n",
        "\n",
        "### Given the X numpy matrix, create a new numpy matrix with the same shape and type as X, filled with zeros."
      ]
    },
    {
      "cell_type": "code",
      "execution_count": null,
      "metadata": {
        "id": "PO_q6lkDXeTY",
        "colab": {
          "base_uri": "https://localhost:8080/"
        },
        "outputId": "b14020f5-c2f8-4f46-8ab4-0a241534902f"
      },
      "outputs": [
        {
          "output_type": "stream",
          "name": "stdout",
          "text": [
            "[[2 1 2 3 1]\n",
            " [4 3 1 1 2]\n",
            " [3 1 2 3 3]\n",
            " [3 4 1 2 1]]\n",
            "\n",
            "[[0 0 0 0 0]\n",
            " [0 0 0 0 0]\n",
            " [0 0 0 0 0]\n",
            " [0 0 0 0 0]]\n"
          ]
        }
      ],
      "source": [
        "print(x)\n",
        "print()\n",
        "\n",
        "def same_shape_zero(x):\n",
        "  #or np.zeros_like(x)\n",
        "  return np.zeros((x.shape), int)\n",
        "\n",
        "print(same_shape_zero(x))"
      ]
    },
    {
      "cell_type": "markdown",
      "metadata": {
        "id": "Ju_-_OywXeTY"
      },
      "source": [
        "![green-divider](https://user-images.githubusercontent.com/7065401/52071924-c003ad80-2562-11e9-8297-1c6595f8a7ff.png)\n",
        "\n",
        "### Create a numpy matrix of 4*4 integers, filled with fives."
      ]
    },
    {
      "cell_type": "code",
      "execution_count": null,
      "metadata": {
        "id": "OM1SkNluXeTY",
        "colab": {
          "base_uri": "https://localhost:8080/"
        },
        "outputId": "4f68c828-74ce-4e92-c923-8dfc47b464bc"
      },
      "outputs": [
        {
          "output_type": "stream",
          "name": "stdout",
          "text": [
            "[[5 5 5 5]\n",
            " [5 5 5 5]\n",
            " [5 5 5 5]\n",
            " [5 5 5 5]]\n"
          ]
        }
      ],
      "source": [
        "y= np.zeros((4, 4), int)\n",
        "y[y == 0] = 5\n",
        "print(y)\n",
        "\n",
        "#or np.ones([4,4], dtype=np.int) * 5"
      ]
    },
    {
      "cell_type": "markdown",
      "metadata": {
        "id": "ZeLdJmMWXeTZ"
      },
      "source": [
        "![green-divider](https://user-images.githubusercontent.com/7065401/52071924-c003ad80-2562-11e9-8297-1c6595f8a7ff.png)\n",
        "\n",
        "### Given the X numpy matrix, create a new numpy matrix with the same shape and type as X, filled with sevens."
      ]
    },
    {
      "cell_type": "code",
      "execution_count": null,
      "metadata": {
        "id": "N7c1GG8iXeTZ",
        "colab": {
          "base_uri": "https://localhost:8080/"
        },
        "outputId": "206ac4b2-13e3-4032-db45-c66cbde65353"
      },
      "outputs": [
        {
          "output_type": "stream",
          "name": "stdout",
          "text": [
            "[[7 7 7 7 7]\n",
            " [7 7 7 7 7]\n",
            " [7 7 7 7 7]\n",
            " [7 7 7 7 7]]\n"
          ]
        }
      ],
      "source": [
        "def same_shape_sevens(x):\n",
        "  y = x.copy\n",
        "  y = np.zeros((x.shape), int)\n",
        "  y[y == 0] = 7\n",
        "  #or np.ones([4,4], dtype=np.int) * 7\n",
        "  return y\n",
        "\n",
        "print(same_shape_sevens(x))"
      ]
    },
    {
      "cell_type": "markdown",
      "metadata": {
        "id": "Ka9JLJFlXeTZ"
      },
      "source": [
        "![green-divider](https://user-images.githubusercontent.com/7065401/52071924-c003ad80-2562-11e9-8297-1c6595f8a7ff.png)\n",
        "\n",
        "### Create a 3*3 identity numpy matrix with ones on the diagonal and zeros elsewhere."
      ]
    },
    {
      "cell_type": "code",
      "execution_count": null,
      "metadata": {
        "id": "Ef7DZMZzXeTZ",
        "colab": {
          "base_uri": "https://localhost:8080/"
        },
        "outputId": "412dc984-730a-48a6-c0ae-b0b77e1aa9dc"
      },
      "outputs": [
        {
          "output_type": "stream",
          "name": "stdout",
          "text": [
            "[[1. 0. 0.]\n",
            " [0. 1. 0.]\n",
            " [0. 0. 1.]]\n"
          ]
        }
      ],
      "source": [
        "z = np.identity(3)\n",
        "print(z)"
      ]
    },
    {
      "cell_type": "markdown",
      "metadata": {
        "id": "vxviK_zuXeTZ"
      },
      "source": [
        "![green-divider](https://user-images.githubusercontent.com/7065401/52071924-c003ad80-2562-11e9-8297-1c6595f8a7ff.png)\n",
        "\n",
        "### Create a numpy array, filled with 3 random integer values between 1 and 10."
      ]
    },
    {
      "cell_type": "code",
      "execution_count": null,
      "metadata": {
        "id": "VOQyPPP1XeTZ",
        "colab": {
          "base_uri": "https://localhost:8080/"
        },
        "outputId": "2b219f78-7133-408d-9e4f-b1cbf8e8baac"
      },
      "outputs": [
        {
          "output_type": "stream",
          "name": "stdout",
          "text": [
            "[6 1 1]\n"
          ]
        }
      ],
      "source": [
        "q = np.random.randint(1, 11, 3)\n",
        "print(q)"
      ]
    },
    {
      "cell_type": "markdown",
      "metadata": {
        "id": "kSUBgPWwXeTa"
      },
      "source": [
        "![green-divider](https://user-images.githubusercontent.com/7065401/52071924-c003ad80-2562-11e9-8297-1c6595f8a7ff.png)\n",
        "\n",
        "### Create a 3\\*3\\*3 numpy matrix, filled with random float values."
      ]
    },
    {
      "cell_type": "code",
      "execution_count": null,
      "metadata": {
        "id": "BvXxc63JXeTa",
        "colab": {
          "base_uri": "https://localhost:8080/"
        },
        "outputId": "e1ff7362-4354-43cf-c7eb-ec02a30829e5"
      },
      "outputs": [
        {
          "output_type": "stream",
          "name": "stdout",
          "text": [
            "[[[1.20806003 2.43641952 6.21951065]\n",
            "  [9.87118515 7.44639678 4.42934108]\n",
            "  [4.38614038 8.97958486 3.53310294]]\n",
            "\n",
            " [[8.57767333 9.19199335 5.27290447]\n",
            "  [5.30965356 6.09430223 8.26298918]\n",
            "  [7.75674158 9.56995233 6.19475625]]\n",
            "\n",
            " [[9.6746614  8.16506063 7.97256924]\n",
            "  [5.77675609 9.5302359  3.05936579]\n",
            "  [4.49577455 2.59937184 7.05866263]]]\n"
          ]
        }
      ],
      "source": [
        "q = np.random.uniform(1, 11, size = (3, 3, 3))\n",
        "# or np.random.randn(3, 3, 3)\n",
        "print(q)"
      ]
    },
    {
      "cell_type": "markdown",
      "metadata": {
        "id": "vrUgIAiTXeTa"
      },
      "source": [
        "![green-divider](https://user-images.githubusercontent.com/7065401/52071924-c003ad80-2562-11e9-8297-1c6595f8a7ff.png)\n",
        "\n",
        "### Given the X python list convert it to an Y numpy array"
      ]
    },
    {
      "cell_type": "code",
      "execution_count": null,
      "metadata": {
        "id": "6579UtShXeTa",
        "colab": {
          "base_uri": "https://localhost:8080/"
        },
        "outputId": "a77bb593-3f0e-4dd9-a51a-1cc87ebefa74"
      },
      "outputs": [
        {
          "output_type": "stream",
          "name": "stdout",
          "text": [
            "[1 2 3 4 5 6]\n"
          ]
        }
      ],
      "source": [
        "x = list([1, 2, 3, 4, 5, 6])\n",
        "\n",
        "def list_to_array(x):\n",
        "  y = np.array(x)\n",
        "  return y\n",
        "\n",
        "print(list_to_array(x))"
      ]
    },
    {
      "cell_type": "markdown",
      "metadata": {
        "id": "VlLpD7n1XeTa"
      },
      "source": [
        "![green-divider](https://user-images.githubusercontent.com/7065401/52071924-c003ad80-2562-11e9-8297-1c6595f8a7ff.png)\n",
        "\n",
        "### Given the X numpy array, make a copy and store it on Y."
      ]
    },
    {
      "cell_type": "code",
      "execution_count": null,
      "metadata": {
        "id": "NopuA810XeTa",
        "colab": {
          "base_uri": "https://localhost:8080/"
        },
        "outputId": "2ba4c05d-2cb9-46d8-874f-4e4cb79c5edc"
      },
      "outputs": [
        {
          "output_type": "stream",
          "name": "stdout",
          "text": [
            "[1 2 3 4 5 6 7 8 9]\n",
            "[1 2 3 4 5 6 7 8 9]\n"
          ]
        }
      ],
      "source": [
        "x = np.arange(1, 10)\n",
        "print(x)\n",
        "def copy_and_store (x):\n",
        "  y = x.copy()\n",
        "  return y\n",
        "\n",
        "print(copy_and_store(x))"
      ]
    },
    {
      "cell_type": "markdown",
      "metadata": {
        "id": "88U7iVFoXeTb"
      },
      "source": [
        "![green-divider](https://user-images.githubusercontent.com/7065401/52071924-c003ad80-2562-11e9-8297-1c6595f8a7ff.png)\n",
        "\n",
        "### Create a numpy array with numbers from 1 to 10"
      ]
    },
    {
      "cell_type": "code",
      "execution_count": null,
      "metadata": {
        "id": "Kld4jDQ3XeTb",
        "colab": {
          "base_uri": "https://localhost:8080/"
        },
        "outputId": "e8692786-709b-4587-d5ba-54f1d5752e9b"
      },
      "outputs": [
        {
          "output_type": "stream",
          "name": "stdout",
          "text": [
            "[ 1  2  3  4  5  6  7  8  9 10]\n"
          ]
        }
      ],
      "source": [
        "x = np.arange(1, 11)\n",
        "print(x)"
      ]
    },
    {
      "cell_type": "markdown",
      "metadata": {
        "id": "H3hpouEeXeTb"
      },
      "source": [
        "![green-divider](https://user-images.githubusercontent.com/7065401/52071924-c003ad80-2562-11e9-8297-1c6595f8a7ff.png)\n",
        "\n",
        "### Create a numpy array with the odd numbers between 1 to 10"
      ]
    },
    {
      "cell_type": "code",
      "execution_count": null,
      "metadata": {
        "id": "TIAoOjGbXeTb",
        "colab": {
          "base_uri": "https://localhost:8080/"
        },
        "outputId": "f6c1d912-a12c-4d31-9ff7-3776bc0368fa"
      },
      "outputs": [
        {
          "output_type": "stream",
          "name": "stdout",
          "text": [
            "[1 3 5 7 9]\n"
          ]
        }
      ],
      "source": [
        "x = np.arange(1, 11, 2)\n",
        "print(x)"
      ]
    },
    {
      "cell_type": "markdown",
      "metadata": {
        "id": "VYfMUnhrXeTb"
      },
      "source": [
        "![green-divider](https://user-images.githubusercontent.com/7065401/52071924-c003ad80-2562-11e9-8297-1c6595f8a7ff.png)\n",
        "\n",
        "### Create a numpy array with numbers from 1 to 10, in descending order."
      ]
    },
    {
      "cell_type": "code",
      "execution_count": null,
      "metadata": {
        "id": "3Z9WmiVVXeTb",
        "colab": {
          "base_uri": "https://localhost:8080/"
        },
        "outputId": "ec4810e2-428b-46b6-c8be-f377fff2dd12"
      },
      "outputs": [
        {
          "output_type": "stream",
          "name": "stdout",
          "text": [
            "[10  9  8  7  6  5  4  3  2  1]\n"
          ]
        }
      ],
      "source": [
        "x = np.arange(10, 0, -1)\n",
        "print(x)"
      ]
    },
    {
      "cell_type": "markdown",
      "metadata": {
        "id": "sSFX0QeFXeTb"
      },
      "source": [
        "![green-divider](https://user-images.githubusercontent.com/7065401/52071924-c003ad80-2562-11e9-8297-1c6595f8a7ff.png)\n",
        "\n",
        "### Create a 3*3 numpy matrix, filled with values ranging from 0 to 8"
      ]
    },
    {
      "cell_type": "code",
      "execution_count": null,
      "metadata": {
        "id": "EM2q3zFDXeTb",
        "colab": {
          "base_uri": "https://localhost:8080/"
        },
        "outputId": "0c3ebe7a-a9bd-4c2d-9364-e962f8cc96fe"
      },
      "outputs": [
        {
          "output_type": "stream",
          "name": "stdout",
          "text": [
            "[[0 1 2]\n",
            " [3 4 5]\n",
            " [6 7 8]]\n"
          ]
        }
      ],
      "source": [
        "x = np.arange(0, 9)\n",
        "x.resize((3, 3))\n",
        "print(x)"
      ]
    },
    {
      "cell_type": "markdown",
      "metadata": {
        "id": "4PAuo9vMXeTb"
      },
      "source": [
        "![green-divider](https://user-images.githubusercontent.com/7065401/52071924-c003ad80-2562-11e9-8297-1c6595f8a7ff.png)\n",
        "\n",
        "### Show the memory size of the given Z numpy matrix"
      ]
    },
    {
      "cell_type": "code",
      "execution_count": null,
      "metadata": {
        "id": "r_mOOns_XeTb",
        "colab": {
          "base_uri": "https://localhost:8080/"
        },
        "outputId": "5913b456-518d-45ee-b71a-d5f83cb147b5"
      },
      "outputs": [
        {
          "output_type": "stream",
          "name": "stdout",
          "text": [
            "72\n"
          ]
        }
      ],
      "source": [
        "z = x.copy()\n",
        "def return_size(z):\n",
        "  return (z.size * z.itemsize)\n",
        "\n",
        "print(return_size(z))"
      ]
    },
    {
      "cell_type": "markdown",
      "metadata": {
        "id": "qv1rLuyAXeTc"
      },
      "source": [
        "![purple-divider](https://user-images.githubusercontent.com/7065401/52071927-c1cd7100-2562-11e9-908a-dde91ba14e59.png)\n",
        "\n",
        "## Array indexation\n"
      ]
    },
    {
      "cell_type": "markdown",
      "metadata": {
        "id": "8wrxp8fXXeTc"
      },
      "source": [
        "### Given the X numpy array, show it's first element"
      ]
    },
    {
      "cell_type": "code",
      "execution_count": null,
      "metadata": {
        "id": "1eytGAhoXeTc",
        "colab": {
          "base_uri": "https://localhost:8080/"
        },
        "outputId": "40fcde3b-7e9a-4a93-8b6d-9d4f779cadea"
      },
      "outputs": [
        {
          "output_type": "stream",
          "name": "stdout",
          "text": [
            "1\n"
          ]
        }
      ],
      "source": [
        "x = np.arange(1, 9)\n",
        "def first_elem(x):\n",
        "  return x[0]\n",
        "print(first_elem(x))"
      ]
    },
    {
      "cell_type": "markdown",
      "metadata": {
        "id": "C27ssQJ7XeTc"
      },
      "source": [
        "![green-divider](https://user-images.githubusercontent.com/7065401/52071924-c003ad80-2562-11e9-8297-1c6595f8a7ff.png)\n",
        "\n",
        "### Given the X numpy array, show it's last element"
      ]
    },
    {
      "cell_type": "code",
      "execution_count": null,
      "metadata": {
        "id": "g6ZnGOrxXeTc",
        "colab": {
          "base_uri": "https://localhost:8080/"
        },
        "outputId": "afc11122-03c5-42f1-98d6-19dd71ab76e3"
      },
      "outputs": [
        {
          "output_type": "stream",
          "name": "stdout",
          "text": [
            "8\n"
          ]
        }
      ],
      "source": [
        "def last_elem(x):\n",
        "  return x[-1]\n",
        "print(last_elem(x))"
      ]
    },
    {
      "cell_type": "markdown",
      "metadata": {
        "id": "ux7Q_yqxXeTc"
      },
      "source": [
        "![green-divider](https://user-images.githubusercontent.com/7065401/52071924-c003ad80-2562-11e9-8297-1c6595f8a7ff.png)\n",
        "\n",
        "### Given the X numpy array, show it's first three elements"
      ]
    },
    {
      "cell_type": "code",
      "execution_count": null,
      "metadata": {
        "id": "Sy6sz0L5XeTc",
        "colab": {
          "base_uri": "https://localhost:8080/"
        },
        "outputId": "5000d874-4c79-4e4b-9dd2-e34b42a35105"
      },
      "outputs": [
        {
          "output_type": "stream",
          "name": "stdout",
          "text": [
            "[1 2 3]\n"
          ]
        }
      ],
      "source": [
        "def first_three(x):\n",
        "  return x[:3]\n",
        "print(first_three(x))"
      ]
    },
    {
      "cell_type": "markdown",
      "metadata": {
        "id": "r-sx9FB5XeTc"
      },
      "source": [
        "![green-divider](https://user-images.githubusercontent.com/7065401/52071924-c003ad80-2562-11e9-8297-1c6595f8a7ff.png)\n",
        "\n",
        "### Given the X numpy array, show all middle elements"
      ]
    },
    {
      "cell_type": "code",
      "execution_count": null,
      "metadata": {
        "id": "mzY0N2SmXeTc",
        "colab": {
          "base_uri": "https://localhost:8080/"
        },
        "outputId": "715ca981-6a1a-4676-bdaf-20ef4445e026"
      },
      "outputs": [
        {
          "output_type": "stream",
          "name": "stdout",
          "text": [
            "[2 3 4 5 6]\n"
          ]
        }
      ],
      "source": [
        "def midd(x):\n",
        "  return x[1:-2]\n",
        "print(midd(x))"
      ]
    },
    {
      "cell_type": "markdown",
      "metadata": {
        "id": "hi6rz7iNXeTd"
      },
      "source": [
        "![green-divider](https://user-images.githubusercontent.com/7065401/52071924-c003ad80-2562-11e9-8297-1c6595f8a7ff.png)\n",
        "\n",
        "### Given the X numpy array, show the elements in reverse position"
      ]
    },
    {
      "cell_type": "code",
      "execution_count": null,
      "metadata": {
        "id": "NNlwYOfwXeTd",
        "colab": {
          "base_uri": "https://localhost:8080/"
        },
        "outputId": "0cce0265-ca13-43d6-c842-aa9f2bdca295"
      },
      "outputs": [
        {
          "output_type": "stream",
          "name": "stdout",
          "text": [
            "[8 7 6 5 4 3 2 1]\n"
          ]
        }
      ],
      "source": [
        "def rev(x):\n",
        "  return x[::-1]\n",
        "print(rev(x))"
      ]
    },
    {
      "cell_type": "markdown",
      "metadata": {
        "id": "PoLP1hBzXeTd"
      },
      "source": [
        "![green-divider](https://user-images.githubusercontent.com/7065401/52071924-c003ad80-2562-11e9-8297-1c6595f8a7ff.png)\n",
        "\n",
        "### Given the X numpy array, show the elements in an odd position"
      ]
    },
    {
      "cell_type": "code",
      "execution_count": null,
      "metadata": {
        "id": "-yY__rnCXeTd",
        "colab": {
          "base_uri": "https://localhost:8080/"
        },
        "outputId": "d54ae8c3-3a07-4fab-f886-9c2938284a13"
      },
      "outputs": [
        {
          "output_type": "stream",
          "name": "stdout",
          "text": [
            "[2 4 6 8]\n"
          ]
        }
      ],
      "source": [
        "#done assuming first element is @ 0, so at an even position\n",
        "def odds(x):\n",
        "  return x[1::2]\n",
        "print(odds(x))"
      ]
    },
    {
      "cell_type": "markdown",
      "metadata": {
        "id": "jaiTTjTJXeTd"
      },
      "source": [
        "![green-divider](https://user-images.githubusercontent.com/7065401/52071924-c003ad80-2562-11e9-8297-1c6595f8a7ff.png)\n",
        "\n",
        "### Given the X numpy matrix, show the first row elements"
      ]
    },
    {
      "cell_type": "code",
      "execution_count": null,
      "metadata": {
        "id": "E-n1XQtzXeTd",
        "colab": {
          "base_uri": "https://localhost:8080/"
        },
        "outputId": "794ff133-42c6-40fc-fcd7-0ed31b959221"
      },
      "outputs": [
        {
          "output_type": "stream",
          "name": "stdout",
          "text": [
            "[[5 2 9]\n",
            " [3 7 8]\n",
            " [3 7 9]]\n",
            "\n",
            "[5 2 9]\n"
          ]
        }
      ],
      "source": [
        "y = np.random.randint(1, 11, size = (3, 3))\n",
        "print(y)\n",
        "print()\n",
        "\n",
        "def first_row(y):\n",
        "  return y[0]\n",
        "\n",
        "print(first_row(y))"
      ]
    },
    {
      "cell_type": "markdown",
      "metadata": {
        "id": "YzwiDFrsXeTd"
      },
      "source": [
        "![green-divider](https://user-images.githubusercontent.com/7065401/52071924-c003ad80-2562-11e9-8297-1c6595f8a7ff.png)\n",
        "\n",
        "### Given the X numpy matrix, show the last row elements"
      ]
    },
    {
      "cell_type": "code",
      "execution_count": null,
      "metadata": {
        "id": "keGFkn1uXeTd",
        "colab": {
          "base_uri": "https://localhost:8080/"
        },
        "outputId": "6ba6385e-ed2e-4e92-afe3-90de66ed665e"
      },
      "outputs": [
        {
          "output_type": "stream",
          "name": "stdout",
          "text": [
            "[3 7 9]\n"
          ]
        }
      ],
      "source": [
        "def last_row(y):\n",
        "  return y[-1]\n",
        "\n",
        "print(last_row(y))"
      ]
    },
    {
      "cell_type": "markdown",
      "metadata": {
        "id": "KvAsNMikXeTd"
      },
      "source": [
        "![green-divider](https://user-images.githubusercontent.com/7065401/52071924-c003ad80-2562-11e9-8297-1c6595f8a7ff.png)\n",
        "\n",
        "### Given the X numpy matrix, show the first element on first row"
      ]
    },
    {
      "cell_type": "code",
      "execution_count": null,
      "metadata": {
        "id": "ZkCKY3OCXeTd",
        "colab": {
          "base_uri": "https://localhost:8080/"
        },
        "outputId": "fb6d08b3-cb42-41fb-e4f2-ece064a1e5cf"
      },
      "outputs": [
        {
          "output_type": "stream",
          "name": "stdout",
          "text": [
            "5\n"
          ]
        }
      ],
      "source": [
        "def first_elem_matrix(y):\n",
        "  return y[0][0]\n",
        "\n",
        "print(first_elem_matrix(y))"
      ]
    },
    {
      "cell_type": "markdown",
      "metadata": {
        "id": "hSVcjd6wXeTe"
      },
      "source": [
        "![green-divider](https://user-images.githubusercontent.com/7065401/52071924-c003ad80-2562-11e9-8297-1c6595f8a7ff.png)\n",
        "\n",
        "### Given the X numpy matrix, show the last element on last row"
      ]
    },
    {
      "cell_type": "code",
      "execution_count": null,
      "metadata": {
        "id": "ZBUuAKW3XeTe",
        "colab": {
          "base_uri": "https://localhost:8080/"
        },
        "outputId": "cd7ae60e-bc0a-4bb0-bd3d-9fd6f7514e5f"
      },
      "outputs": [
        {
          "output_type": "stream",
          "name": "stdout",
          "text": [
            "9\n"
          ]
        }
      ],
      "source": [
        "def last_elem_matrix(y):\n",
        "  return y[-1][-1]\n",
        "\n",
        "print(last_elem_matrix(y))"
      ]
    },
    {
      "cell_type": "markdown",
      "metadata": {
        "id": "FyNFHnuKXeTe"
      },
      "source": [
        "![green-divider](https://user-images.githubusercontent.com/7065401/52071924-c003ad80-2562-11e9-8297-1c6595f8a7ff.png)\n",
        "\n",
        "### Given the X numpy matrix, show the middle row elements"
      ]
    },
    {
      "cell_type": "code",
      "execution_count": null,
      "metadata": {
        "id": "L2175UOCXeTe",
        "colab": {
          "base_uri": "https://localhost:8080/"
        },
        "outputId": "4e7fc092-b0d3-46a7-f139-506aca2ea73e"
      },
      "outputs": [
        {
          "output_type": "execute_result",
          "data": {
            "text/plain": [
              "array([[ 6,  7],\n",
              "       [10, 11]])"
            ]
          },
          "metadata": {},
          "execution_count": 217
        }
      ],
      "source": [
        "X = np.array([\n",
        "    [1,   2,  3,  4],\n",
        "    [5,   6,  7,  8],\n",
        "    [9,  10, 11, 12],\n",
        "    [13, 14, 15, 16]\n",
        "])\n",
        "\n",
        "X[1:-1, 1:-1]"
      ]
    },
    {
      "cell_type": "markdown",
      "metadata": {
        "id": "2D4ZAU_sXeTe"
      },
      "source": [
        "![green-divider](https://user-images.githubusercontent.com/7065401/52071924-c003ad80-2562-11e9-8297-1c6595f8a7ff.png)\n",
        "\n",
        "### Given the X numpy matrix, show the first two elements on the first two rows"
      ]
    },
    {
      "cell_type": "code",
      "execution_count": null,
      "metadata": {
        "id": "8nsZDRnFXeTe",
        "colab": {
          "base_uri": "https://localhost:8080/"
        },
        "outputId": "18393628-a0da-4d6f-c272-6979d66b4d29"
      },
      "outputs": [
        {
          "output_type": "stream",
          "name": "stdout",
          "text": [
            "[[5 2 9]\n",
            " [3 7 8]\n",
            " [3 7 9]]\n",
            "\n",
            "[[5 2]\n",
            " [3 7]]\n"
          ]
        }
      ],
      "source": [
        "print(y)\n",
        "print()\n",
        "def first_two(y):\n",
        "  return (y[0:2, 0:2])\n",
        "print(first_two(y))"
      ]
    },
    {
      "cell_type": "markdown",
      "metadata": {
        "id": "W5AtjZ3uXeTe"
      },
      "source": [
        "![green-divider](https://user-images.githubusercontent.com/7065401/52071924-c003ad80-2562-11e9-8297-1c6595f8a7ff.png)\n",
        "\n",
        "### Given the X numpy matrix, show the last two elements on the last two rows"
      ]
    },
    {
      "cell_type": "code",
      "execution_count": null,
      "metadata": {
        "id": "TnqHW-U1XeTe",
        "colab": {
          "base_uri": "https://localhost:8080/"
        },
        "outputId": "fe58b4cf-b7d1-46bd-fef4-ded90c195fd8"
      },
      "outputs": [
        {
          "output_type": "stream",
          "name": "stdout",
          "text": [
            "[[5 2 9]\n",
            " [3 7 8]\n",
            " [3 7 9]]\n",
            "\n",
            "[[7 8]\n",
            " [7 9]]\n"
          ]
        }
      ],
      "source": [
        "print(y)\n",
        "print()\n",
        "def last_two(y):\n",
        "  return (y[-2:, -2:])\n",
        "print(last_two(y))"
      ]
    },
    {
      "cell_type": "markdown",
      "metadata": {
        "id": "2DK_GNP4XeTf"
      },
      "source": [
        "![purple-divider](https://user-images.githubusercontent.com/7065401/52071927-c1cd7100-2562-11e9-908a-dde91ba14e59.png)\n",
        "\n",
        "## Array manipulation\n"
      ]
    },
    {
      "cell_type": "markdown",
      "metadata": {
        "id": "euIL3YPcXeTf"
      },
      "source": [
        "### Convert the given integer numpy array to float"
      ]
    },
    {
      "cell_type": "code",
      "execution_count": null,
      "metadata": {
        "id": "QurXknVSXeTf",
        "colab": {
          "base_uri": "https://localhost:8080/"
        },
        "outputId": "f5ca8318-16e2-4ee8-c938-d75874905924"
      },
      "outputs": [
        {
          "output_type": "stream",
          "name": "stdout",
          "text": [
            "[1 2 3 4 5 6 7 8]\n",
            "[1. 2. 3. 4. 5. 6. 7. 8.]\n"
          ]
        }
      ],
      "source": [
        "z = np.arange(1, 9)\n",
        "print(z)\n",
        "b = z.astype(float)\n",
        "print(b)"
      ]
    },
    {
      "cell_type": "markdown",
      "metadata": {
        "id": "hoZvfcnOXeTf"
      },
      "source": [
        "![green-divider](https://user-images.githubusercontent.com/7065401/52071924-c003ad80-2562-11e9-8297-1c6595f8a7ff.png)\n",
        "\n",
        "### Reverse the given numpy array (first element becomes last)"
      ]
    },
    {
      "cell_type": "code",
      "execution_count": null,
      "metadata": {
        "id": "nKNwo37BXeTf",
        "colab": {
          "base_uri": "https://localhost:8080/"
        },
        "outputId": "31119762-6bb8-4b31-df31-69d8765cc192"
      },
      "outputs": [
        {
          "output_type": "stream",
          "name": "stdout",
          "text": [
            "[8 7 6 5 4 3 2 1]\n"
          ]
        }
      ],
      "source": [
        "y = z[::-1]\n",
        "print(y)"
      ]
    },
    {
      "cell_type": "markdown",
      "metadata": {
        "id": "uVb0gjUBXeTf"
      },
      "source": [
        "![green-divider](https://user-images.githubusercontent.com/7065401/52071924-c003ad80-2562-11e9-8297-1c6595f8a7ff.png)\n",
        "\n",
        "### Order (sort) the given numpy array"
      ]
    },
    {
      "cell_type": "code",
      "execution_count": null,
      "metadata": {
        "id": "x8KlLTSDXeTf",
        "colab": {
          "base_uri": "https://localhost:8080/"
        },
        "outputId": "5a446d70-f54a-445c-8a72-ff1600485987"
      },
      "outputs": [
        {
          "output_type": "stream",
          "name": "stdout",
          "text": [
            "[1 2 3 4 5 6 7 8]\n"
          ]
        }
      ],
      "source": [
        "def sort_it(x):\n",
        "  x.sort()\n",
        "  return x\n",
        "print(sort_it(y))"
      ]
    },
    {
      "cell_type": "markdown",
      "metadata": {
        "id": "Qm513QuKXeTf"
      },
      "source": [
        "![green-divider](https://user-images.githubusercontent.com/7065401/52071924-c003ad80-2562-11e9-8297-1c6595f8a7ff.png)\n",
        "\n",
        "### Given the X numpy array, set the fifth element equal to 1"
      ]
    },
    {
      "cell_type": "code",
      "execution_count": null,
      "metadata": {
        "id": "b4gTSXf-XeTf",
        "colab": {
          "base_uri": "https://localhost:8080/"
        },
        "outputId": "0d291d42-38cd-40fe-a7ed-486cc473d401"
      },
      "outputs": [
        {
          "output_type": "stream",
          "name": "stdout",
          "text": [
            "[1 2 3 4 1 6 7 8]\n"
          ]
        }
      ],
      "source": [
        "def fifth_one(x):\n",
        "  x[4] = 1\n",
        "  return x\n",
        "print(fifth_one(y))"
      ]
    },
    {
      "cell_type": "markdown",
      "metadata": {
        "id": "YT2PU49gXeTf"
      },
      "source": [
        "![green-divider](https://user-images.githubusercontent.com/7065401/52071924-c003ad80-2562-11e9-8297-1c6595f8a7ff.png)\n",
        "\n",
        "### Given the X numpy array, change the 50 with a 40"
      ]
    },
    {
      "cell_type": "code",
      "execution_count": null,
      "metadata": {
        "id": "iCVDcyjqXeTf",
        "colab": {
          "base_uri": "https://localhost:8080/"
        },
        "outputId": "43654db3-163b-4781-e79f-636ab44496b4"
      },
      "outputs": [
        {
          "output_type": "stream",
          "name": "stdout",
          "text": [
            "[40 60 80 70]\n"
          ]
        }
      ],
      "source": [
        "r = np.array([50, 60, 80, 70])\n",
        "def fifty_fourty(x):\n",
        "  x[x == 50] = 40\n",
        "  return x\n",
        "print(fifty_fourty(r))"
      ]
    },
    {
      "cell_type": "markdown",
      "metadata": {
        "id": "ODRMOPvtXeTg"
      },
      "source": [
        "![green-divider](https://user-images.githubusercontent.com/7065401/52071924-c003ad80-2562-11e9-8297-1c6595f8a7ff.png)\n",
        "\n",
        "### Given the X numpy matrix, change the last row with all 1"
      ]
    },
    {
      "cell_type": "code",
      "execution_count": null,
      "metadata": {
        "id": "0O9E5O_DXeTg",
        "colab": {
          "base_uri": "https://localhost:8080/"
        },
        "outputId": "c783ec99-d7fd-408b-f821-217baf55f451"
      },
      "outputs": [
        {
          "output_type": "stream",
          "name": "stdout",
          "text": [
            "[[8 4 3]\n",
            " [5 2 4]\n",
            " [7 2 4]]\n",
            "\n",
            "[[8 4 3]\n",
            " [5 2 4]\n",
            " [1 1 1]]\n"
          ]
        }
      ],
      "source": [
        "r = np.random.randint(1, 10, size = (3, 3))\n",
        "print(r)\n",
        "print()\n",
        "def last_one(x):\n",
        "  x[-1] = np.ones(shape = (1, len(x)))\n",
        "  return x\n",
        "print(last_one(r))"
      ]
    },
    {
      "cell_type": "markdown",
      "metadata": {
        "id": "zffhfLkiXeTg"
      },
      "source": [
        "![green-divider](https://user-images.githubusercontent.com/7065401/52071924-c003ad80-2562-11e9-8297-1c6595f8a7ff.png)\n",
        "\n",
        "### Given the X numpy matrix, change the last item on the last row with a 0"
      ]
    },
    {
      "cell_type": "code",
      "execution_count": null,
      "metadata": {
        "id": "SBIi1OGSXeTg",
        "colab": {
          "base_uri": "https://localhost:8080/"
        },
        "outputId": "de80f966-9860-4f78-96af-73e72baee3f5"
      },
      "outputs": [
        {
          "output_type": "stream",
          "name": "stdout",
          "text": [
            "[[1 4 6]\n",
            " [1 7 4]\n",
            " [4 9 1]]\n",
            "\n",
            "[[1 4 6]\n",
            " [1 7 4]\n",
            " [0 0 0]]\n"
          ]
        }
      ],
      "source": [
        "r = np.random.randint(1, 10, size = (3, 3))\n",
        "print(r)\n",
        "print()\n",
        "def last_zero(x):\n",
        "  x[-1] = np.zeros(shape = (1, len(x)))\n",
        "  return x\n",
        "print(last_zero(r))"
      ]
    },
    {
      "cell_type": "markdown",
      "metadata": {
        "id": "vX2U1OI2XeTg"
      },
      "source": [
        "![green-divider](https://user-images.githubusercontent.com/7065401/52071924-c003ad80-2562-11e9-8297-1c6595f8a7ff.png)\n",
        "\n",
        "### Given the X numpy matrix, add 5 to every element"
      ]
    },
    {
      "cell_type": "code",
      "execution_count": null,
      "metadata": {
        "id": "Z_HKiFasXeTg",
        "colab": {
          "base_uri": "https://localhost:8080/"
        },
        "outputId": "cbbf5faa-b7f0-4376-f1ae-8fd096a235c4"
      },
      "outputs": [
        {
          "output_type": "stream",
          "name": "stdout",
          "text": [
            "[[1 6 1]\n",
            " [7 8 3]\n",
            " [9 4 6]]\n",
            "\n",
            "[[ 6 11  6]\n",
            " [12 13  8]\n",
            " [14  9 11]]\n"
          ]
        }
      ],
      "source": [
        "r = np.random.randint(1, 10, size = (3, 3))\n",
        "print(r)\n",
        "print()\n",
        "def add_five(x):\n",
        "  return x + 5\n",
        "print(add_five(r))"
      ]
    },
    {
      "cell_type": "markdown",
      "metadata": {
        "id": "vM3WUYinXeTg"
      },
      "source": [
        "![purple-divider](https://user-images.githubusercontent.com/7065401/52071927-c1cd7100-2562-11e9-908a-dde91ba14e59.png)\n",
        "\n",
        "## Boolean arrays _(also called masks)_\n"
      ]
    },
    {
      "cell_type": "markdown",
      "metadata": {
        "id": "89FXya3lXeTg"
      },
      "source": [
        "### Given the X numpy array, make a mask showing negative elements"
      ]
    },
    {
      "cell_type": "code",
      "execution_count": null,
      "metadata": {
        "id": "n7-JZH_aXeTg",
        "colab": {
          "base_uri": "https://localhost:8080/"
        },
        "outputId": "b47fcb0d-9385-49d8-cb40-1320dca5fd1c"
      },
      "outputs": [
        {
          "output_type": "stream",
          "name": "stdout",
          "text": [
            "[-5 -4 -3 -2 -1  0  1  2  3  4  5  6  7  8  9]\n"
          ]
        },
        {
          "output_type": "execute_result",
          "data": {
            "text/plain": [
              "array([-5, -4, -3, -2, -1])"
            ]
          },
          "metadata": {},
          "execution_count": 165
        }
      ],
      "source": [
        "x = np.arange(-5, 10)\n",
        "print(x)\n",
        "x[x<0]"
      ]
    },
    {
      "cell_type": "markdown",
      "metadata": {
        "id": "rgEZ-rCEXeTg"
      },
      "source": [
        "![green-divider](https://user-images.githubusercontent.com/7065401/52071924-c003ad80-2562-11e9-8297-1c6595f8a7ff.png)\n",
        "\n",
        "### Given the X numpy array, get the negative elements"
      ]
    },
    {
      "cell_type": "code",
      "execution_count": null,
      "metadata": {
        "id": "m0MpMauXXeTh",
        "colab": {
          "base_uri": "https://localhost:8080/"
        },
        "outputId": "58258b45-88b2-494f-b500-0deaa149c2e5"
      },
      "outputs": [
        {
          "output_type": "stream",
          "name": "stdout",
          "text": [
            "[-4  0  0 -2 -1 -5  2 -5]\n"
          ]
        },
        {
          "output_type": "execute_result",
          "data": {
            "text/plain": [
              "array([-4, -2, -1, -5, -5])"
            ]
          },
          "metadata": {},
          "execution_count": 152
        }
      ],
      "source": [
        "x = np.random.randint(-5, 6, 8)\n",
        "print(x)\n",
        "x[x<0]"
      ]
    },
    {
      "cell_type": "markdown",
      "metadata": {
        "id": "s8hyw5pAXeTh"
      },
      "source": [
        "![green-divider](https://user-images.githubusercontent.com/7065401/52071924-c003ad80-2562-11e9-8297-1c6595f8a7ff.png)\n",
        "\n",
        "### Given the X numpy array, get numbers higher than 5"
      ]
    },
    {
      "cell_type": "code",
      "execution_count": null,
      "metadata": {
        "id": "-jTaJv31XeTh",
        "colab": {
          "base_uri": "https://localhost:8080/"
        },
        "outputId": "561aa89e-4d27-4adf-f2b3-96c5e1dc4f32"
      },
      "outputs": [
        {
          "output_type": "stream",
          "name": "stdout",
          "text": [
            "[ 1  2 14  5  3 14  4  1]\n"
          ]
        },
        {
          "output_type": "execute_result",
          "data": {
            "text/plain": [
              "array([14, 14])"
            ]
          },
          "metadata": {},
          "execution_count": 153
        }
      ],
      "source": [
        "x = np.random.randint(-5, 15, 8)\n",
        "print(x)\n",
        "x[x>5]"
      ]
    },
    {
      "cell_type": "markdown",
      "metadata": {
        "id": "5hYxemhSXeTh"
      },
      "source": [
        "![green-divider](https://user-images.githubusercontent.com/7065401/52071924-c003ad80-2562-11e9-8297-1c6595f8a7ff.png)\n",
        "\n",
        "### Given the X numpy array, get numbers higher than the elements mean"
      ]
    },
    {
      "cell_type": "code",
      "execution_count": null,
      "metadata": {
        "id": "q8K1d5M_XeTh",
        "colab": {
          "base_uri": "https://localhost:8080/"
        },
        "outputId": "38fd0746-32de-4654-a564-ea41ffccd1cd"
      },
      "outputs": [
        {
          "output_type": "stream",
          "name": "stdout",
          "text": [
            "[ 1 -3 -3  0 -3 -4 -1  1]\n",
            "-1.5\n"
          ]
        },
        {
          "output_type": "execute_result",
          "data": {
            "text/plain": [
              "array([ 1,  0, -1,  1])"
            ]
          },
          "metadata": {},
          "execution_count": 155
        }
      ],
      "source": [
        "x = np.random.randint(-5, 6, 8)\n",
        "print(x)\n",
        "print(x.mean())\n",
        "x[x > x.mean()]"
      ]
    },
    {
      "cell_type": "markdown",
      "metadata": {
        "id": "yjTCambqXeTh"
      },
      "source": [
        "![green-divider](https://user-images.githubusercontent.com/7065401/52071924-c003ad80-2562-11e9-8297-1c6595f8a7ff.png)\n",
        "\n",
        "### Given the X numpy array, get numbers equal to 2 or 10"
      ]
    },
    {
      "cell_type": "code",
      "execution_count": null,
      "metadata": {
        "id": "RywE8VKjXeTh",
        "colab": {
          "base_uri": "https://localhost:8080/"
        },
        "outputId": "8c4b249c-9f77-4fe2-bac1-fcf3f040ca99"
      },
      "outputs": [
        {
          "output_type": "stream",
          "name": "stdout",
          "text": [
            "[ 3  2  6  5  4 10  6 10]\n"
          ]
        },
        {
          "output_type": "execute_result",
          "data": {
            "text/plain": [
              "array([ 2, 10, 10])"
            ]
          },
          "metadata": {},
          "execution_count": 168
        }
      ],
      "source": [
        "x = np.random.randint(2, 11, 8)\n",
        "print(x)\n",
        "x[np.isin(x, [2, 10])]"
      ]
    },
    {
      "cell_type": "markdown",
      "metadata": {
        "id": "2-EoKZ-6XeTh"
      },
      "source": [
        "![purple-divider](https://user-images.githubusercontent.com/7065401/52071927-c1cd7100-2562-11e9-908a-dde91ba14e59.png)\n",
        "\n",
        "## Logic functions\n"
      ]
    },
    {
      "cell_type": "markdown",
      "metadata": {
        "id": "YWFAaqhwXeTh"
      },
      "source": [
        "### Given the X numpy array, return True if none of its elements is zero"
      ]
    },
    {
      "cell_type": "code",
      "execution_count": null,
      "metadata": {
        "id": "Kn3YxwJMXeTh",
        "colab": {
          "base_uri": "https://localhost:8080/"
        },
        "outputId": "a0a707ec-10cd-4d7f-c9b4-0d4e76b2748e"
      },
      "outputs": [
        {
          "output_type": "stream",
          "name": "stdout",
          "text": [
            "[ 4  3  4  2 -1 -2 -2 -1]\n",
            "True\n"
          ]
        }
      ],
      "source": [
        "x = np.random.randint(-5, 5, 8)\n",
        "print(x)\n",
        "def no_zero(x):\n",
        "  if (len(x[x == 0]) == 0):\n",
        "    return True\n",
        "  else: \n",
        "    return False\n",
        "\n",
        "print(no_zero(x))"
      ]
    },
    {
      "cell_type": "markdown",
      "metadata": {
        "id": "pOWxL1JEXeTh"
      },
      "source": [
        "![green-divider](https://user-images.githubusercontent.com/7065401/52071924-c003ad80-2562-11e9-8297-1c6595f8a7ff.png)\n",
        "\n",
        "### Given the X numpy array, return True if any of its elements is zero"
      ]
    },
    {
      "cell_type": "code",
      "execution_count": null,
      "metadata": {
        "id": "avB_7dZxXeTi",
        "colab": {
          "base_uri": "https://localhost:8080/"
        },
        "outputId": "979e32dd-601a-48c0-aec5-5fd83ace490d"
      },
      "outputs": [
        {
          "output_type": "stream",
          "name": "stdout",
          "text": [
            "[ 3 -2 -5  0 -2  1  4  2]\n",
            "True\n"
          ]
        }
      ],
      "source": [
        "x = np.random.randint(-5, 5, 8)\n",
        "print(x)\n",
        "def one_zero(x):\n",
        "  if (len(x[x == 0]) > 0):\n",
        "    return True\n",
        "  else: \n",
        "    return False\n",
        "\n",
        "print(one_zero(x))"
      ]
    },
    {
      "cell_type": "markdown",
      "metadata": {
        "id": "WUDmttK3XeTi"
      },
      "source": [
        "![purple-divider](https://user-images.githubusercontent.com/7065401/52071927-c1cd7100-2562-11e9-908a-dde91ba14e59.png)\n",
        "\n",
        "## Summary statistics"
      ]
    },
    {
      "cell_type": "markdown",
      "metadata": {
        "id": "vLTDHvHaXeTi"
      },
      "source": [
        "### Given the X numpy array, show the sum of its elements"
      ]
    },
    {
      "cell_type": "code",
      "execution_count": null,
      "metadata": {
        "id": "DdfQVbB_XeTi",
        "colab": {
          "base_uri": "https://localhost:8080/"
        },
        "outputId": "4cc5de0b-f844-4af4-a958-4e82e59ee559"
      },
      "outputs": [
        {
          "output_type": "stream",
          "name": "stdout",
          "text": [
            "[ 4 -3 -1 -2  4  3  2  4]\n",
            "11\n"
          ]
        }
      ],
      "source": [
        "x = np.random.randint(-5, 5, 8)\n",
        "print(x)\n",
        "print(x.sum())"
      ]
    },
    {
      "cell_type": "markdown",
      "metadata": {
        "id": "OSVQC1biXeTi"
      },
      "source": [
        "![green-divider](https://user-images.githubusercontent.com/7065401/52071924-c003ad80-2562-11e9-8297-1c6595f8a7ff.png)\n",
        "\n",
        "### Given the X numpy array, show the mean value of its elements"
      ]
    },
    {
      "cell_type": "code",
      "execution_count": null,
      "metadata": {
        "id": "w0hm9a2mXeTi",
        "colab": {
          "base_uri": "https://localhost:8080/"
        },
        "outputId": "5a806b99-e530-45b6-cf6c-86d125c3b780"
      },
      "outputs": [
        {
          "output_type": "stream",
          "name": "stdout",
          "text": [
            "[-4  0 -2 -4  0 -3  2 -5]\n",
            "-2.0\n"
          ]
        }
      ],
      "source": [
        "x = np.random.randint(-5, 5, 8)\n",
        "print(x)\n",
        "print(x.mean())"
      ]
    },
    {
      "cell_type": "markdown",
      "metadata": {
        "id": "g-7k8DGyXeTi"
      },
      "source": [
        "![green-divider](https://user-images.githubusercontent.com/7065401/52071924-c003ad80-2562-11e9-8297-1c6595f8a7ff.png)\n",
        "\n",
        "### Given the X numpy matrix, show the sum of its columns"
      ]
    },
    {
      "cell_type": "code",
      "execution_count": null,
      "metadata": {
        "id": "qEJngKCZXeTi",
        "colab": {
          "base_uri": "https://localhost:8080/"
        },
        "outputId": "09ddfe50-8be2-4c68-882c-68dbdfbd38d2"
      },
      "outputs": [
        {
          "output_type": "stream",
          "name": "stdout",
          "text": [
            "[[ 0  2 -5  1]\n",
            " [-1 -2 -3  3]\n",
            " [-4 -5 -2  1]]\n",
            "\n",
            "[ -5  -5 -10   5]\n"
          ]
        }
      ],
      "source": [
        "x = np.random.randint(-5, 5, size = (3, 4))\n",
        "print(x)\n",
        "print()\n",
        "print(x.sum(axis = 0))"
      ]
    },
    {
      "cell_type": "markdown",
      "metadata": {
        "id": "0qnExH0LXeTi"
      },
      "source": [
        "![green-divider](https://user-images.githubusercontent.com/7065401/52071924-c003ad80-2562-11e9-8297-1c6595f8a7ff.png)\n",
        "\n",
        "### Given the X numpy matrix, show the mean value of its rows"
      ]
    },
    {
      "cell_type": "code",
      "execution_count": null,
      "metadata": {
        "id": "Ep09QSBbXeTi",
        "colab": {
          "base_uri": "https://localhost:8080/"
        },
        "outputId": "d76d0865-dd96-4f12-dded-c55d4c54b1f6"
      },
      "outputs": [
        {
          "output_type": "stream",
          "name": "stdout",
          "text": [
            "[[ 3 -1 -3  0]\n",
            " [-4 -3 -5 -2]\n",
            " [-3  4  3 -1]]\n",
            "\n",
            "[ -1 -14   3]\n"
          ]
        }
      ],
      "source": [
        "x = np.random.randint(-5, 5, size = (3, 4))\n",
        "print(x)\n",
        "print()\n",
        "print(x.sum(axis = 1))"
      ]
    },
    {
      "cell_type": "markdown",
      "metadata": {
        "id": "UHV482S2XeTj"
      },
      "source": [
        "![green-divider](https://user-images.githubusercontent.com/7065401/52071924-c003ad80-2562-11e9-8297-1c6595f8a7ff.png)\n",
        "\n",
        "### Given the X numpy array, show the max value of its elements"
      ]
    },
    {
      "cell_type": "code",
      "execution_count": null,
      "metadata": {
        "id": "pWE9TDDcXeTj",
        "colab": {
          "base_uri": "https://localhost:8080/"
        },
        "outputId": "dffa3577-9e86-48e6-841e-23eec06a6ff3"
      },
      "outputs": [
        {
          "output_type": "stream",
          "name": "stdout",
          "text": [
            "[[-3  3 -1 -5]\n",
            " [ 0  0  2 -2]\n",
            " [-2 -3  0 -3]]\n",
            "3\n"
          ]
        }
      ],
      "source": [
        "x = np.random.randint(-5, 5, size = (3, 4))\n",
        "print(x)\n",
        "print(x.max())"
      ]
    },
    {
      "cell_type": "markdown",
      "metadata": {
        "id": "sfFu1i4tXeTj"
      },
      "source": [
        "![purple-divider](https://user-images.githubusercontent.com/7065401/52071927-c1cd7100-2562-11e9-908a-dde91ba14e59.png)"
      ]
    }
  ],
  "metadata": {
    "kernelspec": {
      "display_name": "Python 3",
      "language": "python",
      "name": "python3"
    },
    "language_info": {
      "codemirror_mode": {
        "name": "ipython",
        "version": 3
      },
      "file_extension": ".py",
      "mimetype": "text/x-python",
      "name": "python",
      "nbconvert_exporter": "python",
      "pygments_lexer": "ipython3",
      "version": "3.8.1"
    },
    "colab": {
      "name": "day_5: NumPy exercises.ipynb",
      "provenance": [],
      "collapsed_sections": [],
      "include_colab_link": true
    }
  },
  "nbformat": 4,
  "nbformat_minor": 0
}